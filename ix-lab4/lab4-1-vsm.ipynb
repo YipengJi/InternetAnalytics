{
 "cells": [
  {
   "cell_type": "markdown",
   "metadata": {},
   "source": [
    "# Text 1: Vector space models\n",
    "**Internet Analytics - Lab 4**\n",
    "\n",
    "---\n",
    "\n",
    "**Group:** *J*\n",
    "\n",
    "**Names:**\n",
    "\n",
    "* *Dennis Gankin*\n",
    "* *ZHANG Yuan*\n",
    "* *JI Yipeng*\n",
    "\n",
    "---\n",
    "\n",
    "#### Instructions\n",
    "\n",
    "*This is a template for part 1 of the lab. Clearly write your answers, comments and interpretations in Markodown cells. Don't forget that you can add $\\LaTeX$ equations in these cells. Feel free to add or remove any cell.*\n",
    "\n",
    "*Please properly comment your code. Code readability will be considered for grading. To avoid long cells of codes in the notebook, you can also embed long python functions and classes in a separate module. Don’t forget to hand in your module if that is the case. In multiple exercises, you are required to come up with your own method to solve various problems. Be creative and clearly motivate and explain your methods. Creativity and clarity will be considered for grading.*"
   ]
  },
  {
   "cell_type": "code",
   "execution_count": 12,
   "metadata": {
    "collapsed": true
   },
   "outputs": [],
   "source": [
    "import pickle\n",
    "import numpy as np\n",
    "from scipy.sparse import csr_matrix\n",
    "from utils import load_json, load_pkl\n",
    "\n",
    "courses = load_json('data/courses.txt')\n",
    "stopwords = load_pkl('data/stopwords.pkl')"
   ]
  },
  {
   "cell_type": "code",
   "execution_count": 13,
   "metadata": {},
   "outputs": [
    {
     "name": "stdout",
     "output_type": "stream",
     "text": [
      "{'courseId': 'MSE-440', 'name': 'Composites technology', 'description': \"The latest developments in processing and the novel generations of organic composites are discussed. Nanocomposites, adaptive composites and biocomposites are presented. Product development, cost analysis and study of new markets are practiced in team work. Content Basics of composite materialsConstituentsProcessing of compositesDesign of composite structures\\xa0Current developmentNanocomposites Textile compositesBiocompositesAdaptive composites\\xa0ApplicationsDriving forces and marketsCost analysisAerospaceAutomotiveSport Keywords Composites - Applications - Nanocomposites - Biocomposites - Adaptive composites - Design - Cost Learning Prerequisites Required courses Notion of polymers Recommended courses Polymer Composites Learning Outcomes By the end of the course, the student must be able to: Propose suitable design, production and performance criteria for the production of a composite partApply the basic equations for process and mechanical properties modelling for composite materialsDiscuss the main types of composite applications Transversal skills Use a work methodology appropriate to the task.Use both general and domain specific IT resources and toolsCommunicate effectively with professionals from other disciplines.Evaluate one's own performance in the team, receive and respond appropriately to feedback. Teaching methods Ex cathedra and invited speakers Group sessions with exercises or work on the project Expected student activities Attendance at lectures Design of a composite part, bibliography search \\xa0 Assessment methods Written exam report and oral presentation in class\"}\n"
     ]
    }
   ],
   "source": [
    "print(courses[0])"
   ]
  },
  {
   "cell_type": "markdown",
   "metadata": {},
   "source": [
    "## Exercise 4.1: Pre-processing"
   ]
  },
  {
   "cell_type": "code",
   "execution_count": 14,
   "metadata": {
    "collapsed": true
   },
   "outputs": [],
   "source": [
    "#add punctiation to the stop words, to remove it, too\n",
    "punctuation=set({'’', '=', '-', '/', '{', '#', '.,', '):', '\"', '(', '$', '`', ');', ',', ')', '+', '?', \"'\", '.', '\\t', '\\n', '|', '}', '://', '%).', '[', '),', '_', '^', '”', ';', '%', '&', '<', '>', ':', '\\\\', '~', '*', '!', ']', '\",', ').', '&)', '@'})\n",
    "stopwords.update(punctuation)"
   ]
  },
  {
   "cell_type": "code",
   "execution_count": 15,
   "metadata": {
    "collapsed": true
   },
   "outputs": [],
   "source": [
    "#a function that reads a list and return the bi- and tri-gram of consecutive items from the list appended at the end of list \n",
    "def bitrigrams(l):\n",
    "    zip1 = list(zip(l, l[1:]))\n",
    "    zip2 = list(zip(l, l[1:], l[2:]))   \n",
    "    bil = [str(tup[0])+' '+str(tup[1]) for tup in zip1]\n",
    "    tril = [str(tup[0])+' '+str(tup[1])+' '+str(tup[2]) for tup in zip2]  \n",
    "    return l+bil+tril"
   ]
  },
  {
   "cell_type": "code",
   "execution_count": 16,
   "metadata": {
    "collapsed": true
   },
   "outputs": [],
   "source": [
    "def digit_split(s):\n",
    "    return list(filter(None, re.split(r'(\\d+)', s)))\n",
    "\n",
    "\n",
    "#import natural language toolkit for processing\n",
    "import nltk\n",
    "from nltk.tokenize import word_tokenize \n",
    "from nltk.stem.porter import *\n",
    "import re\n",
    "\n",
    "def preprocess(course_list):\n",
    "    #removing stopwords, punctuation, splitting numbers and words\n",
    "    \n",
    "\n",
    "    #dict to count frequency\n",
    "    word_freq = {}\n",
    "    processed_courses= course_list.copy()\n",
    "\n",
    "    for course_id, course in enumerate(courses):\n",
    "        #preprocess the description\n",
    "        description = course['description']\n",
    "        \n",
    "        \n",
    "        wordlist = []\n",
    "        for line in word_tokenize(description):\n",
    "            line = line.lower() # to lowercase\n",
    "            line = digit_split(line) #split words concatinated with a number (without space inbetween)\n",
    "            \n",
    "            for word in line:\n",
    "                #remove stopwords and puctuation and check if word alphabetic (probably unneccessary)\n",
    "                if (word not in stopwords) and word.isalpha(): \n",
    "                    wordlist.append(word)\n",
    "                    #add to frequency list\n",
    "                    word_freq[word]=word_freq.get(word,0)+1\n",
    "                    \n",
    "        processed_courses[course_id]['wordlist'] = wordlist\n",
    "    \n",
    "    return processed_courses,nltk.FreqDist(word_freq)\n",
    "\n"
   ]
  },
  {
   "cell_type": "code",
   "execution_count": 17,
   "metadata": {
    "collapsed": true
   },
   "outputs": [],
   "source": [
    "processed_courses,word_freq=preprocess(courses)"
   ]
  },
  {
   "cell_type": "code",
   "execution_count": 18,
   "metadata": {},
   "outputs": [
    {
     "name": "stdout",
     "output_type": "stream",
     "text": [
      "{'courseId': 'MSE-440', 'name': 'Composites technology', 'description': \"The latest developments in processing and the novel generations of organic composites are discussed. Nanocomposites, adaptive composites and biocomposites are presented. Product development, cost analysis and study of new markets are practiced in team work. Content Basics of composite materialsConstituentsProcessing of compositesDesign of composite structures\\xa0Current developmentNanocomposites Textile compositesBiocompositesAdaptive composites\\xa0ApplicationsDriving forces and marketsCost analysisAerospaceAutomotiveSport Keywords Composites - Applications - Nanocomposites - Biocomposites - Adaptive composites - Design - Cost Learning Prerequisites Required courses Notion of polymers Recommended courses Polymer Composites Learning Outcomes By the end of the course, the student must be able to: Propose suitable design, production and performance criteria for the production of a composite partApply the basic equations for process and mechanical properties modelling for composite materialsDiscuss the main types of composite applications Transversal skills Use a work methodology appropriate to the task.Use both general and domain specific IT resources and toolsCommunicate effectively with professionals from other disciplines.Evaluate one's own performance in the team, receive and respond appropriately to feedback. Teaching methods Ex cathedra and invited speakers Group sessions with exercises or work on the project Expected student activities Attendance at lectures Design of a composite part, bibliography search \\xa0 Assessment methods Written exam report and oral presentation in class\", 'wordlist': ['latest', 'developments', 'processing', 'generations', 'organic', 'composites', 'discussed', 'nanocomposites', 'adaptive', 'composites', 'biocomposites', 'presented', 'product', 'development', 'cost', 'analysis', 'study', 'markets', 'practiced', 'team', 'work', 'content', 'basics', 'composite', 'materialsconstituentsprocessing', 'compositesdesign', 'composite', 'structures', 'current', 'developmentnanocomposites', 'textile', 'compositesbiocompositesadaptive', 'composites', 'applicationsdriving', 'forces', 'marketscost', 'analysisaerospaceautomotivesport', 'keywords', 'composites', 'applications', 'nanocomposites', 'biocomposites', 'adaptive', 'composites', 'design', 'cost', 'learning', 'prerequisites', 'required', 'courses', 'notion', 'polymers', 'recommended', 'courses', 'polymer', 'composites', 'learning', 'outcomes', 'end', 'student', 'propose', 'suitable', 'design', 'production', 'performance', 'criteria', 'production', 'composite', 'partapply', 'basic', 'equations', 'process', 'mechanical', 'properties', 'modelling', 'composite', 'materialsdiscuss', 'main', 'types', 'composite', 'applications', 'transversal', 'skills', 'work', 'methodology', 'general', 'domain', 'specific', 'resources', 'toolscommunicate', 'effectively', 'professionals', 'performance', 'team', 'receive', 'respond', 'appropriately', 'feedback', 'teaching', 'methods', 'cathedra', 'invited', 'speakers', 'group', 'sessions', 'exercises', 'work', 'project', 'expected', 'student', 'activities', 'attendance', 'lectures', 'design', 'composite', 'part', 'bibliography', 'search', 'assessment', 'methods', 'written', 'exam', 'report', 'oral', 'presentation', 'class']}\n"
     ]
    }
   ],
   "source": [
    "print (processed_courses[0])"
   ]
  },
  {
   "cell_type": "code",
   "execution_count": 19,
   "metadata": {},
   "outputs": [
    {
     "data": {
      "image/png": "[encoded data removed]",
      "text/plain": [
       "<matplotlib.figure.Figure at 0x1a15994f60>"
      ]
     },
     "metadata": {},
     "output_type": "display_data"
    }
   ],
   "source": [
    "word_freq.plot(35,cumulative=False)"
   ]
  },
  {
   "cell_type": "code",
   "execution_count": 20,
   "metadata": {
    "collapsed": true
   },
   "outputs": [],
   "source": [
    "#TODO: chose amount of words to filter how do we do the filtering? how many of the most frequent to delete?"
   ]
  },
  {
   "cell_type": "code",
   "execution_count": 21,
   "metadata": {
    "collapsed": true
   },
   "outputs": [],
   "source": [
    "#todo get leats frequent words\n",
    "most_frequent=[word[0] for word in word_freq.most_common(10)]"
   ]
  },
  {
   "cell_type": "code",
   "execution_count": 22,
   "metadata": {
    "collapsed": true
   },
   "outputs": [],
   "source": [
    "def delete_words(course_list, to_delete):\n",
    "    #removing stopwords, punctuation, splitting numbers and words\n",
    "    \n",
    "\n",
    "    #dict to count frequency\n",
    "    word_freq = {}\n",
    "    processed_courses= course_list.copy()\n",
    "\n",
    "    for course_id, course in enumerate(course_list):\n",
    "        #preprocess the description\n",
    "        wordlist = course['wordlist']\n",
    "        \n",
    "        \n",
    "        new_word_list = []\n",
    "        for word in wordlist:\n",
    "            #remove words to be deleted\n",
    "            if (word not in to_delete): \n",
    "                new_word_list.append(word)\n",
    "                #add to frequency list\n",
    "                word_freq[word]=word_freq.get(word,0)+1\n",
    "                    \n",
    "        processed_courses[course_id]['cut_wordlist'] = new_word_list\n",
    "    \n",
    "    return processed_courses,nltk.FreqDist(word_freq)\n"
   ]
  },
  {
   "cell_type": "code",
   "execution_count": 23,
   "metadata": {
    "collapsed": true
   },
   "outputs": [],
   "source": [
    "processed_courses,word_freq=delete_words(courses,most_frequent)"
   ]
  },
  {
   "cell_type": "code",
   "execution_count": 24,
   "metadata": {},
   "outputs": [
    {
     "data": {
      "image/png": "[encoded data removed]",
      "text/plain": [
       "<matplotlib.figure.Figure at 0x1a1b5b0c88>"
      ]
     },
     "metadata": {},
     "output_type": "display_data"
    }
   ],
   "source": [
    "word_freq.plot(35)"
   ]
  },
  {
   "cell_type": "code",
   "execution_count": 34,
   "metadata": {},
   "outputs": [
    {
     "ename": "LookupError",
     "evalue": "\n**********************************************************************\n  Resource 'corpora/wordnet' not found.  Please use the NLTK\n  Downloader to obtain the resource:  >>> nltk.download()\n  Searched in:\n    - '/Users/alex_zy/nltk_data'\n    - '/usr/share/nltk_data'\n    - '/usr/local/share/nltk_data'\n    - '/usr/lib/nltk_data'\n    - '/usr/local/lib/nltk_data'\n**********************************************************************",
     "output_type": "error",
     "traceback": [
      "\u001b[0;31m---------------------------------------------------------------------------\u001b[0m",
      "\u001b[0;31mLookupError\u001b[0m                               Traceback (most recent call last)",
      "\u001b[0;32m~/anaconda3/lib/python3.6/site-packages/nltk/corpus/util.py\u001b[0m in \u001b[0;36m__load\u001b[0;34m(self)\u001b[0m\n\u001b[1;32m     79\u001b[0m             \u001b[0;32mexcept\u001b[0m \u001b[0mLookupError\u001b[0m \u001b[0;32mas\u001b[0m \u001b[0me\u001b[0m\u001b[0;34m:\u001b[0m\u001b[0;34m\u001b[0m\u001b[0m\n\u001b[0;32m---> 80\u001b[0;31m                 \u001b[0;32mtry\u001b[0m\u001b[0;34m:\u001b[0m \u001b[0mroot\u001b[0m \u001b[0;34m=\u001b[0m \u001b[0mnltk\u001b[0m\u001b[0;34m.\u001b[0m\u001b[0mdata\u001b[0m\u001b[0;34m.\u001b[0m\u001b[0mfind\u001b[0m\u001b[0;34m(\u001b[0m\u001b[0;34m'{}/{}'\u001b[0m\u001b[0;34m.\u001b[0m\u001b[0mformat\u001b[0m\u001b[0;34m(\u001b[0m\u001b[0mself\u001b[0m\u001b[0;34m.\u001b[0m\u001b[0msubdir\u001b[0m\u001b[0;34m,\u001b[0m \u001b[0mzip_name\u001b[0m\u001b[0;34m)\u001b[0m\u001b[0;34m)\u001b[0m\u001b[0;34m\u001b[0m\u001b[0m\n\u001b[0m\u001b[1;32m     81\u001b[0m                 \u001b[0;32mexcept\u001b[0m \u001b[0mLookupError\u001b[0m\u001b[0;34m:\u001b[0m \u001b[0;32mraise\u001b[0m \u001b[0me\u001b[0m\u001b[0;34m\u001b[0m\u001b[0m\n",
      "\u001b[0;32m~/anaconda3/lib/python3.6/site-packages/nltk/data.py\u001b[0m in \u001b[0;36mfind\u001b[0;34m(resource_name, paths)\u001b[0m\n\u001b[1;32m    652\u001b[0m     \u001b[0mresource_not_found\u001b[0m \u001b[0;34m=\u001b[0m \u001b[0;34m'\\n%s\\n%s\\n%s'\u001b[0m \u001b[0;34m%\u001b[0m \u001b[0;34m(\u001b[0m\u001b[0msep\u001b[0m\u001b[0;34m,\u001b[0m \u001b[0mmsg\u001b[0m\u001b[0;34m,\u001b[0m \u001b[0msep\u001b[0m\u001b[0;34m)\u001b[0m\u001b[0;34m\u001b[0m\u001b[0m\n\u001b[0;32m--> 653\u001b[0;31m     \u001b[0;32mraise\u001b[0m \u001b[0mLookupError\u001b[0m\u001b[0;34m(\u001b[0m\u001b[0mresource_not_found\u001b[0m\u001b[0;34m)\u001b[0m\u001b[0;34m\u001b[0m\u001b[0m\n\u001b[0m\u001b[1;32m    654\u001b[0m \u001b[0;34m\u001b[0m\u001b[0m\n",
      "\u001b[0;31mLookupError\u001b[0m: \n**********************************************************************\n  Resource 'corpora/wordnet.zip/wordnet/' not found.  Please use\n  the NLTK Downloader to obtain the resource:  >>> nltk.download()\n  Searched in:\n    - '/Users/alex_zy/nltk_data'\n    - '/usr/share/nltk_data'\n    - '/usr/local/share/nltk_data'\n    - '/usr/lib/nltk_data'\n    - '/usr/local/lib/nltk_data'\n**********************************************************************",
      "\nDuring handling of the above exception, another exception occurred:\n",
      "\u001b[0;31mLookupError\u001b[0m                               Traceback (most recent call last)",
      "\u001b[0;32m<ipython-input-34-5d8cddc51e31>\u001b[0m in \u001b[0;36m<module>\u001b[0;34m()\u001b[0m\n\u001b[1;32m     11\u001b[0m \u001b[0;31m# ls = LancasterStemmer()\u001b[0m\u001b[0;34m\u001b[0m\u001b[0;34m\u001b[0m\u001b[0m\n\u001b[1;32m     12\u001b[0m \u001b[0;34m\u001b[0m\u001b[0m\n\u001b[0;32m---> 13\u001b[0;31m \u001b[0mtest\u001b[0m \u001b[0;34m=\u001b[0m \u001b[0mwnl\u001b[0m\u001b[0;34m.\u001b[0m\u001b[0mlemmatize\u001b[0m\u001b[0;34m(\u001b[0m\u001b[0;34m\"studing\"\u001b[0m\u001b[0;34m)\u001b[0m\u001b[0;34m\u001b[0m\u001b[0m\n\u001b[0m\u001b[1;32m     14\u001b[0m \u001b[0;31m# print(test)\u001b[0m\u001b[0;34m\u001b[0m\u001b[0;34m\u001b[0m\u001b[0m\n",
      "\u001b[0;32m~/anaconda3/lib/python3.6/site-packages/nltk/stem/wordnet.py\u001b[0m in \u001b[0;36mlemmatize\u001b[0;34m(self, word, pos)\u001b[0m\n\u001b[1;32m     38\u001b[0m \u001b[0;34m\u001b[0m\u001b[0m\n\u001b[1;32m     39\u001b[0m     \u001b[0;32mdef\u001b[0m \u001b[0mlemmatize\u001b[0m\u001b[0;34m(\u001b[0m\u001b[0mself\u001b[0m\u001b[0;34m,\u001b[0m \u001b[0mword\u001b[0m\u001b[0;34m,\u001b[0m \u001b[0mpos\u001b[0m\u001b[0;34m=\u001b[0m\u001b[0mNOUN\u001b[0m\u001b[0;34m)\u001b[0m\u001b[0;34m:\u001b[0m\u001b[0;34m\u001b[0m\u001b[0m\n\u001b[0;32m---> 40\u001b[0;31m         \u001b[0mlemmas\u001b[0m \u001b[0;34m=\u001b[0m \u001b[0mwordnet\u001b[0m\u001b[0;34m.\u001b[0m\u001b[0m_morphy\u001b[0m\u001b[0;34m(\u001b[0m\u001b[0mword\u001b[0m\u001b[0;34m,\u001b[0m \u001b[0mpos\u001b[0m\u001b[0;34m)\u001b[0m\u001b[0;34m\u001b[0m\u001b[0m\n\u001b[0m\u001b[1;32m     41\u001b[0m         \u001b[0;32mreturn\u001b[0m \u001b[0mmin\u001b[0m\u001b[0;34m(\u001b[0m\u001b[0mlemmas\u001b[0m\u001b[0;34m,\u001b[0m \u001b[0mkey\u001b[0m\u001b[0;34m=\u001b[0m\u001b[0mlen\u001b[0m\u001b[0;34m)\u001b[0m \u001b[0;32mif\u001b[0m \u001b[0mlemmas\u001b[0m \u001b[0;32melse\u001b[0m \u001b[0mword\u001b[0m\u001b[0;34m\u001b[0m\u001b[0m\n\u001b[1;32m     42\u001b[0m \u001b[0;34m\u001b[0m\u001b[0m\n",
      "\u001b[0;32m~/anaconda3/lib/python3.6/site-packages/nltk/corpus/util.py\u001b[0m in \u001b[0;36m__getattr__\u001b[0;34m(self, attr)\u001b[0m\n\u001b[1;32m    114\u001b[0m             \u001b[0;32mraise\u001b[0m \u001b[0mAttributeError\u001b[0m\u001b[0;34m(\u001b[0m\u001b[0;34m\"LazyCorpusLoader object has no attribute '__bases__'\"\u001b[0m\u001b[0;34m)\u001b[0m\u001b[0;34m\u001b[0m\u001b[0m\n\u001b[1;32m    115\u001b[0m \u001b[0;34m\u001b[0m\u001b[0m\n\u001b[0;32m--> 116\u001b[0;31m         \u001b[0mself\u001b[0m\u001b[0;34m.\u001b[0m\u001b[0m__load\u001b[0m\u001b[0;34m(\u001b[0m\u001b[0;34m)\u001b[0m\u001b[0;34m\u001b[0m\u001b[0m\n\u001b[0m\u001b[1;32m    117\u001b[0m         \u001b[0;31m# This looks circular, but its not, since __load() changes our\u001b[0m\u001b[0;34m\u001b[0m\u001b[0;34m\u001b[0m\u001b[0m\n\u001b[1;32m    118\u001b[0m         \u001b[0;31m# __class__ to something new:\u001b[0m\u001b[0;34m\u001b[0m\u001b[0;34m\u001b[0m\u001b[0m\n",
      "\u001b[0;32m~/anaconda3/lib/python3.6/site-packages/nltk/corpus/util.py\u001b[0m in \u001b[0;36m__load\u001b[0;34m(self)\u001b[0m\n\u001b[1;32m     79\u001b[0m             \u001b[0;32mexcept\u001b[0m \u001b[0mLookupError\u001b[0m \u001b[0;32mas\u001b[0m \u001b[0me\u001b[0m\u001b[0;34m:\u001b[0m\u001b[0;34m\u001b[0m\u001b[0m\n\u001b[1;32m     80\u001b[0m                 \u001b[0;32mtry\u001b[0m\u001b[0;34m:\u001b[0m \u001b[0mroot\u001b[0m \u001b[0;34m=\u001b[0m \u001b[0mnltk\u001b[0m\u001b[0;34m.\u001b[0m\u001b[0mdata\u001b[0m\u001b[0;34m.\u001b[0m\u001b[0mfind\u001b[0m\u001b[0;34m(\u001b[0m\u001b[0;34m'{}/{}'\u001b[0m\u001b[0;34m.\u001b[0m\u001b[0mformat\u001b[0m\u001b[0;34m(\u001b[0m\u001b[0mself\u001b[0m\u001b[0;34m.\u001b[0m\u001b[0msubdir\u001b[0m\u001b[0;34m,\u001b[0m \u001b[0mzip_name\u001b[0m\u001b[0;34m)\u001b[0m\u001b[0;34m)\u001b[0m\u001b[0;34m\u001b[0m\u001b[0m\n\u001b[0;32m---> 81\u001b[0;31m                 \u001b[0;32mexcept\u001b[0m \u001b[0mLookupError\u001b[0m\u001b[0;34m:\u001b[0m \u001b[0;32mraise\u001b[0m \u001b[0me\u001b[0m\u001b[0;34m\u001b[0m\u001b[0m\n\u001b[0m\u001b[1;32m     82\u001b[0m \u001b[0;34m\u001b[0m\u001b[0m\n\u001b[1;32m     83\u001b[0m         \u001b[0;31m# Load the corpus.\u001b[0m\u001b[0;34m\u001b[0m\u001b[0;34m\u001b[0m\u001b[0m\n",
      "\u001b[0;32m~/anaconda3/lib/python3.6/site-packages/nltk/corpus/util.py\u001b[0m in \u001b[0;36m__load\u001b[0;34m(self)\u001b[0m\n\u001b[1;32m     76\u001b[0m         \u001b[0;32melse\u001b[0m\u001b[0;34m:\u001b[0m\u001b[0;34m\u001b[0m\u001b[0m\n\u001b[1;32m     77\u001b[0m             \u001b[0;32mtry\u001b[0m\u001b[0;34m:\u001b[0m\u001b[0;34m\u001b[0m\u001b[0m\n\u001b[0;32m---> 78\u001b[0;31m                 \u001b[0mroot\u001b[0m \u001b[0;34m=\u001b[0m \u001b[0mnltk\u001b[0m\u001b[0;34m.\u001b[0m\u001b[0mdata\u001b[0m\u001b[0;34m.\u001b[0m\u001b[0mfind\u001b[0m\u001b[0;34m(\u001b[0m\u001b[0;34m'{}/{}'\u001b[0m\u001b[0;34m.\u001b[0m\u001b[0mformat\u001b[0m\u001b[0;34m(\u001b[0m\u001b[0mself\u001b[0m\u001b[0;34m.\u001b[0m\u001b[0msubdir\u001b[0m\u001b[0;34m,\u001b[0m \u001b[0mself\u001b[0m\u001b[0;34m.\u001b[0m\u001b[0m__name\u001b[0m\u001b[0;34m)\u001b[0m\u001b[0;34m)\u001b[0m\u001b[0;34m\u001b[0m\u001b[0m\n\u001b[0m\u001b[1;32m     79\u001b[0m             \u001b[0;32mexcept\u001b[0m \u001b[0mLookupError\u001b[0m \u001b[0;32mas\u001b[0m \u001b[0me\u001b[0m\u001b[0;34m:\u001b[0m\u001b[0;34m\u001b[0m\u001b[0m\n\u001b[1;32m     80\u001b[0m                 \u001b[0;32mtry\u001b[0m\u001b[0;34m:\u001b[0m \u001b[0mroot\u001b[0m \u001b[0;34m=\u001b[0m \u001b[0mnltk\u001b[0m\u001b[0;34m.\u001b[0m\u001b[0mdata\u001b[0m\u001b[0;34m.\u001b[0m\u001b[0mfind\u001b[0m\u001b[0;34m(\u001b[0m\u001b[0;34m'{}/{}'\u001b[0m\u001b[0;34m.\u001b[0m\u001b[0mformat\u001b[0m\u001b[0;34m(\u001b[0m\u001b[0mself\u001b[0m\u001b[0;34m.\u001b[0m\u001b[0msubdir\u001b[0m\u001b[0;34m,\u001b[0m \u001b[0mzip_name\u001b[0m\u001b[0;34m)\u001b[0m\u001b[0;34m)\u001b[0m\u001b[0;34m\u001b[0m\u001b[0m\n",
      "\u001b[0;32m~/anaconda3/lib/python3.6/site-packages/nltk/data.py\u001b[0m in \u001b[0;36mfind\u001b[0;34m(resource_name, paths)\u001b[0m\n\u001b[1;32m    651\u001b[0m     \u001b[0msep\u001b[0m \u001b[0;34m=\u001b[0m \u001b[0;34m'*'\u001b[0m \u001b[0;34m*\u001b[0m \u001b[0;36m70\u001b[0m\u001b[0;34m\u001b[0m\u001b[0m\n\u001b[1;32m    652\u001b[0m     \u001b[0mresource_not_found\u001b[0m \u001b[0;34m=\u001b[0m \u001b[0;34m'\\n%s\\n%s\\n%s'\u001b[0m \u001b[0;34m%\u001b[0m \u001b[0;34m(\u001b[0m\u001b[0msep\u001b[0m\u001b[0;34m,\u001b[0m \u001b[0mmsg\u001b[0m\u001b[0;34m,\u001b[0m \u001b[0msep\u001b[0m\u001b[0;34m)\u001b[0m\u001b[0;34m\u001b[0m\u001b[0m\n\u001b[0;32m--> 653\u001b[0;31m     \u001b[0;32mraise\u001b[0m \u001b[0mLookupError\u001b[0m\u001b[0;34m(\u001b[0m\u001b[0mresource_not_found\u001b[0m\u001b[0;34m)\u001b[0m\u001b[0;34m\u001b[0m\u001b[0m\n\u001b[0m\u001b[1;32m    654\u001b[0m \u001b[0;34m\u001b[0m\u001b[0m\n\u001b[1;32m    655\u001b[0m \u001b[0;34m\u001b[0m\u001b[0m\n",
      "\u001b[0;31mLookupError\u001b[0m: \n**********************************************************************\n  Resource 'corpora/wordnet' not found.  Please use the NLTK\n  Downloader to obtain the resource:  >>> nltk.download()\n  Searched in:\n    - '/Users/alex_zy/nltk_data'\n    - '/usr/share/nltk_data'\n    - '/usr/local/share/nltk_data'\n    - '/usr/lib/nltk_data'\n    - '/usr/local/lib/nltk_data'\n**********************************************************************"
     ]
    }
   ],
   "source": [
    "#stemming\n",
    "#The idea of stemming is a sort of normalizing method. Many variations of words carry the same meaning, other than when tense is involved.\n",
    "#https://likegeeks.com/nlp-tutorial-using-python-nltk/\n",
    "#https://pythonprogramming.net/stemming-nltk-tutorial/?completed=/stop-words-nltk-tutorial/\n",
    "\n",
    "from nltk.stem import PorterStemmer\n",
    "from nltk.stem import WordNetLemmatizer\n",
    "\n",
    "ps = PorterStemmer()\n",
    "wnl = WordNetLemmatizer()\n",
    "# ls = LancasterStemmer()\n",
    "\n",
    "test = wnl.lemmatize(\"studing\")\n",
    "# print(test)"
   ]
  },
  {
   "cell_type": "code",
   "execution_count": 8,
   "metadata": {
    "collapsed": true
   },
   "outputs": [],
   "source": [
    "def stemming(course_list,wordlist=\"cut_wordlist\"):\n",
    "    processed_courses= course_list.copy()\n",
    "    all_stems = set()\n",
    "\n",
    "    for course_id, course in enumerate(processed_courses):\n",
    "        words = course[wordlist]\n",
    "    \n",
    "        course_stems = []\n",
    "        for word in words:\n",
    "            course_stems.append(ps.stem(word))\n",
    "            processed_courses[course_id]['stems'] = course_stems\n",
    "            all_stems.update(course_stems)\n",
    "    \n",
    "    return processed_courses, all_stems"
   ]
  },
  {
   "cell_type": "code",
   "execution_count": 102,
   "metadata": {
    "collapsed": true
   },
   "outputs": [],
   "source": [
    "processed_courses,stems=stemming(processed_courses)"
   ]
  },
  {
   "cell_type": "code",
   "execution_count": 104,
   "metadata": {},
   "outputs": [
    {
     "data": {
      "text/plain": [
       "10872"
      ]
     },
     "execution_count": 104,
     "metadata": {},
     "output_type": "execute_result"
    }
   ],
   "source": [
    "#TODO lemmatization, ngrams?\n",
    "\n",
    "#TODO explain why we chose what"
   ]
  },
  {
   "cell_type": "code",
   "execution_count": 110,
   "metadata": {},
   "outputs": [
    {
     "name": "stdout",
     "output_type": "stream",
     "text": [
      "['acquir', 'activ', 'ad', 'advertis', 'algebra', 'algorithm', 'analyt', 'apach', 'applic', 'assess', 'auction', 'balanc', 'base', 'basic', 'cathedra', 'chain', 'class', 'cloud', 'cluster', 'collect', 'combin', 'commerc', 'commun', 'comput', 'concept', 'concret', 'contain', 'coverag', 'curat', 'current', 'data', 'dataset', 'decad', 'dedic', 'design', 'detect', 'dimension', 'draw', 'effect', 'effici', 'exam', 'expect', 'explor', 'field', 'final', 'foundat', 'framework', 'function', 'fundament', 'good', 'graph', 'hadoop', 'hand', 'homework', 'import', 'inform', 'infrastructur', 'inspir', 'internet', 'java', 'key', 'keyword', 'knowledg', 'lab', 'laboratori', 'larg', 'lectur', 'linear', 'machin', 'main', 'map', 'markov', 'materi', 'media', 'midterm', 'mine', 'model', 'modelsdata', 'network', 'number', 'onlin', 'outcom', 'past', 'practic', 'prerequisit', 'problem', 'project', 'provid', 'question', 'real', 'recommend', 'reduc', 'reduct', 'relat', 'requir', 'retriev', 'scale', 'search', 'seek', 'servic', 'servicesanalyz', 'servicesdevelop', 'session', 'social', 'spark', 'specif', 'start', 'statist', 'stochast', 'stream', 'structur', 'teach', 'techniqu', 'theoret', 'theori', 'topic', 'typic', 'ubiquit', 'user', 'weekli', 'work', 'world']\n"
     ]
    }
   ],
   "source": [
    "#print IX class\n",
    "IX_class = next((item for item in processed_courses if item[\"courseId\"] == \"COM-308\"))\n",
    "#print terms, in our case stems..?\n",
    "IX_stems=(list(set(IX_class['stems'])))\n",
    "IX_stems.sort()\n",
    "print(IX_stems)"
   ]
  },
  {
   "cell_type": "markdown",
   "metadata": {},
   "source": [
    "## Exercise 4.2: Term-document matrix"
   ]
  },
  {
   "cell_type": "code",
   "execution_count": 118,
   "metadata": {
    "collapsed": true
   },
   "outputs": [],
   "source": [
    "n = len(stems)\n",
    "m = len(processed_courses)\n",
    "TF_matrix = np.zeros((n, m))\n",
    "\n",
    "stems_list=list(stems)\n",
    "stems_list.sort()\n",
    "\n",
    "n_ids = stems_list\n",
    "m_ids = [d['courseId'] for d in processed_courses]"
   ]
  },
  {
   "cell_type": "code",
   "execution_count": 119,
   "metadata": {
    "collapsed": true
   },
   "outputs": [],
   "source": [
    "# TF matrix\n",
    "from collections import Counter\n",
    "\n",
    "for course_id, course in enumerate(processed_courses):\n",
    "    terms = course['stems']\n",
    "    term_counter = Counter(terms)\n",
    "    number_terms = len(terms)\n",
    "    for key, value in term_counter.items():\n",
    "        #get index of the term\n",
    "        n_id = n_ids.index(key)\n",
    "        TF_matrix[n_id][course_id] = value\n"
   ]
  },
  {
   "cell_type": "code",
   "execution_count": 121,
   "metadata": {
    "collapsed": true
   },
   "outputs": [],
   "source": [
    "#IDF\n",
    "denom = np.apply_along_axis(np.count_nonzero, 1, TF_matrix) # doesnt work for some reason np.count_nonzero(TF_matrix, axis=1)\n",
    "IDF_vector = np.log(m / denom)\n",
    "TFIDF_matrix = TF_matrix * np.array([IDF_vector]).T"
   ]
  },
  {
   "cell_type": "code",
   "execution_count": 122,
   "metadata": {},
   "outputs": [
    {
     "data": {
      "text/plain": [
       "array([[ 0.,  0.,  0., ...,  0.,  0.,  0.],\n",
       "       [ 0.,  0.,  0., ...,  0.,  0.,  0.],\n",
       "       [ 0.,  0.,  0., ...,  0.,  0.,  0.],\n",
       "       ..., \n",
       "       [ 0.,  0.,  0., ...,  0.,  0.,  0.],\n",
       "       [ 0.,  0.,  0., ...,  0.,  0.,  0.],\n",
       "       [ 0.,  0.,  0., ...,  0.,  0.,  0.]])"
      ]
     },
     "execution_count": 122,
     "metadata": {},
     "output_type": "execute_result"
    }
   ],
   "source": [
    "# Saving\n",
    "save_pkl(TFIDF_matrix, 'tfidf.pkl')\n",
    "save_pkl(stems_list, 'terms.pkl')\n",
    "save_pkl(preprocessed_courses, 'courses.pkl')"
   ]
  },
  {
   "cell_type": "code",
   "execution_count": 123,
   "metadata": {
    "collapsed": true
   },
   "outputs": [],
   "source": [
    "IX_index = m_ids.index('COM-308')\n",
    "IX_TFIDF_col = TFIDF_matrix[:,IX_index]\n",
    "\n",
    "IX_TFIDF_vals = {}\n",
    "for ind, val in enumerate(IX_TFIDF_col):\n",
    "    if not val > 0.0:\n",
    "        continue\n",
    "    IX_TFIDF_vals[n_ids[ind]] = val"
   ]
  },
  {
   "cell_type": "code",
   "execution_count": 126,
   "metadata": {},
   "outputs": [
    {
     "data": {
      "text/plain": [
       "OrderedDict([('mine', 18.681958608434936),\n",
       "             ('onlin', 17.459173278835436),\n",
       "             ('social', 15.695066405721727),\n",
       "             ('explor', 15.061307877526007),\n",
       "             ('world', 14.393650914403395),\n",
       "             ('hadoop', 12.11356802645725),\n",
       "             ('real', 11.42011537566993),\n",
       "             ('servic', 10.843310933578261),\n",
       "             ('auction', 10.727273665337359),\n",
       "             ('commerc', 10.727273665337359),\n",
       "             ('internet', 9.6080420894665135),\n",
       "             ('retriev', 9.6080420894665135),\n",
       "             ('network', 9.3728477860972674),\n",
       "             ('dataset', 8.5300490880011388),\n",
       "             ('stream', 8.369963672654066),\n",
       "             ('data', 8.0297108516011804),\n",
       "             ('ad', 7.9546849430975772),\n",
       "             ('larg', 7.8683904262304338),\n",
       "             ('cluster', 7.4108175121302935),\n",
       "             ('graph', 7.3177774808605083),\n",
       "             ('scale', 7.2575935605067166),\n",
       "             ('lab', 7.1796671012969338),\n",
       "             ('apach', 6.7499311937885702),\n",
       "             ('curat', 6.7499311937885702),\n",
       "             ('modelsdata', 6.7499311937885702),\n",
       "             ('servicesanalyz', 6.7499311937885702),\n",
       "             ('servicesdevelop', 6.7499311937885702),\n",
       "             ('search', 6.5068472646441791),\n",
       "             ('advertis', 6.0567840132286248),\n",
       "             ('spark', 5.6513189051204602),\n",
       "             ('detect', 5.5973749504142853),\n",
       "             ('analyt', 5.3111732631329378),\n",
       "             ('machin', 5.2781146592305168),\n",
       "             ('model', 5.1996528318017461),\n",
       "             ('seek', 5.1404932813544697),\n",
       "             ('contain', 4.9581717245605148),\n",
       "             ('ubiquit', 4.9581717245605148),\n",
       "             ('number', 4.9189435052803576),\n",
       "             ('homework', 4.8648861605045193),\n",
       "             ('cloud', 4.8040210447332568),\n",
       "             ('coverag', 4.8040210447332568),\n",
       "             ('algebra', 4.5680461502679721),\n",
       "             ('decad', 4.5527066164523502),\n",
       "             ('class', 4.4929732972258201),\n",
       "             ('inspir', 4.4473461007945243),\n",
       "             ('algorithm', 4.3711660046414673),\n",
       "             ('commun', 4.3698791071922329),\n",
       "             ('dedic', 4.184981836327033),\n",
       "             ('java', 4.184981836327033),\n",
       "             ('infrastructur', 4.1108738641733114),\n",
       "             ('past', 4.1108738641733114),\n",
       "             ('markov', 3.8054922146221295),\n",
       "             ('reduc', 3.7054087560651467),\n",
       "             ('user', 3.7054087560651467),\n",
       "             ('linear', 3.6165775423585309),\n",
       "             ('media', 3.6144369778594201),\n",
       "             ('map', 3.5310553689203692),\n",
       "             ('reduct', 3.5310553689203692),\n",
       "             ('chain', 3.417726683613366),\n",
       "             ('draw', 3.3826353638020956),\n",
       "             ('session', 3.3370536576082137),\n",
       "             ('typic', 3.1945831322991562),\n",
       "             ('foundat', 3.1664122553324598),\n",
       "             ('framework', 3.0863695476589235),\n",
       "             ('balanc', 2.9887310780950074),\n",
       "             ('stochast', 2.9887310780950074),\n",
       "             ('topic', 2.933454930101163),\n",
       "             ('dimension', 2.9212897972994747),\n",
       "             ('good', 2.9212897972994747),\n",
       "             ('materi', 2.903227654481066),\n",
       "             ('concret', 2.8581108956779433),\n",
       "             ('weekli', 2.8379081883604238),\n",
       "             ('comput', 2.8056473261422021),\n",
       "             ('design', 2.7609471472242957),\n",
       "             ('midterm', 2.6894881832421507),\n",
       "             ('practic', 2.658792389032568),\n",
       "             ('effici', 2.6067964673970372),\n",
       "             ('problem', 2.5977854804457388),\n",
       "             ('inform', 2.5219869352637669),\n",
       "             ('recommend', 2.5011873935434039),\n",
       "             ('acquir', 2.4732650747725144),\n",
       "             ('basic', 2.4610261511960259),\n",
       "             ('combin', 2.4594717526401788),\n",
       "             ('base', 2.456940551852647),\n",
       "             ('hand', 2.4324430802522596),\n",
       "             ('current', 2.3804833413215483),\n",
       "             ('key', 2.3679045591146881),\n",
       "             ('collect', 2.3554820391161311),\n",
       "             ('statist', 2.23907168727172),\n",
       "             ('question', 2.2173317006353139),\n",
       "             ('applic', 2.0856418580793883),\n",
       "             ('laboratori', 2.0771023593266635),\n",
       "             ('theoret', 1.9459101490553132),\n",
       "             ('provid', 1.7594986070098335),\n",
       "             ('main', 1.7459848878431108),\n",
       "             ('relat', 1.739295899692314),\n",
       "             ('fundament', 1.6873361607616031),\n",
       "             ('concept', 1.5370339650681786),\n",
       "             ('field', 1.4318111999443535),\n",
       "             ('lectur', 1.4241205477328642),\n",
       "             ('final', 1.4220550249989889),\n",
       "             ('specif', 1.4028236630711011),\n",
       "             ('cathedra', 1.3839551787667184),\n",
       "             ('function', 1.3792931656609071),\n",
       "             ('knowledg', 1.3700338402481103),\n",
       "             ('techniqu', 1.2988927402228694),\n",
       "             ('structur', 1.2946100784308685),\n",
       "             ('effect', 1.2405428571605928),\n",
       "             ('theori', 1.2365024476235877),\n",
       "             ('project', 1.1515092347901952),\n",
       "             ('start', 1.1080241228504564),\n",
       "             ('import', 1.0296194171811581),\n",
       "             ('exam', 0.95997102289131653),\n",
       "             ('work', 0.85552835952371908),\n",
       "             ('requir', 0.82300516781815913),\n",
       "             ('expect', 0.807131818661869),\n",
       "             ('activ', 0.67688665968816497),\n",
       "             ('teach', 0.49610238221309677),\n",
       "             ('keyword', 0.39904547707383031),\n",
       "             ('prerequisit', 0.38518043693665865),\n",
       "             ('assess', 0.36473679479084442),\n",
       "             ('outcom', 0.33319891127624374)])"
      ]
     },
     "execution_count": 126,
     "metadata": {},
     "output_type": "execute_result"
    }
   ],
   "source": [
    "from collections import OrderedDict\n",
    "import  operator\n",
    "\n",
    "IX_TFIDF_vals_ordered = OrderedDict(sorted(IX_TFIDF_vals.items(),key = operator.itemgetter(1),reverse = True))\n",
    "IX_TFIDF_vals_ordered"
   ]
  },
  {
   "cell_type": "code",
   "execution_count": null,
   "metadata": {
    "collapsed": true
   },
   "outputs": [],
   "source": [
    "#TODO explain difference"
   ]
  },
  {
   "cell_type": "markdown",
   "metadata": {},
   "source": [
    "## Exercise 4.3: Document similarity search"
   ]
  },
  {
   "cell_type": "code",
   "execution_count": 128,
   "metadata": {
    "collapsed": true
   },
   "outputs": [],
   "source": [
    "#create query verctors\n",
    "markov_chain = np.zeros(n)\n",
    "markov_chain[n_indices.index('markov')] = 1/2\n",
    "markov_chain[n_indices.index('chain')] = 1/2\n",
    "\n",
    "facebook = np.zeros(n)\n",
    "facebook[n_indices.index('facebook')] = 1"
   ]
  },
  {
   "cell_type": "code",
   "execution_count": 129,
   "metadata": {
    "collapsed": true
   },
   "outputs": [],
   "source": [
    "#similarity function\n",
    "def cosine_sim(d1, d2):\n",
    "    return np.dot(d1, d2) / (np.linalg.norm(d1) * np.linalg.norm(d2))"
   ]
  },
  {
   "cell_type": "code",
   "execution_count": 138,
   "metadata": {
    "collapsed": true
   },
   "outputs": [],
   "source": [
    "def get_top5queries(query_vec,query_name):\n",
    "    documents = np.apply_along_axis(cosine_sim, 0, TFIDF_matrix, query_vec)\n",
    "    top5=np.argsort(documents)[-5:][::-1]\n",
    "    \n",
    "    top = []\n",
    "    for course in top5:\n",
    "        top.append((processed_courses[course]['name'], documents[course]))\n",
    "    \n",
    "    print(\"Top five matches for the query \",query_name,\" and the according similarity:\")\n",
    "    _ = [print(' -', name, ':', prob) for name, prob in top]\n",
    "    "
   ]
  },
  {
   "cell_type": "code",
   "execution_count": 137,
   "metadata": {},
   "outputs": [
    {
     "name": "stdout",
     "output_type": "stream",
     "text": [
      "Top five matches for the query  markov chain  and the according similarity:\n",
      " - Applied probability & stochastic processes : 0.554119712476\n",
      " - Applied stochastic processes : 0.551783426651\n",
      " - Markov chains and algorithmic applications : 0.381726235952\n",
      " - Supply chain management : 0.377917987996\n",
      " - Mathematical models in supply chain management : 0.31179822016\n",
      "\n",
      "\n",
      "Top five matches for the query  facebook  and the according similarity:\n",
      " - Computational Social Media : 0.17945381178\n",
      " - Hydrogeophysics : 0.0\n",
      " - Electronic properties of solids and superconductivity : 0.0\n",
      " - CCMX Advanced Course - Instrumented Nanoindentation : 0.0\n",
      " - Molecular and cellular biophysic II : 0.0\n"
     ]
    }
   ],
   "source": [
    "get_top5queries(markov_chain,\"markov chain\")\n",
    "print(\"\\n\")\n",
    "get_top5queries(facebook,\"facebook\")"
   ]
  },
  {
   "cell_type": "code",
   "execution_count": 139,
   "metadata": {
    "collapsed": true
   },
   "outputs": [],
   "source": [
    "#explain better"
   ]
  },
  {
   "cell_type": "markdown",
   "metadata": {},
   "source": [
    "\n",
    "\n",
    "We observe that while the first query gives us good results, the second query 'facebook' only returns one document with a non-zero 'similarity'/probability'???. \n",
    "\n",
    "disadvantage of vector space retrieval models - it is not able to generalize the concepts of the terms\n",
    "\n",
    "so if the word 'facebook' does not occur in any course descriptions, we will not be able to give any relevance, even though they contain phrases like 'social media'"
   ]
  },
  {
   "cell_type": "code",
   "execution_count": null,
   "metadata": {
    "collapsed": true
   },
   "outputs": [],
   "source": []
  }
 ],
 "metadata": {
  "kernelspec": {
   "display_name": "Python 3",
   "language": "python",
   "name": "python3"
  },
  "language_info": {
   "codemirror_mode": {
    "name": "ipython",
    "version": 3
   },
   "file_extension": ".py",
   "mimetype": "text/x-python",
   "name": "python",
   "nbconvert_exporter": "python",
   "pygments_lexer": "ipython3",
   "version": "3.6.2"
  }
 },
 "nbformat": 4,
 "nbformat_minor": 2
}
