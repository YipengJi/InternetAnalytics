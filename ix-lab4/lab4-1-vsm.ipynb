{
 "cells": [
  {
   "cell_type": "markdown",
   "metadata": {},
   "source": [
    "# Text 1: Vector space models\n",
    "**Internet Analytics - Lab 4**\n",
    "\n",
    "---\n",
    "\n",
    "**Group:** *J*\n",
    "\n",
    "**Names:**\n",
    "\n",
    "* *Dennis Gankin*\n",
    "* *Name 2*\n",
    "* *Name 3*\n",
    "\n",
    "---\n",
    "\n",
    "#### Instructions\n",
    "\n",
    "*This is a template for part 1 of the lab. Clearly write your answers, comments and interpretations in Markodown cells. Don't forget that you can add $\\LaTeX$ equations in these cells. Feel free to add or remove any cell.*\n",
    "\n",
    "*Please properly comment your code. Code readability will be considered for grading. To avoid long cells of codes in the notebook, you can also embed long python functions and classes in a separate module. Don’t forget to hand in your module if that is the case. In multiple exercises, you are required to come up with your own method to solve various problems. Be creative and clearly motivate and explain your methods. Creativity and clarity will be considered for grading.*"
   ]
  },
  {
   "cell_type": "code",
   "execution_count": 1,
   "metadata": {},
   "outputs": [],
   "source": [
    "import pickle\n",
    "import numpy as np\n",
    "from scipy.sparse import csr_matrix\n",
    "from utils import load_json, load_pkl\n",
    "\n",
    "courses = load_json('data/courses.txt')\n",
    "stopwords = load_pkl('data/stopwords.pkl')"
   ]
  },
  {
   "cell_type": "markdown",
   "metadata": {},
   "source": [
    "## Exercise 4.1: Pre-processing"
   ]
  },
  {
   "cell_type": "code",
   "execution_count": 17,
   "metadata": {},
   "outputs": [],
   "source": [
    "#add punctiation to the stop words, to remove it, too\n",
    "punctuation=set({'’', '=', '-', '/', '{', '#', '.,', '):', '\"', '(', '$', '`', ');', ',', ')', '+', '?', \"'\", '.', '\\t', '\\n', '|', '}', '://', '%).', '[', '),', '_', '^', '”', ';', '%', '&', '<', '>', ':', '\\\\', '~', '*', '!', ']', '\",', ').', '&)', '@'})\n",
    "stopwords.update(punctuation)"
   ]
  },
  {
   "cell_type": "code",
   "execution_count": 52,
   "metadata": {},
   "outputs": [],
   "source": [
    "def digit_split(s):\n",
    "    return list(filter(None, re.split(r'(\\d+)', s)))\n",
    "\n",
    "\n",
    "#import natural language toolkit for processing\n",
    "import nltk\n",
    "from nltk.tokenize import word_tokenize \n",
    "from nltk.stem.porter import *\n",
    "import re\n",
    "\n",
    "def preprocess(course_list):\n",
    "    #removing stopwords, punctuation, splitting numbers and words\n",
    "    \n",
    "\n",
    "    #dict to count frequency\n",
    "    word_freq = {}\n",
    "    processed_courses= course_list.copy()\n",
    "\n",
    "    for course_id, course in enumerate(courses):\n",
    "        #preprocess the description\n",
    "        description = course['description']\n",
    "        \n",
    "        \n",
    "        wordlist = []\n",
    "        for line in word_tokenize(description):\n",
    "            line = line.lower() # to lowercase\n",
    "            line = digit_split(line) #split words concatinated with a number (without space inbetween)\n",
    "            \n",
    "            for word in line:\n",
    "                #remove stopwords and puctuation and check if word alphabetic (probably unneccessary)\n",
    "                if (word not in stopwords) and word.isalpha(): \n",
    "                    wordlist.append(word)\n",
    "                    #add to frequency list\n",
    "                    word_freq[word]=word_freq.get(word,0)+1\n",
    "                    \n",
    "        processed_courses[course_id]['wordlist'] = wordlist\n",
    "    \n",
    "    return processed_courses,nltk.FreqDist(word_freq)\n",
    "\n"
   ]
  },
  {
   "cell_type": "code",
   "execution_count": 32,
   "metadata": {},
   "outputs": [],
   "source": [
    "processed_courses,word_freq=preprocess(courses)"
   ]
  },
  {
   "cell_type": "code",
   "execution_count": 51,
   "metadata": {},
   "outputs": [
    {
     "data": {
      "image/png": "[encoded data removed]",
      "text/plain": [
       "<matplotlib.figure.Figure at 0x7f509a62ac18>"
      ]
     },
     "metadata": {},
     "output_type": "display_data"
    }
   ],
   "source": [
    "word_freq.plot(35,cumulative=False)"
   ]
  },
  {
   "cell_type": "code",
   "execution_count": 67,
   "metadata": {},
   "outputs": [],
   "source": [
    "#TODO: chose amount of words to filter how do we do the filtering? how many of the most frequent to delete?"
   ]
  },
  {
   "cell_type": "code",
   "execution_count": 111,
   "metadata": {},
   "outputs": [],
   "source": [
    "#todo get leats frequent words\n",
    "most_frequent=[word[0] for word in word_freq.most_common(10)]"
   ]
  },
  {
   "cell_type": "code",
   "execution_count": 86,
   "metadata": {
    "collapsed": true
   },
   "outputs": [],
   "source": [
    "def delete_words(course_list, to_delete):\n",
    "    #removing stopwords, punctuation, splitting numbers and words\n",
    "    \n",
    "\n",
    "    #dict to count frequency\n",
    "    word_freq = {}\n",
    "    processed_courses= course_list.copy()\n",
    "\n",
    "    for course_id, course in enumerate(course_list):\n",
    "        #preprocess the description\n",
    "        wordlist = course['wordlist']\n",
    "        \n",
    "        \n",
    "        new_word_list = []\n",
    "        for word in wordlist:\n",
    "            #remove words to be deleted\n",
    "            if (word not in to_delete): \n",
    "                new_word_list.append(word)\n",
    "                #add to frequency list\n",
    "                word_freq[word]=word_freq.get(word,0)+1\n",
    "                    \n",
    "        processed_courses[course_id]['cut_wordlist'] = new_word_list\n",
    "    \n",
    "    return processed_courses,nltk.FreqDist(word_freq)\n"
   ]
  },
  {
   "cell_type": "code",
   "execution_count": 87,
   "metadata": {},
   "outputs": [],
   "source": [
    "processed_courses,word_freq=delete_words(courses,most_frequent)"
   ]
  },
  {
   "cell_type": "code",
   "execution_count": 88,
   "metadata": {},
   "outputs": [
    {
     "data": {
      "image/png": "[encoded data removed]",
      "text/plain": [
       "<matplotlib.figure.Figure at 0x7f50985c9a20>"
      ]
     },
     "metadata": {},
     "output_type": "display_data"
    }
   ],
   "source": [
    "word_freq.plot(35)"
   ]
  },
  {
   "cell_type": "code",
   "execution_count": 101,
   "metadata": {
    "collapsed": true
   },
   "outputs": [],
   "source": [
    "#stemming\n",
    "#The idea of stemming is a sort of normalizing method. Many variations of words carry the same meaning, other than when tense is involved.\n",
    "#https://likegeeks.com/nlp-tutorial-using-python-nltk/\n",
    "#https://pythonprogramming.net/stemming-nltk-tutorial/?completed=/stop-words-nltk-tutorial/\n",
    "\n",
    "from nltk.stem import PorterStemmer\n",
    "ps = PorterStemmer()\n",
    "\n",
    "def stemming(course_list,wordlist=\"cut_wordlist\"):\n",
    "    processed_courses= course_list.copy()\n",
    "    all_stems = set()\n",
    "\n",
    "    for course_id, course in enumerate(processed_courses):\n",
    "        words = course[wordlist]\n",
    "    \n",
    "        course_stems = []\n",
    "        for word in words:\n",
    "            course_stems.append(ps.stem(word))\n",
    "            processed_courses[course_id]['stems'] = course_stems\n",
    "            all_stems.update(course_stems)\n",
    "    \n",
    "    return processed_courses, all_stems\n"
   ]
  },
  {
   "cell_type": "code",
   "execution_count": 102,
   "metadata": {},
   "outputs": [],
   "source": [
    "processed_courses,stems=stemming(processed_courses)"
   ]
  },
  {
   "cell_type": "code",
   "execution_count": 104,
   "metadata": {},
   "outputs": [
    {
     "data": {
      "text/plain": [
       "10872"
      ]
     },
     "execution_count": 104,
     "metadata": {},
     "output_type": "execute_result"
    }
   ],
   "source": [
    "#TODO lemmatization, ngrams?\n",
    "\n",
    "#TODO explain why we chose what"
   ]
  },
  {
   "cell_type": "code",
   "execution_count": 110,
   "metadata": {},
   "outputs": [
    {
     "name": "stdout",
     "output_type": "stream",
     "text": [
      "['acquir', 'activ', 'ad', 'advertis', 'algebra', 'algorithm', 'analyt', 'apach', 'applic', 'assess', 'auction', 'balanc', 'base', 'basic', 'cathedra', 'chain', 'class', 'cloud', 'cluster', 'collect', 'combin', 'commerc', 'commun', 'comput', 'concept', 'concret', 'contain', 'coverag', 'curat', 'current', 'data', 'dataset', 'decad', 'dedic', 'design', 'detect', 'dimension', 'draw', 'effect', 'effici', 'exam', 'expect', 'explor', 'field', 'final', 'foundat', 'framework', 'function', 'fundament', 'good', 'graph', 'hadoop', 'hand', 'homework', 'import', 'inform', 'infrastructur', 'inspir', 'internet', 'java', 'key', 'keyword', 'knowledg', 'lab', 'laboratori', 'larg', 'lectur', 'linear', 'machin', 'main', 'map', 'markov', 'materi', 'media', 'midterm', 'mine', 'model', 'modelsdata', 'network', 'number', 'onlin', 'outcom', 'past', 'practic', 'prerequisit', 'problem', 'project', 'provid', 'question', 'real', 'recommend', 'reduc', 'reduct', 'relat', 'requir', 'retriev', 'scale', 'search', 'seek', 'servic', 'servicesanalyz', 'servicesdevelop', 'session', 'social', 'spark', 'specif', 'start', 'statist', 'stochast', 'stream', 'structur', 'teach', 'techniqu', 'theoret', 'theori', 'topic', 'typic', 'ubiquit', 'user', 'weekli', 'work', 'world']\n"
     ]
    }
   ],
   "source": [
    "#print IX class\n",
    "IX_class = next((item for item in processed_courses if item[\"courseId\"] == \"COM-308\"))\n",
    "#print terms, in our case stems..?\n",
    "IX_stems=(list(set(IX_class['stems'])))\n",
    "IX_stems.sort()\n",
    "print(IX_stems)"
   ]
  },
  {
   "cell_type": "markdown",
   "metadata": {},
   "source": [
    "## Exercise 4.2: Term-document matrix"
   ]
  },
  {
   "cell_type": "code",
   "execution_count": 118,
   "metadata": {},
   "outputs": [],
   "source": [
    "n = len(stems)\n",
    "m = len(processed_courses)\n",
    "TF_matrix = np.zeros((n, m))\n",
    "\n",
    "stems_list=list(stems)\n",
    "stems_list.sort()\n",
    "\n",
    "n_ids = stems_list\n",
    "m_ids = [d['courseId'] for d in processed_courses]"
   ]
  },
  {
   "cell_type": "code",
   "execution_count": 119,
   "metadata": {},
   "outputs": [],
   "source": [
    "# TF matrix\n",
    "from collections import Counter\n",
    "\n",
    "for course_id, course in enumerate(processed_courses):\n",
    "    terms = course['stems']\n",
    "    term_counter = Counter(terms)\n",
    "    number_terms = len(terms)\n",
    "    for key, value in term_counter.items():\n",
    "        #get index of the term\n",
    "        n_id = n_ids.index(key)\n",
    "        TF_matrix[n_id][course_id] = value\n"
   ]
  },
  {
   "cell_type": "code",
   "execution_count": 121,
   "metadata": {},
   "outputs": [],
   "source": [
    "#IDF\n",
    "denom = np.apply_along_axis(np.count_nonzero, 1, TF_matrix) # doesnt work for some reason np.count_nonzero(TF_matrix, axis=1)\n",
    "IDF_vector = np.log(m / denom)\n",
    "TFIDF_matrix = TF_matrix * np.array([IDF_vector]).T"
   ]
  },
  {
   "cell_type": "code",
   "execution_count": 122,
   "metadata": {},
   "outputs": [
    {
     "data": {
      "text/plain": [
       "array([[ 0.,  0.,  0., ...,  0.,  0.,  0.],\n",
       "       [ 0.,  0.,  0., ...,  0.,  0.,  0.],\n",
       "       [ 0.,  0.,  0., ...,  0.,  0.,  0.],\n",
       "       ..., \n",
       "       [ 0.,  0.,  0., ...,  0.,  0.,  0.],\n",
       "       [ 0.,  0.,  0., ...,  0.,  0.,  0.],\n",
       "       [ 0.,  0.,  0., ...,  0.,  0.,  0.]])"
      ]
     },
     "execution_count": 122,
     "metadata": {},
     "output_type": "execute_result"
    }
   ],
   "source": [
    "# Saving\n",
    "save_pkl(TFIDF_matrix, 'tfidf.pkl')\n",
    "save_pkl(stems_list, 'terms.pkl')\n",
    "save_pkl(preprocessed_courses, 'courses.pkl')"
   ]
  },
  {
   "cell_type": "code",
   "execution_count": 123,
   "metadata": {
    "collapsed": true
   },
   "outputs": [],
   "source": [
    "IX_index = m_ids.index('COM-308')\n",
    "IX_TFIDF_col = TFIDF_matrix[:,IX_index]\n",
    "\n",
    "IX_TFIDF_vals = {}\n",
    "for ind, val in enumerate(IX_TFIDF_col):\n",
    "    if not val > 0.0:\n",
    "        continue\n",
    "    IX_TFIDF_vals[n_ids[ind]] = val"
   ]
  },
  {
   "cell_type": "code",
   "execution_count": 126,
   "metadata": {},
   "outputs": [
    {
     "data": {
      "text/plain": [
       "OrderedDict([('mine', 18.681958608434936),\n",
       "             ('onlin', 17.459173278835436),\n",
       "             ('social', 15.695066405721727),\n",
       "             ('explor', 15.061307877526007),\n",
       "             ('world', 14.393650914403395),\n",
       "             ('hadoop', 12.11356802645725),\n",
       "             ('real', 11.42011537566993),\n",
       "             ('servic', 10.843310933578261),\n",
       "             ('auction', 10.727273665337359),\n",
       "             ('commerc', 10.727273665337359),\n",
       "             ('internet', 9.6080420894665135),\n",
       "             ('retriev', 9.6080420894665135),\n",
       "             ('network', 9.3728477860972674),\n",
       "             ('dataset', 8.5300490880011388),\n",
       "             ('stream', 8.369963672654066),\n",
       "             ('data', 8.0297108516011804),\n",
       "             ('ad', 7.9546849430975772),\n",
       "             ('larg', 7.8683904262304338),\n",
       "             ('cluster', 7.4108175121302935),\n",
       "             ('graph', 7.3177774808605083),\n",
       "             ('scale', 7.2575935605067166),\n",
       "             ('lab', 7.1796671012969338),\n",
       "             ('apach', 6.7499311937885702),\n",
       "             ('curat', 6.7499311937885702),\n",
       "             ('modelsdata', 6.7499311937885702),\n",
       "             ('servicesanalyz', 6.7499311937885702),\n",
       "             ('servicesdevelop', 6.7499311937885702),\n",
       "             ('search', 6.5068472646441791),\n",
       "             ('advertis', 6.0567840132286248),\n",
       "             ('spark', 5.6513189051204602),\n",
       "             ('detect', 5.5973749504142853),\n",
       "             ('analyt', 5.3111732631329378),\n",
       "             ('machin', 5.2781146592305168),\n",
       "             ('model', 5.1996528318017461),\n",
       "             ('seek', 5.1404932813544697),\n",
       "             ('contain', 4.9581717245605148),\n",
       "             ('ubiquit', 4.9581717245605148),\n",
       "             ('number', 4.9189435052803576),\n",
       "             ('homework', 4.8648861605045193),\n",
       "             ('cloud', 4.8040210447332568),\n",
       "             ('coverag', 4.8040210447332568),\n",
       "             ('algebra', 4.5680461502679721),\n",
       "             ('decad', 4.5527066164523502),\n",
       "             ('class', 4.4929732972258201),\n",
       "             ('inspir', 4.4473461007945243),\n",
       "             ('algorithm', 4.3711660046414673),\n",
       "             ('commun', 4.3698791071922329),\n",
       "             ('dedic', 4.184981836327033),\n",
       "             ('java', 4.184981836327033),\n",
       "             ('infrastructur', 4.1108738641733114),\n",
       "             ('past', 4.1108738641733114),\n",
       "             ('markov', 3.8054922146221295),\n",
       "             ('reduc', 3.7054087560651467),\n",
       "             ('user', 3.7054087560651467),\n",
       "             ('linear', 3.6165775423585309),\n",
       "             ('media', 3.6144369778594201),\n",
       "             ('map', 3.5310553689203692),\n",
       "             ('reduct', 3.5310553689203692),\n",
       "             ('chain', 3.417726683613366),\n",
       "             ('draw', 3.3826353638020956),\n",
       "             ('session', 3.3370536576082137),\n",
       "             ('typic', 3.1945831322991562),\n",
       "             ('foundat', 3.1664122553324598),\n",
       "             ('framework', 3.0863695476589235),\n",
       "             ('balanc', 2.9887310780950074),\n",
       "             ('stochast', 2.9887310780950074),\n",
       "             ('topic', 2.933454930101163),\n",
       "             ('dimension', 2.9212897972994747),\n",
       "             ('good', 2.9212897972994747),\n",
       "             ('materi', 2.903227654481066),\n",
       "             ('concret', 2.8581108956779433),\n",
       "             ('weekli', 2.8379081883604238),\n",
       "             ('comput', 2.8056473261422021),\n",
       "             ('design', 2.7609471472242957),\n",
       "             ('midterm', 2.6894881832421507),\n",
       "             ('practic', 2.658792389032568),\n",
       "             ('effici', 2.6067964673970372),\n",
       "             ('problem', 2.5977854804457388),\n",
       "             ('inform', 2.5219869352637669),\n",
       "             ('recommend', 2.5011873935434039),\n",
       "             ('acquir', 2.4732650747725144),\n",
       "             ('basic', 2.4610261511960259),\n",
       "             ('combin', 2.4594717526401788),\n",
       "             ('base', 2.456940551852647),\n",
       "             ('hand', 2.4324430802522596),\n",
       "             ('current', 2.3804833413215483),\n",
       "             ('key', 2.3679045591146881),\n",
       "             ('collect', 2.3554820391161311),\n",
       "             ('statist', 2.23907168727172),\n",
       "             ('question', 2.2173317006353139),\n",
       "             ('applic', 2.0856418580793883),\n",
       "             ('laboratori', 2.0771023593266635),\n",
       "             ('theoret', 1.9459101490553132),\n",
       "             ('provid', 1.7594986070098335),\n",
       "             ('main', 1.7459848878431108),\n",
       "             ('relat', 1.739295899692314),\n",
       "             ('fundament', 1.6873361607616031),\n",
       "             ('concept', 1.5370339650681786),\n",
       "             ('field', 1.4318111999443535),\n",
       "             ('lectur', 1.4241205477328642),\n",
       "             ('final', 1.4220550249989889),\n",
       "             ('specif', 1.4028236630711011),\n",
       "             ('cathedra', 1.3839551787667184),\n",
       "             ('function', 1.3792931656609071),\n",
       "             ('knowledg', 1.3700338402481103),\n",
       "             ('techniqu', 1.2988927402228694),\n",
       "             ('structur', 1.2946100784308685),\n",
       "             ('effect', 1.2405428571605928),\n",
       "             ('theori', 1.2365024476235877),\n",
       "             ('project', 1.1515092347901952),\n",
       "             ('start', 1.1080241228504564),\n",
       "             ('import', 1.0296194171811581),\n",
       "             ('exam', 0.95997102289131653),\n",
       "             ('work', 0.85552835952371908),\n",
       "             ('requir', 0.82300516781815913),\n",
       "             ('expect', 0.807131818661869),\n",
       "             ('activ', 0.67688665968816497),\n",
       "             ('teach', 0.49610238221309677),\n",
       "             ('keyword', 0.39904547707383031),\n",
       "             ('prerequisit', 0.38518043693665865),\n",
       "             ('assess', 0.36473679479084442),\n",
       "             ('outcom', 0.33319891127624374)])"
      ]
     },
     "execution_count": 126,
     "metadata": {},
     "output_type": "execute_result"
    }
   ],
   "source": [
    "from collections import OrderedDict\n",
    "import  operator\n",
    "\n",
    "IX_TFIDF_vals_ordered = OrderedDict(sorted(IX_TFIDF_vals.items(),key = operator.itemgetter(1),reverse = True))\n",
    "IX_TFIDF_vals_ordered"
   ]
  },
  {
   "cell_type": "code",
   "execution_count": null,
   "metadata": {
    "collapsed": true
   },
   "outputs": [],
   "source": [
    "#TODO explain difference"
   ]
  },
  {
   "cell_type": "markdown",
   "metadata": {},
   "source": [
    "## Exercise 4.3: Document similarity search"
   ]
  },
  {
   "cell_type": "code",
   "execution_count": 128,
   "metadata": {},
   "outputs": [],
   "source": [
    "#create query verctors\n",
    "markov_chain = np.zeros(n)\n",
    "markov_chain[n_indices.index('markov')] = 1/2\n",
    "markov_chain[n_indices.index('chain')] = 1/2\n",
    "\n",
    "facebook = np.zeros(n)\n",
    "facebook[n_indices.index('facebook')] = 1"
   ]
  },
  {
   "cell_type": "code",
   "execution_count": 129,
   "metadata": {},
   "outputs": [],
   "source": [
    "#similarity function\n",
    "def cosine_sim(d1, d2):\n",
    "    return np.dot(d1, d2) / (np.linalg.norm(d1) * np.linalg.norm(d2))"
   ]
  },
  {
   "cell_type": "code",
   "execution_count": 138,
   "metadata": {},
   "outputs": [],
   "source": [
    "def get_top5queries(query_vec,query_name):\n",
    "    documents = np.apply_along_axis(cosine_sim, 0, TFIDF_matrix, query_vec)\n",
    "    top5=np.argsort(documents)[-5:][::-1]\n",
    "    \n",
    "    top = []\n",
    "    for course in top5:\n",
    "        top.append((processed_courses[course]['name'], documents[course]))\n",
    "    \n",
    "    print(\"Top five matches for the query \",query_name,\" and the according similarity:\")\n",
    "    _ = [print(' -', name, ':', prob) for name, prob in top]\n",
    "    "
   ]
  },
  {
   "cell_type": "code",
   "execution_count": 137,
   "metadata": {},
   "outputs": [
    {
     "name": "stdout",
     "output_type": "stream",
     "text": [
      "Top five matches for the query  markov chain  and the according similarity:\n",
      " - Applied probability & stochastic processes : 0.554119712476\n",
      " - Applied stochastic processes : 0.551783426651\n",
      " - Markov chains and algorithmic applications : 0.381726235952\n",
      " - Supply chain management : 0.377917987996\n",
      " - Mathematical models in supply chain management : 0.31179822016\n",
      "\n",
      "\n",
      "Top five matches for the query  facebook  and the according similarity:\n",
      " - Computational Social Media : 0.17945381178\n",
      " - Hydrogeophysics : 0.0\n",
      " - Electronic properties of solids and superconductivity : 0.0\n",
      " - CCMX Advanced Course - Instrumented Nanoindentation : 0.0\n",
      " - Molecular and cellular biophysic II : 0.0\n"
     ]
    }
   ],
   "source": [
    "get_top5queries(markov_chain,\"markov chain\")\n",
    "print(\"\\n\")\n",
    "get_top5queries(facebook,\"facebook\")"
   ]
  },
  {
   "cell_type": "code",
   "execution_count": 139,
   "metadata": {
    "collapsed": true
   },
   "outputs": [],
   "source": [
    "#explain better"
   ]
  },
  {
   "cell_type": "markdown",
   "metadata": {},
   "source": [
    "\n",
    "\n",
    "We observe that while the first query gives us good results, the second query 'facebook' only returns one document with a non-zero 'similarity'/probability'???. \n",
    "\n",
    "disadvantage of vector space retrieval models - it is not able to generalize the concepts of the terms\n",
    "\n",
    "so if the word 'facebook' does not occur in any course descriptions, we will not be able to give any relevance, even though they contain phrases like 'social media'"
   ]
  },
  {
   "cell_type": "code",
   "execution_count": null,
   "metadata": {
    "collapsed": true
   },
   "outputs": [],
   "source": []
  }
 ],
 "metadata": {
  "kernelspec": {
   "display_name": "Python 3",
   "language": "python",
   "name": "python3"
  },
  "language_info": {
   "codemirror_mode": {
    "name": "ipython",
    "version": 3
   },
   "file_extension": ".py",
   "mimetype": "text/x-python",
   "name": "python",
   "nbconvert_exporter": "python",
   "pygments_lexer": "ipython3",
   "version": "3.6.3"
  }
 },
 "nbformat": 4,
 "nbformat_minor": 2
}
