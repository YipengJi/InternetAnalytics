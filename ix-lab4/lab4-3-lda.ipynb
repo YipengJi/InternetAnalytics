{
 "cells": [
  {
   "cell_type": "markdown",
   "metadata": {},
   "source": [
    "# Text 3: Latent Dirichlet allocation\n",
    "**Internet Analytics - Lab 4**\n",
    "\n",
    "---\n",
    "\n",
    "**Group:** *J*\n",
    "\n",
    "**Names:**\n",
    "\n",
    "* *Dennis Gankin*\n",
    "* *Name 2*\n",
    "* *Name 3*\n",
    "\n",
    "---\n",
    "\n",
    "#### Instructions\n",
    "\n",
    "*This is a template for part 3 of the lab. Clearly write your answers, comments and interpretations in Markodown cells. Don't forget that you can add $\\LaTeX$ equations in these cells. Feel free to add or remove any cell.*\n",
    "\n",
    "*Please properly comment your code. Code readability will be considered for grading. To avoid long cells of codes in the notebook, you can also embed long python functions and classes in a separate module. Don’t forget to hand in your module if that is the case. In multiple exercises, you are required to come up with your own method to solve various problems. Be creative and clearly motivate and explain your methods. Creativity and clarity will be considered for grading.*"
   ]
  },
  {
   "cell_type": "code",
   "execution_count": 1,
   "metadata": {
    "collapsed": true
   },
   "outputs": [],
   "source": [
    "from pyspark.mllib.clustering import LDA, LDAModel\n",
    "from pyspark.mllib.linalg import Vectors\n",
    "\n",
    "from utils import load_pkl\n",
    "import pandas as pd"
   ]
  },
  {
   "cell_type": "markdown",
   "metadata": {},
   "source": [
    "## Exercise 4.8: Topics extraction"
   ]
  },
  {
   "cell_type": "code",
   "execution_count": 2,
   "metadata": {
    "collapsed": true
   },
   "outputs": [],
   "source": [
    "# load the data\n",
    "tf_matrix = load_pkl('tfidf.pkl')\n",
    "terms = load_pkl('terms.pkl')"
   ]
  },
  {
   "cell_type": "code",
   "execution_count": 3,
   "metadata": {
    "collapsed": true
   },
   "outputs": [],
   "source": [
    "#creating the model following the mllib docs\n",
    "tf_dataframe=sc.parallelize(tf_matrix.T)\n",
    "\n",
    "data=tf_dataframe.map(lambda line: Vectors.dense([float(x) for x in line]))\n",
    "corpus= data.zipWithIndex().map(lambda x: [x[1], x[0]]).cache()\n",
    "\n",
    "ldaModel = LDA.train(corpus, k=10, optimizer='online')"
   ]
  },
  {
   "cell_type": "code",
   "execution_count": 4,
   "metadata": {
    "collapsed": true
   },
   "outputs": [],
   "source": [
    "import numpy as np\n",
    "\n",
    "def topic_descriptions(model, num_topics=10, num_labels=10):\n",
    "    topics=model.topicsMatrix()\n",
    "    \n",
    "    for topic in range(num_topics):\n",
    "        print(\"Topic \" + str(topic) + \":\")\n",
    "        top_word_ids = np.argsort(topics[:,topic])[::-1][0:num_labels]\n",
    "        labels = []\n",
    "        \n",
    "        for word_id in top_word_ids:\n",
    "            labels.append(terms[word_id])\n",
    "        print(labels)"
   ]
  },
  {
   "cell_type": "code",
   "execution_count": 5,
   "metadata": {},
   "outputs": [
    {
     "name": "stdout",
     "output_type": "stream",
     "text": [
      "Topic 0:\n",
      "['biometr', 'neuron', 'wast', 'recycl', 'wastewat', 'atmospher', 'treatment', 'synapt', 'water', 'pollut']\n",
      "Topic 1:\n",
      "['polici', 'risk', 'financi', 'financ', 'stochast', 'price', 'corpor', 'market', 'asset', 'volatil']\n",
      "Topic 2:\n",
      "['laser', 'studio', 'urban', 'architectur', 'spectroscopi', 'light', 'microscop', 'electron', 'sampl', 'optic']\n",
      "Topic 3:\n",
      "['cell', 'statist', 'probabl', 'regress', 'random', 'cancer', 'immun', 'anim', 'protein', 'express']\n",
      "Topic 4:\n",
      "['flow', 'project', 'ah', 'energi', 'case', 'plan', 'heat', 'report', 'busi', 'manag']\n",
      "Topic 5:\n",
      "['neutron', 'systemc', 'avion', 'systemverilog', 'equilibrium', 'arteri', 'powder', 'diffract', 'nonlinear', 'diffus']\n",
      "Topic 6:\n",
      "['food', 'print', 'biolog', 'manufactur', 'organ', 'area', 'seminar', 'synthet', 'process', 'electron']\n",
      "Topic 7:\n",
      "['fractur', 'seismic', 'soil', 'rock', 'geolog', 'tribolog', 'crack', 'plasmon', 'mx', 'deep']\n",
      "Topic 8:\n",
      "['model', 'circuit', 'system', 'imag', 'signal', 'algorithm', 'linear', 'numer', 'network', 'comput']\n",
      "Topic 9:\n",
      "['optic', 'reaction', 'chemic', 'magnet', 'protein', 'electron', 'devic', 'chemistri', 'molecular', 'sensor']\n"
     ]
    }
   ],
   "source": [
    "topic_descriptions(ldaModel)"
   ]
  },
  {
   "cell_type": "code",
   "execution_count": 6,
   "metadata": {
    "collapsed": true
   },
   "outputs": [],
   "source": [
    "#TODO: How does it compare with LSI"
   ]
  },
  {
   "cell_type": "markdown",
   "metadata": {},
   "source": [
    "## Exercise 4.9: Dirichlet hyperparameters"
   ]
  },
  {
   "cell_type": "code",
   "execution_count": 7,
   "metadata": {
    "collapsed": true
   },
   "outputs": [],
   "source": [
    "#try for alphas and betas\n",
    "params = [0.1, 1.0, 10.0, 1000.0]"
   ]
  },
  {
   "cell_type": "code",
   "execution_count": 8,
   "metadata": {
    "collapsed": true
   },
   "outputs": [],
   "source": [
    "def parameters_LDA(corpus, alpha=6.0,beta=1.01,k=10):\n",
    "\n",
    "    if type(alpha)==list:\n",
    "        print(\"beta =\",beta,\"\\n\")\n",
    "        for a in alpha:\n",
    "            print(\"\\n alpha =\", a)\n",
    "            model = LDA.train(corpus, k=k, seed=1, topicConcentration=beta, docConcentration=a, optimizer='online')\n",
    "            topic_descriptions(model,num_topics=k)\n",
    "    elif type(beta)==list:\n",
    "        print(\"alpha =\",alpha,\"\\n\")\n",
    "        for b in beta:\n",
    "            print(\"\\nbeta =\",b)\n",
    "            model = LDA.train(corpus, k=k, seed=1, topicConcentration=b, docConcentration=alpha, optimizer='online')\n",
    "            topic_descriptions(model,num_topics=k)\n",
    "    else:\n",
    "        print(\"alpha =\",alpha)\n",
    "        print(\"beta =\",beta,\"\\n\")\n",
    "        model = LDA.train(corpus, k=k, seed=1, topicConcentration=beta, docConcentration=alpha, optimizer='online')\n",
    "        topic_descriptions(model,num_topics=k)"
   ]
  },
  {
   "cell_type": "code",
   "execution_count": 9,
   "metadata": {},
   "outputs": [
    {
     "name": "stdout",
     "output_type": "stream",
     "text": [
      "beta = 1.01 \n",
      "\n",
      "\n",
      " alpha = 0.1\n",
      "Topic 0:\n",
      "['project', 'data', 'research', 'group', 'materi', 'report', 'plan', 'manag', 'busi', 'object']\n",
      "Topic 1:\n",
      "['acoust', 'algebra', 'lie', 'curv', 'neuroprosthes', 'ring', 'neuroprosthesi', 'invas', 'tech', 'geometri']\n",
      "Topic 2:\n",
      "['mx', 'mse', 'crack', 'cardiac', 'arteri', 'ancient', 'ray', 'venou', 'degrad', 'blood']\n",
      "Topic 3:\n",
      "['risk', 'linear', 'statist', 'flow', 'model', 'probabl', 'control', 'robot', 'algorithm', 'numer']\n",
      "Topic 4:\n",
      "['magnet', 'electron', 'circuit', 'imag', 'sensor', 'devic', 'cmo', 'digit', 'nois', 'filter']\n",
      "Topic 5:\n",
      "['reaction', 'reactor', 'snow', 'chemic', 'energi', 'heat', 'kinet', 'thermodynam', 'chemistri', 'water']\n",
      "Topic 6:\n",
      "['protein', 'cell', 'solar', 'doctor', 'edm', 'motil', 'sensit', 'kinas', 'tem', 'assay']\n",
      "Topic 7:\n",
      "['laser', 'optic', 'radiat', 'photon', 'light', 'electromagnet', 'shield', 'fiber', 'grate', 'game']\n",
      "Topic 8:\n",
      "['food', 'architectur', 'wast', 'studio', 'urban', 'drug', 'wood', 'code', 'ferment', 'build']\n",
      "Topic 9:\n",
      "['convex', 'planet', 'avion', 'planetari', 'datacent', 'systemc', 'systemverilog', 'thousand', 'rtl', 'warehous']\n",
      "\n",
      " alpha = 1.0\n",
      "Topic 0:\n",
      "['busi', 'steel', 'fractur', 'seismic', 'crack', 'structur', 'later', 'week', 'market', 'financ']\n",
      "Topic 1:\n",
      "['lie', 'algebra', 'curv', 'ring', 'geometri', 'market', 'arriv', 'riemann', 'commut', 'tech']\n",
      "Topic 2:\n",
      "['cardiac', 'arteri', 'ancient', 'ray', 'venou', 'degrad', 'blood', 'wall', 'biomechan', 'paint']\n",
      "Topic 3:\n",
      "['risk', 'linear', 'statist', 'model', 'probabl', 'numer', 'flow', 'algorithm', 'theori', 'space']\n",
      "Topic 4:\n",
      "['imag', 'electron', 'magnet', 'circuit', 'sensor', 'devic', 'filter', 'cmo', 'digit', 'nois']\n",
      "Topic 5:\n",
      "['reaction', 'reactor', 'snow', 'chemic', 'protein', 'kinet', 'heat', 'thermodynam', 'transport', 'mass']\n",
      "Topic 6:\n",
      "['solar', 'sensit', 'dye', 'databas', 'excit', 'cell', 'emit', 'photo', 'video', 'queri']\n",
      "Topic 7:\n",
      "['laser', 'optic', 'light', 'radiat', 'photon', 'fiber', 'waveguid', 'shield', 'grate', 'electromagnet']\n",
      "Topic 8:\n",
      "['project', 'architectur', 'food', 'present', 'research', 'process', 'data', 'develop', 'group', 'engin']\n",
      "Topic 9:\n",
      "['neuroprosthes', 'neuroprosthet', 'invas', 'neuroprosthesi', 'neurorehabilit', 'cn', 'limb', 'spinal', 'neural', 'stimul']\n",
      "\n",
      " alpha = 10.0\n",
      "Topic 0:\n",
      "['risk', 'architectur', 'urban', 'market', 'studio', 'map', 'busi', 'polici', 'suppli', 'digit']\n",
      "Topic 1:\n",
      "['imag', 'speech', 'model', 'statist', 'mechan', 'algebra', 'theori', 'space', 'basic', 'digit']\n",
      "Topic 2:\n",
      "['materi', 'energi', 'imag', 'ancient', 'absorpt', 'spectroscopi', 'ray', 'degrad', 'model', 'wall']\n",
      "Topic 3:\n",
      "['flow', 'numer', 'equat', 'fluid', 'ah', 'dynam', 'heat', 'particl', 'simul', 'finit']\n",
      "Topic 4:\n",
      "['sensor', 'circuit', 'devic', 'electron', 'robot', 'magnet', 'filter', 'nois', 'cmo', 'materi']\n",
      "Topic 5:\n",
      "['snow', 'reactor', 'reaction', 'chemic', 'kinet', 'model', 'fractur', 'transport', 'catalysi', 'heat']\n",
      "Topic 6:\n",
      "['steel', 'seismic', 'structur', 'model', 'crack', 'reactor', 'fractur', 'cell', 'reaction', 'laser']\n",
      "Topic 7:\n",
      "['optic', 'laser', 'reaction', 'control', 'imag', 'light', 'cell', 'motil', 'mechan', 'process']\n",
      "Topic 8:\n",
      "['food', 'test', 'project', 'week', 'report', 'research', 'lab', 'data', 'process', 'engin']\n",
      "Topic 9:\n",
      "['ture', 'theorem', 'space', 'protein', 'linear', 'fourier', 'theori', 'recurs', 'hilbert', 'model']\n",
      "\n",
      " alpha = 1000.0\n",
      "Topic 0:\n",
      "['data', 'model', 'project', 'process', 'energi', 'problem', 'risk', 'chemic', 'class', 'flow']\n",
      "Topic 1:\n",
      "['model', 'imag', 'materi', 'mechan', 'data', 'project', 'risk', 'digit', 'comput', 'problem']\n",
      "Topic 2:\n",
      "['materi', 'data', 'model', 'process', 'energi', 'present', 'project', 'problem', 'reactor', 'flow']\n",
      "Topic 3:\n",
      "['model', 'flow', 'process', 'energi', 'system', 'control', 'imag', 'mechan', 'week', 'base']\n",
      "Topic 4:\n",
      "['model', 'project', 'process', 'imag', 'exercis', 'present', 'research', 'materi', 'mechan', 'energi']\n",
      "Topic 5:\n",
      "['model', 'process', 'materi', 'architectur', 'linear', 'chemic', 'flow', 'project', 'base', 'data']\n",
      "Topic 6:\n",
      "['project', 'model', 'process', 'present', 'electron', 'architectur', 'energi', 'data', 'plan', 'week']\n",
      "Topic 7:\n",
      "['process', 'control', 'data', 'optic', 'project', 'materi', 'model', 'engin', 'electron', 'risk']\n",
      "Topic 8:\n",
      "['model', 'project', 'process', 'control', 'system', 'materi', 'evalu', 'comput', 'test', 'basic']\n",
      "Topic 9:\n",
      "['energi', 'model', 'theori', 'control', 'test', 'digit', 'comput', 'mechan', 'process', 'structur']\n"
     ]
    }
   ],
   "source": [
    "parameters_LDA(corpus,alpha=params)"
   ]
  },
  {
   "cell_type": "code",
   "execution_count": 10,
   "metadata": {
    "collapsed": true
   },
   "outputs": [],
   "source": [
    "#TODO: how does it impact the topics"
   ]
  },
  {
   "cell_type": "code",
   "execution_count": 11,
   "metadata": {},
   "outputs": [
    {
     "name": "stdout",
     "output_type": "stream",
     "text": [
      "alpha = 6.0 \n",
      "\n",
      "\n",
      "beta = 0.1\n",
      "Topic 0:\n",
      "['risk', 'market', 'busi', 'laser', 'polici', 'financ', 'financi', 'suppli', 'price', 'case']\n",
      "Topic 1:\n",
      "['speech', 'algebra', 'imag', 'audio', 'video', 'acoust', 'sound', 'curv', 'tp', 'lie']\n",
      "Topic 2:\n",
      "['ancient', 'materi', 'degrad', 'absorpt', 'tem', 'ray', 'sensit', 'spectroscopi', 'paint', 'damag']\n",
      "Topic 3:\n",
      "['quantum', 'equat', 'molecular', 'approxim', 'phase', 'flow', 'dynam', 'arteri', 'statement', 'kohn']\n",
      "Topic 4:\n",
      "['circuit', 'electron', 'magnet', 'devic', 'sensor', 'cmo', 'nois', 'filter', 'imag', 'optic']\n",
      "Topic 5:\n",
      "['snow', 'reactor', 'protein', 'reaction', 'chemic', 'kinet', 'cell', 'radiat', 'heat', 'thermodynam']\n",
      "Topic 6:\n",
      "['crack', 'fractur', 'mx', 'mse', 'structur', 'cell', 'steel', 'model', 'mechan', 'electron']\n",
      "Topic 7:\n",
      "['optic', 'light', 'fluoresc', 'imag', 'organ', 'laser', 'reaction', 'secur', 'biophoton', 'biolog']\n",
      "Topic 8:\n",
      "['project', 'process', 'data', 'model', 'test', 'food', 'comput', 'control', 'robot', 'week']\n",
      "Topic 9:\n",
      "['steel', 'ture', 'seismic', 'recurs', 'locomot', 'theorem', 'plastic', 'neuroprosthet', 'neural', 'brain']\n",
      "\n",
      "beta = 1.0\n",
      "Topic 0:\n",
      "['risk', 'market', 'busi', 'polici', 'laser', 'financ', 'financi', 'price', 'portfolio', 'case']\n",
      "Topic 1:\n",
      "['speech', 'algebra', 'imag', 'curv', 'audio', 'sound', 'acoust', 'tp', 'mpeg', 'lie']\n",
      "Topic 2:\n",
      "['ancient', 'degrad', 'absorpt', 'ray', 'tem', 'materi', 'spectroscopi', 'paint', 'sensit', 'imag']\n",
      "Topic 3:\n",
      "['quantum', 'equat', 'approxim', 'molecular', 'arteri', 'dynam', 'kohn', 'polymer', 'flow', 'biomechan']\n",
      "Topic 4:\n",
      "['circuit', 'electron', 'magnet', 'devic', 'sensor', 'cmo', 'nois', 'imag', 'optic', 'filter']\n",
      "Topic 5:\n",
      "['snow', 'protein', 'reactor', 'reaction', 'cell', 'chemic', 'radiat', 'kinet', 'drug', 'motil']\n",
      "Topic 6:\n",
      "['steel', 'crack', 'mx', 'seismic', 'fractur', 'mse', 'brace', 'aisc', 'mrf', 'structur']\n",
      "Topic 7:\n",
      "['optic', 'light', 'imag', 'fluoresc', 'secur', 'reaction', 'laser', 'organ', 'equat', 'kinet']\n",
      "Topic 8:\n",
      "['project', 'process', 'data', 'model', 'test', 'control', 'comput', 'food', 'week', 'engin']\n",
      "Topic 9:\n",
      "['ture', 'recurs', 'theorem', 'locomot', 'neuroprosthet', 'arithmet', 'neural', 'plastic', 'brain', 'neuroprosthes']\n",
      "\n",
      "beta = 10.0\n",
      "Topic 0:\n",
      "['busi', 'risk', 'servic', 'financi', 'project', 'ea', 'model', 'seam', 'bpel', 'bpmn']\n",
      "Topic 1:\n",
      "['imag', 'snow', 'model', 'secur', 'algebra', 'mechan', 'cell', 'protein', 'acoust', 'risk']\n",
      "Topic 2:\n",
      "['snow', 'materi', 'protein', 'model', 'energi', 'electron', 'data', 'ray', 'physic', 'mechan']\n",
      "Topic 3:\n",
      "['financi', 'flow', 'molecular', 'electron', 'statement', 'mechan', 'protein', 'dynam', 'equat', 'model']\n",
      "Topic 4:\n",
      "['circuit', 'cmo', 'devic', 'nois', 'semiconductor', 'transistor', 'electron', 'analog', 'ccd', 'memori']\n",
      "Topic 5:\n",
      "['snow', 'protein', 'model', 'chemic', 'ray', 'busi', 'thermodynam', 'chip', 'cell', 'diffract']\n",
      "Topic 6:\n",
      "['protein', 'electron', 'model', 'project', 'cell', 'snow', 'diffract', 'structur', 'ray', 'data']\n",
      "Topic 7:\n",
      "['imag', 'electron', 'optic', 'protein', 'secur', 'snow', 'equat', 'control', 'mechan', 'ray']\n",
      "Topic 8:\n",
      "['model', 'process', 'materi', 'project', 'data', 'energi', 'control', 'comput', 'architectur', 'present']\n",
      "Topic 9:\n",
      "['ture', 'recurs', 'arithmet', 'protein', 'theorem', 'peano', 'gödel', 'incomplet', 'energi', 'syntax']\n",
      "\n",
      "beta = 1000.0\n",
      "Topic 0:\n",
      "['model', 'process', 'project', 'materi', 'energi', 'data', 'mechan', 'control', 'problem', 'flow']\n",
      "Topic 1:\n",
      "['model', 'process', 'project', 'materi', 'energi', 'data', 'mechan', 'control', 'imag', 'problem']\n",
      "Topic 2:\n",
      "['model', 'process', 'materi', 'project', 'energi', 'data', 'mechan', 'control', 'problem', 'flow']\n",
      "Topic 3:\n",
      "['model', 'process', 'materi', 'energi', 'project', 'data', 'mechan', 'control', 'flow', 'problem']\n",
      "Topic 4:\n",
      "['model', 'process', 'project', 'materi', 'energi', 'data', 'mechan', 'control', 'imag', 'flow']\n",
      "Topic 5:\n",
      "['model', 'process', 'materi', 'project', 'energi', 'data', 'mechan', 'control', 'flow', 'problem']\n",
      "Topic 6:\n",
      "['model', 'process', 'project', 'materi', 'energi', 'data', 'control', 'mechan', 'problem', 'present']\n",
      "Topic 7:\n",
      "['model', 'process', 'project', 'materi', 'energi', 'data', 'control', 'mechan', 'problem', 'imag']\n",
      "Topic 8:\n",
      "['model', 'process', 'project', 'materi', 'energi', 'wast', 'data', 'control', 'mechan', 'problem']\n",
      "Topic 9:\n",
      "['model', 'process', 'materi', 'energi', 'project', 'data', 'mechan', 'control', 'problem', 'comput']\n"
     ]
    }
   ],
   "source": [
    "parameters_LDA(corpus,beta=params)"
   ]
  },
  {
   "cell_type": "code",
   "execution_count": 12,
   "metadata": {
    "collapsed": true
   },
   "outputs": [],
   "source": [
    "#TODO: how does it impact the topuics"
   ]
  },
  {
   "cell_type": "markdown",
   "metadata": {},
   "source": [
    "## Exercise 4.10: EPFL's taught subjects"
   ]
  },
  {
   "cell_type": "code",
   "execution_count": 13,
   "metadata": {
    "collapsed": true
   },
   "outputs": [],
   "source": [
    "# chose k as number of sections at EPF\n",
    "\n",
    "\"\"\"Architecture, Civil and Environmental Engineering ENAC,\n",
    "Basic Sciences SB,\n",
    "Engineering STI,\n",
    "Computer and Communication Sciences IC,\n",
    "Life Sciences SV,\n",
    "Management of Technology CDM,\n",
    "College of Humanities CDH\"\"\"\n",
    "k=7\n",
    "#chose alpha beta from above??\n",
    "#TODO: make and axplain alpha beta choice..\n",
    "alpha=1.5\n",
    "beta=0.01"
   ]
  },
  {
   "cell_type": "code",
   "execution_count": 14,
   "metadata": {},
   "outputs": [
    {
     "name": "stdout",
     "output_type": "stream",
     "text": [
      "alpha = 1.5\n",
      "beta = 0.01 \n",
      "\n",
      "Topic 0:\n",
      "['project', 'food', 'research', 'data', 'present', 'manag', 'architectur', 'group', 'risk', 'develop']\n",
      "Topic 1:\n",
      "['algebra', 'lie', 'curv', 'neuroprosthes', 'ring', 'invas', 'neuroprosthesi', 'geometri', 'de', 'planet']\n",
      "Topic 2:\n",
      "['solar', 'absorpt', 'mx', 'materi', 'cardiac', 'ancient', 'ray', 'light', 'sensit', 'arteri']\n",
      "Topic 3:\n",
      "['linear', 'statist', 'probabl', 'numer', 'model', 'robot', 'flow', 'algorithm', 'control', 'space']\n",
      "Topic 4:\n",
      "['imag', 'sensor', 'electron', 'magnet', 'circuit', 'optic', 'devic', 'digit', 'filter', 'cmo']\n",
      "Topic 5:\n",
      "['reactor', 'reaction', 'snow', 'energi', 'chemic', 'protein', 'kinet', 'heat', 'transport', 'thermodynam']\n",
      "Topic 6:\n",
      "['video', 'cell', 'secur', 'verif', 'cancer', 'speech', 'tumor', 'vhdl', 'mpeg', 'laboratori']\n"
     ]
    }
   ],
   "source": [
    "parameters_LDA(corpus,alpha=alpha,beta=beta,k=k)"
   ]
  },
  {
   "cell_type": "markdown",
   "metadata": {},
   "source": [
    "## Exercise 4.11: Wikipedia structure"
   ]
  },
  {
   "cell_type": "code",
   "execution_count": 15,
   "metadata": {
    "collapsed": true
   },
   "outputs": [],
   "source": [
    "from pyspark.sql import Row\n",
    "from collections import OrderedDict\n",
    "import json\n",
    "from pyspark.ml.feature import CountVectorizer"
   ]
  },
  {
   "cell_type": "code",
   "execution_count": 16,
   "metadata": {},
   "outputs": [
    {
     "name": "stdout",
     "output_type": "stream",
     "text": [
      "+-------+--------------------+--------------------+\n",
      "|page_id|               title|              tokens|\n",
      "+-------+--------------------+--------------------+\n",
      "|      1|   Áedán mac Gabráin|[áedán, mac, gabr...|\n",
      "|      2|       Åland Islands|[åland, islandssc...|\n",
      "|      3|       Édouard Manet|[édouard, manetsc...|\n",
      "|      4|                Éire|[éireschools, wik...|\n",
      "|      5|     Évariste Galois|[évariste, galois...|\n",
      "|      6|Óengus I of the P...|[óengus, pictssch...|\n",
      "|      7|€2 commemorative ...|[€, commemorative...|\n",
      "|      8|          0 (number)|[numberschools, w...|\n",
      "|      9|   10 Downing Street|[downing, streets...|\n",
      "|     10|        10th century|[centuryschools, ...|\n",
      "|     11|        11th century|[centuryschools, ...|\n",
      "|     12|        12th century|[centuryschools, ...|\n",
      "|     13|        13th century|[centuryschools, ...|\n",
      "|     14|        14th century|[centuryschools, ...|\n",
      "|     15|        15th century|[centuryschools, ...|\n",
      "|     16|            16 Cygni|[cygnischools, wi...|\n",
      "|     17|        16th century|[centuryschools, ...|\n",
      "|     18|                1750|[schools, wikiped...|\n",
      "|     19|                1751|[schools, wikiped...|\n",
      "|     20|                1752|[schools, wikiped...|\n",
      "+-------+--------------------+--------------------+\n",
      "only showing top 20 rows\n",
      "\n"
     ]
    }
   ],
   "source": [
    "wikipedia_raw = sc.textFile('/ix/wikipedia-for-schools.txt')\n",
    "wikipedia_df = wikipedia_raw.map(lambda l: Row(**dict(json.loads(l)))).toDF()\n",
    "wikipedia_df.show()"
   ]
  },
  {
   "cell_type": "code",
   "execution_count": 17,
   "metadata": {
    "collapsed": true
   },
   "outputs": [],
   "source": [
    "cv = CountVectorizer(inputCol=\"tokens\", outputCol=\"features\")\n",
    "model = cv.fit(wikipedia_df)\n",
    "wikipedia_count_df = model.transform(wikipedia_df)"
   ]
  },
  {
   "cell_type": "code",
   "execution_count": 18,
   "metadata": {
    "collapsed": true
   },
   "outputs": [],
   "source": [
    "wiki_corpus = wikipedia_count_df.select(\"page_id\", \"features\").map(list)"
   ]
  },
  {
   "cell_type": "code",
   "execution_count": 21,
   "metadata": {
    "collapsed": true
   },
   "outputs": [],
   "source": [
    "#https://en.wikipedia.org/wiki/Category:Main_topic_classifications --- 22 topics?\n",
    "#or 12?\n",
    "\n",
    "terms=model.vocabulary\n",
    "\n",
    "def topic_descriptions(model, num_topics=10, num_labels=10):\n",
    "    topics=model.topicsMatrix()\n",
    "    \n",
    "    for topic in range(num_topics):\n",
    "        print(\"Topic \" + str(topic) + \":\")\n",
    "        top_word_ids = np.argsort(topics[:,topic])[::-1][0:num_labels]\n",
    "        labels = []\n",
    "        \n",
    "        for word_id in top_word_ids:\n",
    "            labels.append(terms[word_id])\n",
    "        print(labels)\n",
    "                   "
   ]
  },
  {
   "cell_type": "code",
   "execution_count": 22,
   "metadata": {},
   "outputs": [
    {
     "name": "stdout",
     "output_type": "stream",
     "text": [
      "alpha = 1.5\n",
      "beta = 0.01 \n",
      "\n"
     ]
    },
    {
     "name": "stderr",
     "output_type": "stream",
     "text": [
      "ERROR:py4j.java_gateway:Error while sending or receiving.\n",
      "Traceback (most recent call last):\n",
      "  File \"/usr/hdp/current/spark-client/python/lib/py4j-0.9-src.zip/py4j/java_gateway.py\", line 746, in send_command\n",
      "    raise Py4JError(\"Answer from Java side is empty\")\n",
      "py4j.protocol.Py4JError: Answer from Java side is empty\n",
      "ERROR:py4j.java_gateway:Error while sending or receiving.\n",
      "Traceback (most recent call last):\n",
      "  File \"/usr/hdp/current/spark-client/python/lib/py4j-0.9-src.zip/py4j/java_gateway.py\", line 746, in send_command\n",
      "    raise Py4JError(\"Answer from Java side is empty\")\n",
      "py4j.protocol.Py4JError: Answer from Java side is empty\n",
      "\n",
      "During handling of the above exception, another exception occurred:\n",
      "\n",
      "Traceback (most recent call last):\n",
      "  File \"/usr/hdp/current/spark-client/python/lib/py4j-0.9-src.zip/py4j/java_gateway.py\", line 626, in send_command\n",
      "    response = connection.send_command(command)\n",
      "  File \"/usr/hdp/current/spark-client/python/lib/py4j-0.9-src.zip/py4j/java_gateway.py\", line 750, in send_command\n",
      "    raise Py4JNetworkError(\"Error while sending or receiving\", e)\n",
      "py4j.protocol.Py4JNetworkError: Error while sending or receiving\n",
      "\n",
      "During handling of the above exception, another exception occurred:\n",
      "\n",
      "Traceback (most recent call last):\n",
      "  File \"/usr/hdp/current/spark-client/python/lib/py4j-0.9-src.zip/py4j/java_gateway.py\", line 746, in send_command\n",
      "    raise Py4JError(\"Answer from Java side is empty\")\n",
      "py4j.protocol.Py4JError: Answer from Java side is empty\n",
      "ERROR:py4j.java_gateway:Error while sending or receiving.\n",
      "Traceback (most recent call last):\n",
      "  File \"/usr/hdp/current/spark-client/python/lib/py4j-0.9-src.zip/py4j/java_gateway.py\", line 746, in send_command\n",
      "    raise Py4JError(\"Answer from Java side is empty\")\n",
      "py4j.protocol.Py4JError: Answer from Java side is empty\n",
      "\n",
      "During handling of the above exception, another exception occurred:\n",
      "\n",
      "Traceback (most recent call last):\n",
      "  File \"/usr/hdp/current/spark-client/python/lib/py4j-0.9-src.zip/py4j/java_gateway.py\", line 626, in send_command\n",
      "    response = connection.send_command(command)\n",
      "  File \"/usr/hdp/current/spark-client/python/lib/py4j-0.9-src.zip/py4j/java_gateway.py\", line 750, in send_command\n",
      "    raise Py4JNetworkError(\"Error while sending or receiving\", e)\n",
      "py4j.protocol.Py4JNetworkError: Error while sending or receiving\n",
      "\n",
      "During handling of the above exception, another exception occurred:\n",
      "\n",
      "Traceback (most recent call last):\n",
      "  File \"/usr/hdp/current/spark-client/python/lib/py4j-0.9-src.zip/py4j/java_gateway.py\", line 746, in send_command\n",
      "    raise Py4JError(\"Answer from Java side is empty\")\n",
      "py4j.protocol.Py4JError: Answer from Java side is empty\n",
      "\n",
      "During handling of the above exception, another exception occurred:\n",
      "\n",
      "Traceback (most recent call last):\n",
      "  File \"/usr/hdp/current/spark-client/python/lib/py4j-0.9-src.zip/py4j/java_gateway.py\", line 626, in send_command\n",
      "    response = connection.send_command(command)\n",
      "  File \"/usr/hdp/current/spark-client/python/lib/py4j-0.9-src.zip/py4j/java_gateway.py\", line 750, in send_command\n",
      "    raise Py4JNetworkError(\"Error while sending or receiving\", e)\n",
      "py4j.protocol.Py4JNetworkError: Error while sending or receiving\n",
      "\n",
      "During handling of the above exception, another exception occurred:\n",
      "\n",
      "Traceback (most recent call last):\n",
      "  File \"/usr/hdp/current/spark-client/python/lib/py4j-0.9-src.zip/py4j/java_gateway.py\", line 746, in send_command\n",
      "    raise Py4JError(\"Answer from Java side is empty\")\n",
      "py4j.protocol.Py4JError: Answer from Java side is empty\n"
     ]
    },
    {
     "name": "stdout",
     "output_type": "stream",
     "text": [
      "Topic 0:\n",
      "['claudius', 'marx', '–', 'engels', 'power', 'pericles', 'states', 'years', 'world', 'war']\n",
      "Topic 1:\n",
      "['calgary', 'alcohol', 'toad', 'toads', 'fasd', 'city', 'wifi', 'fas', 'exposure', 'prenatal']\n",
      "Topic 2:\n",
      "['pluto', 'sheep', 'plutos', 'operatorexpression', 'patel', 'planet', 'charon', 'neptune', 'years', 'wine']\n",
      "Topic 3:\n",
      "['n−', 'zambia', 'fish', 'carp', 'sicklecell', 'skate', 'city', 'number', 'skates', 'fishes']\n",
      "Topic 4:\n",
      "['piłsudski', 'phalacrocorax', 'cormorant', 'urbankowski', '^', 'swan', 'piłsudskis', 'hänsel', 'gretel', 'shag']\n",
      "Topic 5:\n",
      "['leeds', 'acid', 'city', 'god', '–', 'allah', 'world', '·', 'years', 'time']\n",
      "Topic 6:\n",
      "['caffeine', 'inquisition', 'sleep', 'president', '·', 'united', 'world', 'century', 'de', '–']\n",
      "Topic 7:\n",
      "['calgary', 'iits', 'coupler', 'hippos', '–', 'fluid', 'years', 'city', 'number', 'time']\n",
      "Topic 8:\n",
      "['–', 'time', 'years', 'world', 'american', 'war', 'united', 'city', 'states', 'century']\n",
      "Topic 9:\n",
      "['oz', 'episcopus', 'sonic', 'game', 'sarajevo', 'players', 'world', 'romanus', 'bass', 'hedgehog']\n",
      "Topic 10:\n",
      "['universe', 'stars', 'galaxies', 'string', 'galaxy', 'objects', 'theory', 'lenses', 'strings', 'matter']\n",
      "Topic 11:\n",
      "['set', 'theory', '=', 'years', 'time', 'century', 'viking', 'dostoevsky', 'language', 'world']\n"
     ]
    }
   ],
   "source": [
    "parameters_LDA(wiki_corpus,alpha=1.5,beta=0.01,k=12)"
   ]
  },
  {
   "cell_type": "code",
   "execution_count": null,
   "metadata": {
    "collapsed": true
   },
   "outputs": [],
   "source": []
  }
 ],
 "metadata": {
  "kernelspec": {
   "display_name": "Python 3",
   "language": "python",
   "name": "python3"
  }
 },
 "nbformat": 4,
 "nbformat_minor": 2
}
