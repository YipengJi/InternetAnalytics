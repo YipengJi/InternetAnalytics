{
 "cells": [
  {
   "cell_type": "markdown",
   "metadata": {},
   "source": [
    "# Networks: structure, evolution & processes\n",
    "**Internet Analytics - Lab 2**\n",
    "\n",
    "---\n",
    "\n",
    "**Group:** *Your group letter.*\n",
    "\n",
    "**Names:**\n",
    "\n",
    "* *Name 1*\n",
    "* *Name 2*\n",
    "* *Name 3*\n",
    "\n",
    "---\n",
    "\n",
    "#### Instructions\n",
    "\n",
    "*This is a template for part 4 of the lab. Clearly write your answers, comments and interpretations in Markodown cells. Don't forget that you can add $\\LaTeX$ equations in these cells. Feel free to add or remove any cell.*\n",
    "\n",
    "*Please properly comment your code. Code readability will be considered for grading. To avoid long cells of codes in the notebook, you can also embed long python functions and classes in a separate module. Don’t forget to hand in your module if that is the case. In multiple exercises, you are required to come up with your own method to solve various problems. Be creative and clearly motivate and explain your methods. Creativity and clarity will be considered for grading.*"
   ]
  },
  {
   "cell_type": "markdown",
   "metadata": {},
   "source": [
    "---\n",
    "### Importing the networks"
   ]
  },
  {
   "cell_type": "code",
   "execution_count": 71,
   "metadata": {},
   "outputs": [],
   "source": [
    "import networkx as nx\n",
    "G_absorbing=nx.read_adjlist(\"data/absorbing.graph\")\n",
    "G_components=nx.read_adjlist(\"data/components.graph\")\n",
    "import matplotlib as plt"
   ]
  },
  {
   "cell_type": "markdown",
   "metadata": {},
   "source": [
    "---\n",
    "\n",
    "## 2.4 PageRank\n",
    "\n",
    "### 2.4.1 Random Surfer Model\n",
    "\n",
    "#### Exercise 2.12"
   ]
  },
  {
   "cell_type": "code",
   "execution_count": 63,
   "metadata": {},
   "outputs": [],
   "source": [
    "from random import randint,choice\n",
    "\n",
    "def random_surfer(G,iterations):\n",
    "    amount_nodes=len(G.nodes())\n",
    "    ranks=[0]*amount_nodes\n",
    "    edges=list(G.edges())\n",
    "    \n",
    "    current_node=randint(0,amount_nodes-1)\n",
    "    \n",
    "    for i in range(iterations):\n",
    "        ranks[current_node]+=1\n",
    "        current_node=int(choice(list(G[str(current_node)])))\n",
    "        \n",
    "    \n",
    "    if iter!=0:\n",
    "        for i in range(len(ranks)):\n",
    "            ranks[i]=ranks[i]/iterations\n",
    "            \n",
    "    return ranks\n"
   ]
  },
  {
   "cell_type": "code",
   "execution_count": 81,
   "metadata": {},
   "outputs": [
    {
     "name": "stdout",
     "output_type": "stream",
     "text": [
      "[0.262, 0.243, 0.085, 0.235, 0.175]\n",
      "[0.257, 0.226, 0.099, 0.274, 0.144]\n",
      "[0.243, 0.254, 0.083, 0.24, 0.18]\n",
      "[0.271, 0.248, 0.067, 0.222, 0.192]\n",
      "[0.253, 0.24, 0.089, 0.241, 0.177]\n",
      "[0.257, 0.254, 0.076, 0.245, 0.168]\n",
      "[0.259, 0.257, 0.067, 0.228, 0.189]\n",
      "[0.267, 0.248, 0.067, 0.248, 0.17]\n",
      "[0.241, 0.246, 0.09, 0.26, 0.163]\n",
      "[0.236, 0.235, 0.099, 0.275, 0.155]\n"
     ]
    }
   ],
   "source": [
    "for i in range(10):\n",
    "    print (random_surfer(G_absorbing,1000))"
   ]
  },
  {
   "cell_type": "code",
   "execution_count": 82,
   "metadata": {},
   "outputs": [
    {
     "name": "stdout",
     "output_type": "stream",
     "text": [
      "[0.0, 0.0, 0.0, 0.0, 0.302, 0.191, 0.289, 0.218]\n",
      "[0.0, 0.0, 0.0, 0.0, 0.305, 0.19, 0.298, 0.207]\n",
      "[0.0, 0.0, 0.0, 0.0, 0.294, 0.194, 0.31, 0.202]\n",
      "[0.196, 0.298, 0.296, 0.21, 0.0, 0.0, 0.0, 0.0]\n",
      "[0.199, 0.292, 0.303, 0.206, 0.0, 0.0, 0.0, 0.0]\n",
      "[0.205, 0.307, 0.298, 0.19, 0.0, 0.0, 0.0, 0.0]\n",
      "[0.185, 0.293, 0.31, 0.212, 0.0, 0.0, 0.0, 0.0]\n",
      "[0.0, 0.0, 0.0, 0.0, 0.301, 0.21, 0.296, 0.193]\n",
      "[0.193, 0.297, 0.312, 0.198, 0.0, 0.0, 0.0, 0.0]\n",
      "[0.0, 0.0, 0.0, 0.0, 0.282, 0.223, 0.309, 0.186]\n",
      "-----------------\n",
      "[0.203, 0.299, 0.298, 0.2, 0.0, 0.0, 0.0, 0.0]\n",
      "[0.0, 0.0, 0.0, 0.0, 0.316, 0.207, 0.287, 0.19]\n",
      "[0.185, 0.301, 0.305, 0.209, 0.0, 0.0, 0.0, 0.0]\n",
      "[0.0, 0.0, 0.0, 0.0, 0.319, 0.195, 0.283, 0.203]\n",
      "[0.0, 0.0, 0.0, 0.0, 0.305, 0.211, 0.289, 0.195]\n",
      "[0.192, 0.305, 0.293, 0.21, 0.0, 0.0, 0.0, 0.0]\n",
      "[0.187, 0.301, 0.303, 0.209, 0.0, 0.0, 0.0, 0.0]\n",
      "[0.0, 0.0, 0.0, 0.0, 0.292, 0.2, 0.301, 0.207]\n",
      "[0.0, 0.0, 0.0, 0.0, 0.297, 0.201, 0.291, 0.211]\n",
      "[0.198, 0.298, 0.303, 0.201, 0.0, 0.0, 0.0, 0.0]\n"
     ]
    }
   ],
   "source": [
    "for i in range(10):\n",
    "    print(random_surfer(G_components,1000))\n",
    "print (\"-----------------\")\n",
    "for i in range(10):\n",
    "    print(random_surfer(G_components,1000))"
   ]
  },
  {
   "cell_type": "code",
   "execution_count": 75,
   "metadata": {},
   "outputs": [
    {
     "data": {
      "image/png": "[encoded data removed]",
      "text/plain": [
       "<matplotlib.figure.Figure at 0x19eda997390>"
      ]
     },
     "metadata": {},
     "output_type": "display_data"
    }
   ],
   "source": [
    "nx.draw(G_absorbing,node_color=\"b\")"
   ]
  },
  {
   "cell_type": "code",
   "execution_count": 76,
   "metadata": {},
   "outputs": [
    {
     "data": {
      "image/png": "[encoded data removed]",
      "text/plain": [
       "<matplotlib.figure.Figure at 0x19eda9ba8d0>"
      ]
     },
     "metadata": {},
     "output_type": "display_data"
    }
   ],
   "source": [
    "nx.draw(G_components,node_color=\"b\")"
   ]
  },
  {
   "cell_type": "markdown",
   "metadata": {},
   "source": [
    "As we can see when running the random surfer model a few times both graphs do not seem to converge completely. The absorbing graph has similar rankings with some variance. The components graph has very different results because either one component is surfed or the other which causes the not surfed component to have rank 0"
   ]
  },
  {
   "cell_type": "markdown",
   "metadata": {},
   "source": [
    "#### Exercise 2.13"
   ]
  },
  {
   "cell_type": "code",
   "execution_count": null,
   "metadata": {
    "collapsed": true
   },
   "outputs": [],
   "source": []
  },
  {
   "cell_type": "markdown",
   "metadata": {},
   "source": [
    "---\n",
    "\n",
    "### 2.4.2 Power Iteration Method\n",
    "\n",
    "#### Exercise 2.14: Power Iteration method"
   ]
  },
  {
   "cell_type": "code",
   "execution_count": null,
   "metadata": {
    "collapsed": true
   },
   "outputs": [],
   "source": []
  },
  {
   "cell_type": "markdown",
   "metadata": {},
   "source": [
    "---\n",
    "\n",
    "### 2.4.3 Gaming the system *(Bonus)*\n",
    "\n",
    "#### Exercise 2.15 *(Bonus)*"
   ]
  },
  {
   "cell_type": "code",
   "execution_count": null,
   "metadata": {
    "collapsed": true
   },
   "outputs": [],
   "source": []
  }
 ],
 "metadata": {
  "kernelspec": {
   "display_name": "Python 3",
   "language": "python",
   "name": "python3"
  },
  "language_info": {
   "codemirror_mode": {
    "name": "ipython",
    "version": 3
   },
   "file_extension": ".py",
   "mimetype": "text/x-python",
   "name": "python",
   "nbconvert_exporter": "python",
   "pygments_lexer": "ipython3",
   "version": "3.6.4"
  }
 },
 "nbformat": 4,
 "nbformat_minor": 2
}
