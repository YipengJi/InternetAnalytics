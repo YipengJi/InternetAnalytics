{
 "cells": [
  {
   "cell_type": "markdown",
   "metadata": {},
   "source": [
    "# Networks: structure, evolution & processes\n",
    "**Internet Analytics - Lab 2**\n",
    "\n",
    "---\n",
    "\n",
    "**Group:** *J*\n",
    "\n",
    "**Names:**\n",
    "\n",
    "* *Gankin, Dennis*\n",
    "* *Zhang, Yuan*\n",
    "* *Ji, Yipeng*\n",
    "\n",
    "---\n",
    "\n",
    "#### Instructions\n",
    "\n",
    "*This is a template for part 4 of the lab. Clearly write your answers, comments and interpretations in Markodown cells. Don't forget that you can add $\\LaTeX$ equations in these cells. Feel free to add or remove any cell.*\n",
    "\n",
    "*Please properly comment your code. Code readability will be considered for grading. To avoid long cells of codes in the notebook, you can also embed long python functions and classes in a separate module. Don’t forget to hand in your module if that is the case. In multiple exercises, you are required to come up with your own method to solve various problems. Be creative and clearly motivate and explain your methods. Creativity and clarity will be considered for grading.*"
   ]
  },
  {
   "cell_type": "markdown",
   "metadata": {},
   "source": [
    "---\n",
    "### Importing the networks"
   ]
  },
  {
   "cell_type": "code",
   "execution_count": 1,
   "metadata": {},
   "outputs": [],
   "source": [
    "import networkx as nx\n",
    "G_absorbing=nx.read_adjlist(\"data/absorbing.graph\",create_using=nx.DiGraph())\n",
    "G_components=nx.read_adjlist(\"data/components.graph\",create_using=nx.DiGraph())\n",
    "import matplotlib.pyplot as plt"
   ]
  },
  {
   "cell_type": "markdown",
   "metadata": {},
   "source": [
    "---\n",
    "\n",
    "## 2.4 PageRank\n",
    "\n",
    "### 2.4.1 Random Surfer Model\n",
    "\n",
    "#### Exercise 2.12"
   ]
  },
  {
   "cell_type": "code",
   "execution_count": 2,
   "metadata": {},
   "outputs": [],
   "source": [
    "from random import randint,choice\n",
    "\n",
    "def random_surfer(G,iterations):\n",
    "    amount_nodes=len(G.nodes())\n",
    "    ranks= {int(key): 0 for key in G.nodes()}\n",
    "    #get all out edges\n",
    "    out_edges=G.out_edges()\n",
    "    \n",
    "    current_node=randint(0,amount_nodes-1)\n",
    "    \n",
    "    for i in range(iterations):\n",
    "        ranks[current_node]+=1\n",
    "        #pick next edge to walk randomly from outgoing edges\n",
    "        #find all possible neighbours \n",
    "        neighbors=list(nx.neighbors(G,str(current_node)))\n",
    "        #for (u,v) in out_edges:\n",
    "        #    if u==current_node:\n",
    "        #        neighbors.append(v)\n",
    "        \n",
    "        if neighbors!=[]:\n",
    "            current_node=int(choice(neighbors))\n",
    "        else:\n",
    "            print(\"stuck in iteration..\",i,\"  node: \", current_node)\n",
    "            \n",
    "            if i!=0:\n",
    "                for n in range(len(ranks)):\n",
    "                    ranks[n]=ranks[n]/i\n",
    "                return ranks\n",
    "            else:\n",
    "                return None\n",
    "            \n",
    "            break\n",
    "        \n",
    "    #nromalize ranks\n",
    "    if iter!=0:\n",
    "        for i in range(len(ranks)):\n",
    "            ranks[i]=ranks[i]/iterations\n",
    "            \n",
    "    return ranks\n"
   ]
  },
  {
   "cell_type": "markdown",
   "metadata": {},
   "source": [
    "#### Random surfer on absorbing Graph"
   ]
  },
  {
   "cell_type": "code",
   "execution_count": 4,
   "metadata": {},
   "outputs": [
    {
     "data": {
      "image/png": "[encoded data removed]",
      "text/plain": [
       "<matplotlib.figure.Figure at 0x7f4e4b0b9278>"
      ]
     },
     "metadata": {},
     "output_type": "display_data"
    }
   ],
   "source": [
    "nx.draw(G_absorbing,with_labels=True,node_color=\"skyblue\")\n",
    "plt.show()"
   ]
  },
  {
   "cell_type": "code",
   "execution_count": 5,
   "metadata": {},
   "outputs": [
    {
     "name": "stdout",
     "output_type": "stream",
     "text": [
      "stuck in iteration.. 0   node:  1\n",
      "None\n",
      "stuck in iteration.. 2   node:  1\n",
      "{0: 0.5, 1: 0.5, 4: 0.0, 2: 0.0, 3: 0.5}\n",
      "stuck in iteration.. 2   node:  1\n",
      "{0: 0.5, 1: 0.5, 4: 0.5, 2: 0.0, 3: 0.0}\n",
      "stuck in iteration.. 2   node:  1\n",
      "{0: 0.5, 1: 0.5, 4: 0.5, 2: 0.0, 3: 0.0}\n",
      "stuck in iteration.. 1   node:  1\n",
      "{0: 0.0, 1: 1.0, 4: 1.0, 2: 0.0, 3: 0.0}\n",
      "stuck in iteration.. 1   node:  1\n",
      "{0: 0.0, 1: 1.0, 4: 0.0, 2: 0.0, 3: 1.0}\n",
      "stuck in iteration.. 1   node:  1\n",
      "{0: 1.0, 1: 1.0, 4: 0.0, 2: 0.0, 3: 0.0}\n",
      "stuck in iteration.. 10   node:  1\n",
      "{0: 0.1, 1: 0.1, 4: 0.1, 2: 0.4, 3: 0.4}\n",
      "stuck in iteration.. 2   node:  1\n",
      "{0: 0.5, 1: 0.5, 4: 0.0, 2: 0.0, 3: 0.5}\n",
      "stuck in iteration.. 0   node:  1\n",
      "None\n"
     ]
    }
   ],
   "source": [
    "for i in range(10):\n",
    "    print (random_surfer(G_absorbing,1000))"
   ]
  },
  {
   "cell_type": "markdown",
   "metadata": {},
   "source": [
    "\n",
    "\n",
    "On the absorbing graph we have a dangling node (node 1) which causes the random surfer to get stuck on that node without being able to continue surfing.  Before getting stuck the surfer can only visit very few nodes. Thus the results are not meaningful.\n",
    "\n"
   ]
  },
  {
   "cell_type": "markdown",
   "metadata": {},
   "source": [
    "#### Random surfer on components graph"
   ]
  },
  {
   "cell_type": "code",
   "execution_count": 6,
   "metadata": {},
   "outputs": [
    {
     "data": {
      "image/png": "[encoded data removed]",
      "text/plain": [
       "<matplotlib.figure.Figure at 0x7f4e42ff4b38>"
      ]
     },
     "metadata": {},
     "output_type": "display_data"
    }
   ],
   "source": [
    "nx.draw(G_components,with_labels=True,pos= nx.circular_layout(G_components),node_color=\"skyblue\")\n",
    "plt.show()"
   ]
  },
  {
   "cell_type": "code",
   "execution_count": 7,
   "metadata": {},
   "outputs": [
    {
     "name": "stdout",
     "output_type": "stream",
     "text": [
      "{0: 0.2842, 1: 0.2842, 2: 0.2844, 3: 0.1472, 4: 0.0, 5: 0.0, 6: 0.0, 7: 0.0}\n",
      "{0: 0.285, 1: 0.285, 2: 0.2848, 3: 0.1452, 4: 0.0, 5: 0.0, 6: 0.0, 7: 0.0}\n",
      "{0: 0.2844, 1: 0.2844, 2: 0.2844, 3: 0.1468, 4: 0.0, 5: 0.0, 6: 0.0, 7: 0.0}\n",
      "{0: 0.0, 1: 0.0, 2: 0.0, 3: 0.0, 4: 0.2856, 5: 0.1432, 6: 0.2856, 7: 0.2856}\n",
      "{0: 0.0, 1: 0.0, 2: 0.0, 3: 0.0, 4: 0.2854, 5: 0.1442, 6: 0.2852, 7: 0.2852}\n",
      "{0: 0.2878, 1: 0.2878, 2: 0.288, 3: 0.1364, 4: 0.0, 5: 0.0, 6: 0.0, 7: 0.0}\n",
      "{0: 0.2864, 1: 0.2864, 2: 0.2864, 3: 0.1408, 4: 0.0, 5: 0.0, 6: 0.0, 7: 0.0}\n",
      "{0: 0.2842, 1: 0.2842, 2: 0.2844, 3: 0.1472, 4: 0.0, 5: 0.0, 6: 0.0, 7: 0.0}\n",
      "{0: 0.2866, 1: 0.2866, 2: 0.2864, 3: 0.1404, 4: 0.0, 5: 0.0, 6: 0.0, 7: 0.0}\n",
      "{0: 0.2844, 1: 0.2844, 2: 0.2846, 3: 0.1466, 4: 0.0, 5: 0.0, 6: 0.0, 7: 0.0}\n"
     ]
    }
   ],
   "source": [
    "for i in range(10):\n",
    "    print(random_surfer(G_components,5000))"
   ]
  },
  {
   "cell_type": "markdown",
   "metadata": {},
   "source": [
    "\n",
    "\n",
    "Random surfer on the components graph always returns 0 for the ranks of one of the two components.  \n",
    "As the graph consist of two components, the random surfer starts in one of those components and never visits the other one during the surfing. Thus, the surfed component gets a ranking while all the nodes from the not surfed components are ranked 0. \n"
   ]
  },
  {
   "cell_type": "markdown",
   "metadata": {},
   "source": [
    "#### Exercise 2.13"
   ]
  },
  {
   "cell_type": "code",
   "execution_count": 8,
   "metadata": {
    "collapsed": true
   },
   "outputs": [],
   "source": [
    "from random import random\n",
    "\n",
    "def random_surfer_better(G,iterations,damping_factor=0.15):\n",
    "    #tolerance for convergence\n",
    "    tolerance=1.0e-6\n",
    "\n",
    "    amount_nodes=len(G.nodes())\n",
    "    #create dictionary for ranks\n",
    "    ranks= {int(key): 0 for key in G.nodes()}\n",
    "    edges=list(G.edges())\n",
    "    \n",
    "    #first node randomly\n",
    "    current_node=randint(0,amount_nodes-1)\n",
    "    \n",
    "    last_result=[0]*amount_nodes\n",
    "    \n",
    "    for i in range(iterations):\n",
    "        ranks[current_node]+=1\n",
    "        #get neighbors\n",
    "        neighbors=list(nx.neighbors(G,str(current_node)))       \n",
    "        \n",
    "        #random restart if dangling edge or randomly (damping factor)\n",
    "\n",
    "        if (random()>damping_factor) and (len(neighbors)>0):\n",
    "                       current_node=int(choice(list(neighbors)))\n",
    "        else:\n",
    "                       current_node=randint(0,amount_nodes-1)\n",
    "        \n",
    "        new_result= {int(key): 0 for key in G.nodes()}\n",
    "        for n in range(amount_nodes):\n",
    "            new_result[n]=ranks[n]/(i+1)\n",
    "        \n",
    "        err = sum([abs(new_result[n] - last_result[n]) for n in range(amount_nodes)])\n",
    "        last_result=new_result\n",
    "        if err < amount_nodes * tolerance:\n",
    "            \n",
    "            return new_result\n",
    "        \n",
    "    print(\" not converged\")       \n",
    "    if iter!=0:\n",
    "        for i in range(amount_nodes):\n",
    "            ranks[i]=ranks[i]/iterations\n",
    "            \n",
    "    return ranks\n"
   ]
  },
  {
   "cell_type": "code",
   "execution_count": 9,
   "metadata": {},
   "outputs": [
    {
     "name": "stdout",
     "output_type": "stream",
     "text": [
      "{0: 0.14763737155933854, 1: 0.3379768967301207, 4: 0.14998244030648275, 2: 0.14912522516058624, 3: 0.21527806624347176}\n",
      "{0: 0.1478827484606958, 1: 0.338182298946096, 4: 0.15067427189967136, 2: 0.1493974993389491, 3: 0.2138631813545877}\n",
      "{0: 0.14852174966678783, 1: 0.3397628135223555, 4: 0.1506535502241609, 2: 0.14802571792075608, 3: 0.21303616866593966}\n"
     ]
    }
   ],
   "source": [
    "for i in range(3):\n",
    "    print (random_surfer_better(G_absorbing,1000000))"
   ]
  },
  {
   "cell_type": "code",
   "execution_count": 10,
   "metadata": {},
   "outputs": [
    {
     "name": "stdout",
     "output_type": "stream",
     "text": [
      "{0: 0.1406952086466692, 1: 0.1378179678085327, 2: 0.14363317047651966, 3: 0.07763412332900502, 4: 0.138415836034639, 5: 0.07729315160630378, 6: 0.14353975356619056, 7: 0.1409707885321401}\n",
      "{0: 0.14188184462296707, 1: 0.13902475520682334, 2: 0.14462670794093166, 3: 0.07862841003675405, 4: 0.13750502679398094, 5: 0.07702451205027729, 6: 0.14164804025176056, 7: 0.13966070309650508}\n",
      "{0: 0.1410555815039701, 1: 0.13878561419897245, 2: 0.14374591312470808, 3: 0.07746380196170013, 4: 0.13784680056048576, 5: 0.07776272769733769, 6: 0.14329285380663243, 7: 0.14004670714619336}\n"
     ]
    }
   ],
   "source": [
    "for i in range(3):\n",
    "    print (random_surfer_better(G_components,1000000))"
   ]
  },
  {
   "cell_type": "markdown",
   "metadata": {},
   "source": [
    "---\n",
    "\n",
    "We can see better results and real convergence with the second implementation. So the problem with dangling nodes and different components in a graph is overcome by this strategy\n"
   ]
  },
  {
   "cell_type": "markdown",
   "metadata": {},
   "source": [
    "#### Plotting the ranks\n",
    "\n",
    "\n",
    "Plotting the graphs with the ranks, to see if the ranking is intuitive. The bigger the nodes the higher the ranking"
   ]
  },
  {
   "cell_type": "code",
   "execution_count": 11,
   "metadata": {
    "collapsed": true
   },
   "outputs": [],
   "source": [
    "#create labels for graph\n",
    "lables_abs=random_surfer_better(G_absorbing,1000000)\n",
    "lables_com=random_surfer_better(G_components,1000000)\n",
    "#shorten labels\n",
    "l_abs={}\n",
    "l_com={}\n",
    "for key in lables_abs.keys():\n",
    "    l_abs[str(key)]=\"%.2f\" % lables_abs[key]\n",
    "for key in lables_com.keys():\n",
    "    l_com[str(key)]=\"%.2f\" % lables_com[key]"
   ]
  },
  {
   "cell_type": "code",
   "execution_count": 12,
   "metadata": {},
   "outputs": [],
   "source": [
    "node_size_ab={}\n",
    "node_size_com={}\n",
    "for k,v in l_abs.items():\n",
    "    node_size_ab[k]=(10000 * float(v))\n",
    "for k,v in l_com.items():\n",
    "    node_size_com[k]=(20000 * float(v))"
   ]
  },
  {
   "cell_type": "code",
   "execution_count": 15,
   "metadata": {},
   "outputs": [
    {
     "data": {
      "image/png": "[encoded data removed]",
      "text/plain": [
       "<matplotlib.figure.Figure at 0x7f4e42e89048>"
      ]
     },
     "metadata": {},
     "output_type": "display_data"
    }
   ],
   "source": [
    "nx.draw(G_absorbing,with_labels=True,node_color=\"skyblue\",labels=l_abs,node_size=list(node_size_ab.values()))\n",
    "plt.show()"
   ]
  },
  {
   "cell_type": "code",
   "execution_count": 17,
   "metadata": {},
   "outputs": [
    {
     "data": {
      "image/png": "[encoded data removed]",
      "text/plain": [
       "<matplotlib.figure.Figure at 0x7f4e43036320>"
      ]
     },
     "metadata": {},
     "output_type": "display_data"
    }
   ],
   "source": [
    "nx.draw(G_components,with_labels=True,node_color=\"skyblue\",pos= nx.circular_layout(G_components),labels=l_com,node_size=list(node_size_com.values()))\n",
    "plt.show()"
   ]
  },
  {
   "cell_type": "markdown",
   "metadata": {},
   "source": [
    "We think the page ranking makes intuitive sense. The nodes with more incoming edges have a higher score because it is more probable that a surfer will be there at a random point in time than on a node with less incoming links.  \n",
    "For the component graph we can see that corresponding nodes in both components have same ranks. The three 0.14 scored nodes build a cirlce in each component, so a surfer is as likley to find himself on any of the nodes, so it is logical that they have the same rank. The forth node is an addition to the circle. But as it can be reached only from one of the nodes in the circle it has lower probability of landing there and thus a lower score. \n",
    "\n",
    "In the absorbing graph the dangling node has the highest score which makes sense because it has the most incoming edges. So the probability to land there as a random surfer is very high. The 0.21 node has a score a little higher than the other nodes because there is one neighboring node that will always lead back to the 0.21 node. The other three nodes all have only one incoming edge so they have the same score and probability to be there for the surfer at a random point in time.  \n",
    "So to conclude, the scores seem to be logically distributed.  All in all, page rank is quite intuitive."
   ]
  },
  {
   "cell_type": "markdown",
   "metadata": {},
   "source": [
    "---\n",
    "\n",
    "### 2.4.2 Power Iteration Method\n",
    "\n",
    "#### Exercise 2.14: Power Iteration method"
   ]
  },
  {
   "cell_type": "code",
   "execution_count": 41,
   "metadata": {
    "collapsed": true
   },
   "outputs": [],
   "source": [
    "def power_iteration(G,max_iter,damping=0.85):\n",
    "    #code inspired by networkx documentation of pwer_iteration\n",
    "    \n",
    "    #tolerance or checking convergence\n",
    "    tolerance=1.0e-6\n",
    "\n",
    "    #form stochastic Graph to be able to get adjacency matrix\n",
    "    A = nx.stochastic_graph(G)\n",
    "    N = G.number_of_nodes()\n",
    "\n",
    "\n",
    "    # fixed starting vector\n",
    "    x = {key:1.0 / N for key in G.nodes()}\n",
    "\n",
    "    # create dictionary for dangling nodes and indicator vector of dangling nodes (dangling_w)\n",
    "    dangling_nodes = [n for n in G.nodes() if G.out_degree(n) == 0.0]\n",
    "    \n",
    "\n",
    "    # power iteration: run up to max_iter iterations\n",
    "    for _ in range(max_iter):\n",
    "        #x_before is x_(k-1)\n",
    "        #x is x_k\n",
    "        x_before = x\n",
    "        x = {key:0 / N for key in x_before.keys()}\n",
    "\n",
    "        #part of the transition matrix H for later\n",
    "        dangling_sum =  sum(x_before[n] for n in dangling_nodes) \n",
    "        \n",
    "        for n in x:\n",
    "            # left multiply x^G = x_before^G*adj\n",
    "            \n",
    "            #all nodes i, where n has outgoing edges to (i is part of neighbors)\n",
    "            for i in A[n]:\n",
    "                x[i] += damping * x_before[n] * A[n][i]['weight']\n",
    "            \n",
    "            \n",
    "            x[n] += damping * dangling_sum * 1.0/N  + (1.0 - damping) * 1/N\n",
    "            \n",
    "        # check for convergence with L1 norm\n",
    "        err = sum([abs(x[n] - x_before[n]) for n in x])\n",
    "        if err < N * tolerance:\n",
    "            return x\n",
    "    print (\"not converged\")\n",
    "    return x"
   ]
  },
  {
   "cell_type": "code",
   "execution_count": 42,
   "metadata": {},
   "outputs": [],
   "source": [
    "G_wiki=nx.read_adjlist(\"data/wikipedia.graph\",create_using=nx.DiGraph())"
   ]
  },
  {
   "cell_type": "code",
   "execution_count": 43,
   "metadata": {
    "collapsed": true
   },
   "outputs": [],
   "source": [
    "wiki_ranks=power_iteration(G_wiki,500)\n",
    "wiki_top=sorted(wiki_ranks,key=wiki_ranks.get,reverse=True)[0:10]\n",
    "from pandas import read_csv\n",
    "titles = read_csv(\"data/wikipedia_titles.tsv\", sep=\"\\t\")"
   ]
  },
  {
   "cell_type": "code",
   "execution_count": 44,
   "metadata": {},
   "outputs": [
    {
     "name": "stdout",
     "output_type": "stream",
     "text": [
      "Top ten wiki pages:\n",
      "[5210 'United States']\n",
      "[5201 'United Kingdom']\n",
      "[2034 'France']\n",
      "[1890 'Europe']\n",
      "[2168 'Germany']\n",
      "[1811 'England']\n",
      "[5477 'World War II']\n",
      "[2999 'Latin']\n",
      "[2619 'India']\n",
      "[1818 'English language']\n"
     ]
    }
   ],
   "source": [
    "top_articles=[]\n",
    "for elem in wiki_top:\n",
    "    top_articles.append(titles.get_values()[int(elem)])\n",
    "\n",
    "print (\"Top ten wiki pages:\")\n",
    "for i in top_articles:\n",
    "    print (i)"
   ]
  },
  {
   "cell_type": "markdown",
   "metadata": {},
   "source": [
    "---\n",
    "\n",
    "### 2.4.3 Gaming the system *(Bonus)*\n",
    "\n",
    "#### Exercise 2.15 *(Bonus)*"
   ]
  },
  {
   "cell_type": "markdown",
   "metadata": {
    "collapsed": true
   },
   "source": [
    "Most simple approach would be pick the top 300 pages and add edges from those to the History of mathematics page"
   ]
  },
  {
   "cell_type": "markdown",
   "metadata": {},
   "source": [
    "The score below is the site's score without any augmentation"
   ]
  },
  {
   "cell_type": "code",
   "execution_count": 45,
   "metadata": {},
   "outputs": [
    {
     "data": {
      "text/plain": [
       "9.705905353496401e-05"
      ]
     },
     "execution_count": 45,
     "metadata": {},
     "output_type": "execute_result"
    }
   ],
   "source": [
    "wiki_ranks['2463']"
   ]
  },
  {
   "cell_type": "code",
   "execution_count": 46,
   "metadata": {},
   "outputs": [],
   "source": [
    "titles_dict=titles.to_dict()"
   ]
  },
  {
   "cell_type": "code",
   "execution_count": 47,
   "metadata": {},
   "outputs": [
    {
     "data": {
      "text/plain": [
       "dict_keys(['#page_id', 'page_title'])"
      ]
     },
     "execution_count": 47,
     "metadata": {},
     "output_type": "execute_result"
    }
   ],
   "source": [
    "titles_dict.keys()"
   ]
  },
  {
   "cell_type": "code",
   "execution_count": 48,
   "metadata": {},
   "outputs": [],
   "source": [
    "titles_dict=titles_dict['page_title']"
   ]
  },
  {
   "cell_type": "code",
   "execution_count": 49,
   "metadata": {},
   "outputs": [
    {
     "name": "stdout",
     "output_type": "stream",
     "text": [
      "2463\n"
     ]
    }
   ],
   "source": [
    "for index, name in titles_dict.items():   \n",
    "    if name == 'History of mathematics':\n",
    "        print (index)"
   ]
  },
  {
   "cell_type": "code",
   "execution_count": 50,
   "metadata": {
    "collapsed": true
   },
   "outputs": [],
   "source": [
    "w_ranks=sorted(wiki_ranks,key=wiki_ranks.get,reverse=True)"
   ]
  },
  {
   "cell_type": "code",
   "execution_count": 51,
   "metadata": {},
   "outputs": [
    {
     "name": "stdout",
     "output_type": "stream",
     "text": [
      "2549\n"
     ]
    }
   ],
   "source": [
    "for indx,num in enumerate(w_ranks):    \n",
    "    if num == '2463':\n",
    "        print (indx)"
   ]
  },
  {
   "cell_type": "code",
   "execution_count": 52,
   "metadata": {},
   "outputs": [
    {
     "name": "stdout",
     "output_type": "stream",
     "text": [
      "50\n",
      "100\n",
      "150\n",
      "200\n",
      "250\n",
      "300\n"
     ]
    }
   ],
   "source": [
    "#adding 300 edges from most important sites\n",
    "wiki_leaks=G_wiki.copy()\n",
    "added=0\n",
    "counter=0\n",
    "while added<300:\n",
    "    elem=w_ranks[counter]\n",
    "    if added<300:\n",
    "        if not ((elem,'2463') in wiki_leaks.in_edges('2463')):\n",
    "            wiki_leaks.add_edge(elem,'2463')\n",
    "            added=added+1\n",
    "    if added%50==0:\n",
    "        print(added)\n",
    "    counter=counter+1"
   ]
  },
  {
   "cell_type": "code",
   "execution_count": 53,
   "metadata": {},
   "outputs": [
    {
     "name": "stdout",
     "output_type": "stream",
     "text": [
      "3\n"
     ]
    }
   ],
   "source": [
    "wiki_ranks=power_iteration(wiki_leaks,500)\n",
    "w_ranks=sorted(wiki_ranks,key=wiki_ranks.get,reverse=True)\n",
    "for indx,num in enumerate(w_ranks):    \n",
    "    if num == '2463':\n",
    "        print (indx)"
   ]
  },
  {
   "cell_type": "code",
   "execution_count": 54,
   "metadata": {},
   "outputs": [
    {
     "name": "stdout",
     "output_type": "stream",
     "text": [
      "Top ten wiki pages:\n",
      "[5210 'United States']\n",
      "[5201 'United Kingdom']\n",
      "[2034 'France']\n",
      "[2463 'History of mathematics']\n",
      "[1890 'Europe']\n",
      "[2168 'Germany']\n",
      "[1811 'England']\n",
      "[5477 'World War II']\n",
      "[2999 'Latin']\n",
      "[2619 'India']\n"
     ]
    }
   ],
   "source": [
    "top_articles=[]\n",
    "for i in range(10):\n",
    "    top_articles.append(titles.get_values()[int(w_ranks[i])])\n",
    "\n",
    "print (\"Top ten wiki pages:\")\n",
    "for i in top_articles:\n",
    "    print (i)"
   ]
  },
  {
   "cell_type": "markdown",
   "metadata": {},
   "source": [
    "I added 300 edges and went from rank 2550 to rank 4"
   ]
  },
  {
   "cell_type": "code",
   "execution_count": 55,
   "metadata": {},
   "outputs": [
    {
     "data": {
      "text/plain": [
       "0.004669798237159422"
      ]
     },
     "execution_count": 55,
     "metadata": {},
     "output_type": "execute_result"
    }
   ],
   "source": [
    "wiki_ranks['2463']"
   ]
  },
  {
   "cell_type": "markdown",
   "metadata": {},
   "source": [
    "The score went from 9.705905353496401e-05 to 0.004669798237159422. That is approximately 48 times higher"
   ]
  },
  {
   "cell_type": "code",
   "execution_count": null,
   "metadata": {
    "collapsed": true
   },
   "outputs": [],
   "source": []
  }
 ],
 "metadata": {
  "kernelspec": {
   "display_name": "Python 3",
   "language": "python",
   "name": "python3"
  },
  "language_info": {
   "codemirror_mode": {
    "name": "ipython",
    "version": 3
   },
   "file_extension": ".py",
   "mimetype": "text/x-python",
   "name": "python",
   "nbconvert_exporter": "python",
   "pygments_lexer": "ipython3",
   "version": "3.6.3"
  }
 },
 "nbformat": 4,
 "nbformat_minor": 2
}
