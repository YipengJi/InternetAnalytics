{
 "cells": [
  {
   "cell_type": "markdown",
   "metadata": {},
   "source": [
    "# Networks: structure, evolution & processes\n",
    "**Internet Analytics - Lab 2**\n",
    "\n",
    "---\n",
    "\n",
    "**Group:** *Your group letter.*\n",
    "\n",
    "**Names:**\n",
    "\n",
    "* *Name 1*\n",
    "* *Name 2*\n",
    "* *Name 3*\n",
    "\n",
    "---\n",
    "\n",
    "#### Instructions\n",
    "\n",
    "*This is a template for part 2 of the lab. Clearly write your answers, comments and interpretations in Markodown cells. Don't forget that you can add $\\LaTeX$ equations in these cells. Feel free to add or remove any cell.*\n",
    "\n",
    "*Please properly comment your code. Code readability will be considered for grading. To avoid long cells of codes in the notebook, you can also embed long python functions and classes in a separate module. Don’t forget to hand in your module if that is the case. In multiple exercises, you are required to come up with your own method to solve various problems. Be creative and clearly motivate and explain your methods. Creativity and clarity will be considered for grading.*"
   ]
  },
  {
   "cell_type": "markdown",
   "metadata": {},
   "source": [
    "---\n",
    "\n",
    "## 2.2 Network sampling\n",
    "\n",
    "#### Exercise 2.7: Random walk on the Facebook network"
   ]
  },
  {
   "cell_type": "code",
   "execution_count": 27,
   "metadata": {
    "collapsed": true
   },
   "outputs": [],
   "source": [
    "import requests\n",
    "import random\n",
    "import numpy as np\n",
    "import matplotlib.pyplot as plt"
   ]
  },
  {
   "cell_type": "code",
   "execution_count": 9,
   "metadata": {},
   "outputs": [
    {
     "name": "stdout",
     "output_type": "stream",
     "text": [
      "19\n"
     ]
    }
   ],
   "source": [
    "# Base url of the API\n",
    "URL_TEMPLATE = 'http://iccluster051.iccluster.epfl.ch:5050/v1.0/facebook?user={user_id}'\n",
    "# Target user id\n",
    "user_id = 'f30ff3966f16ed62f5165a229a19b319'\n",
    "# The actual url to call \n",
    "url = URL_TEMPLATE.format(user_id=user_id)\n",
    "# Execute the HTTP Get request\n",
    "response = requests.get(url)\n",
    "# Format the json response as a Python dict\n",
    "data = response.json()\n",
    "print(data['age'])"
   ]
  },
  {
   "cell_type": "code",
   "execution_count": 12,
   "metadata": {
    "collapsed": true
   },
   "outputs": [],
   "source": [
    "def get_node(user_id):\n",
    "    # Base url of the API\n",
    "    URL_TEMPLATE = 'http://iccluster051.iccluster.epfl.ch:5050/v1.0/facebook?user={user_id}'\n",
    "    # The actual url to call \n",
    "    url = URL_TEMPLATE.format(user_id=user_id)\n",
    "    # Execute the HTTP Get request\n",
    "    response = requests.get(url)\n",
    "    # Format the json response as a Python dict\n",
    "    data = response.json()\n",
    "    return data"
   ]
  },
  {
   "cell_type": "code",
   "execution_count": 39,
   "metadata": {},
   "outputs": [],
   "source": [
    "#random walker \n",
    "def random_walker(source_node_id, N, print_visited=False):\n",
    "    temp_node=get_node(source_node_id)\n",
    "    temp_node_id=source_node_id\n",
    "    i=0\n",
    "    age=0\n",
    "    visited=dict()\n",
    "    while i<N:\n",
    "        \n",
    "        if print_visited:\n",
    "            visited[temp_node_id] = visited.get(temp_node_id, 0) + 1\n",
    "        \n",
    "        age=age+temp_node['age']\n",
    "        #select next node randomly from freinds/neighbours\n",
    "        friends=temp_node['friends']\n",
    "        temp_node_id=random.choice(friends)\n",
    "        temp_node=get_node(temp_node_id)\n",
    "        i=i+1\n",
    "        \n",
    "    \n",
    "    #do not allow division by 0 \n",
    "    if N==0:\n",
    "        print (\"No nodes visited, N=0\")\n",
    "    else :\n",
    "        av_age=age/N\n",
    "        print (\"average age: \",av_age)\n",
    "        print (\"nodes visited: \", N)\n",
    "        \n",
    "        if print_visited:\n",
    "            width = 0.5     # gives histogram aspect to the bar diagram\n",
    "            #hide x axis(node_id too long)\n",
    "            ax = plt.axes()\n",
    "            ax.set_xticks([])\n",
    "            \n",
    "            plt.bar(visited.keys(), visited.values(), width, color='b')\n",
    "            plt.show()"
   ]
  },
  {
   "cell_type": "code",
   "execution_count": 19,
   "metadata": {},
   "outputs": [
    {
     "name": "stdout",
     "output_type": "stream",
     "text": [
      "average age:  31.398\n",
      "nodes visited:  500\n",
      "average age:  23.854\n",
      "nodes visited:  1000\n",
      "average age:  22.932\n",
      "nodes visited:  1500\n",
      "average age:  23.1305\n",
      "nodes visited:  2000\n",
      "average age:  23.0336\n",
      "nodes visited:  2500\n",
      "average age:  22.822333333333333\n",
      "nodes visited:  3000\n",
      "average age:  22.78514285714286\n",
      "nodes visited:  3500\n",
      "average age:  22.26625\n",
      "nodes visited:  4000\n",
      "average age:  23.034222222222223\n",
      "nodes visited:  4500\n",
      "average age:  23.1962\n",
      "nodes visited:  5000\n",
      "average age:  23.559454545454546\n",
      "nodes visited:  5500\n",
      "average age:  22.675166666666666\n",
      "nodes visited:  6000\n",
      "average age:  23.487384615384617\n",
      "nodes visited:  6500\n",
      "average age:  22.629\n",
      "nodes visited:  7000\n"
     ]
    }
   ],
   "source": [
    "i = 500\n",
    "while i < 7001:\n",
    "    random_walker(user_id,i)\n",
    "    i=i+500"
   ]
  },
  {
   "cell_type": "markdown",
   "metadata": {},
   "source": [
    "the average age seems to converge somewhere around 23 years \n",
    "\n",
    "How many nodes do we need to get a precise estimate? --> check slides?"
   ]
  },
  {
   "cell_type": "markdown",
   "metadata": {},
   "source": [
    "#### Exercise 2.8"
   ]
  },
  {
   "cell_type": "code",
   "execution_count": 35,
   "metadata": {},
   "outputs": [
    {
     "name": "stdout",
     "output_type": "stream",
     "text": [
      "average age:  23.96066666666667\n",
      "nodes visited:  1500\n"
     ]
    },
    {
     "data": {
      "image/png": "[encoded data removed]",
      "text/plain": [
       "<matplotlib.figure.Figure at 0x7fb0ad890400>"
      ]
     },
     "metadata": {},
     "output_type": "display_data"
    }
   ],
   "source": [
    "random_walker(user_id,1500,print_visited=True)"
   ]
  },
  {
   "cell_type": "markdown",
   "metadata": {},
   "source": [
    "We can clearely see that some nodes are visited more than once. So the random walker is often returning to already visited nodes. Those nodes are probably better connected than other and thus more probable to being visited. Of course this destroys the average because well connected nodes weight more than not so well connected ones. Thus we could try to only visit nodes that were not visited before."
   ]
  },
  {
   "cell_type": "code",
   "execution_count": null,
   "metadata": {
    "collapsed": true
   },
   "outputs": [],
   "source": [
    "#random walker \n",
    "def random_walker2(source_node_id, N, print_visited=False):\n",
    "    temp_node=get_node(source_node_id)\n",
    "    temp_node_id=source_node_id\n",
    "    i=0\n",
    "    age=0\n",
    "    visited=dict()\n",
    "    while i<N:\n",
    "        \n",
    "        if print_visited:\n",
    "            visited[temp_node_id] = visited.get(temp_node_id, 0) + 1\n",
    "        \n",
    "        #TODO: only add age if not visited before, and only increment i in that case\n",
    "        \n",
    "        age=age+temp_node['age']\n",
    "        #select next node randomly from freinds/neighbours\n",
    "        friends=temp_node['friends']\n",
    "        temp_node_id=random.choice(friends)\n",
    "        \n",
    "        tries=0\n",
    "        threshold=len(friends)*500\n",
    "        while temp_node_id in visited and threshold>tries:\n",
    "            temp_node_id=random.choice(friends)\n",
    "            tries=tries+1 \n",
    "            if tries==threshold:\n",
    "                print(\"visited again\")\n",
    "        #print (\"found one, tries: \", tries)\n",
    "        \n",
    "        temp_node=get_node(temp_node_id)\n",
    "        i=i+1\n",
    "        \n",
    "    \n",
    "    #do not allow division by 0 \n",
    "    if N==0:\n",
    "        print (\"No nodes visited, N=0\")\n",
    "    else :\n",
    "        av_age=age/N\n",
    "        print (\"average age: \",av_age)\n",
    "        print (\"nodes visited: \", N)\n",
    "        \n",
    "        if print_visited:\n",
    "            width = 0.5     # gives histogram aspect to the bar diagram\n",
    "            #hide x axis(node_id too long)\n",
    "            ax = plt.axes()\n",
    "            ax.set_xticks([])\n",
    "            \n",
    "            plt.bar(visited.keys(), visited.values(), width, color='b')\n",
    "            plt.show()"
   ]
  },
  {
   "cell_type": "code",
   "execution_count": null,
   "metadata": {},
   "outputs": [
    {
     "name": "stdout",
     "output_type": "stream",
     "text": [
      "found one, tries:  0\n",
      "found one, tries:  0\n",
      "found one, tries:  0\n",
      "found one, tries:  0\n",
      "found one, tries:  0\n",
      "found one, tries:  0\n",
      "found one, tries:  0\n",
      "found one, tries:  0\n",
      "visited again\n"
     ]
    }
   ],
   "source": [
    "random_walker2(user_id,1500,print_visited=True)"
   ]
  },
  {
   "cell_type": "code",
   "execution_count": null,
   "metadata": {
    "collapsed": true
   },
   "outputs": [],
   "source": []
  }
 ],
 "metadata": {
  "kernelspec": {
   "display_name": "Python [default]",
   "language": "python",
   "name": "python3"
  },
  "language_info": {
   "codemirror_mode": {
    "name": "ipython",
    "version": 3
   },
   "file_extension": ".py",
   "mimetype": "text/x-python",
   "name": "python",
   "nbconvert_exporter": "python",
   "pygments_lexer": "ipython3",
   "version": "3.5.3"
  }
 },
 "nbformat": 4,
 "nbformat_minor": 2
}
