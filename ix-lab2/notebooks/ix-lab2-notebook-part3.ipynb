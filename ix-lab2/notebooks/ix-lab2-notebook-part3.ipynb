{
 "cells": [
  {
   "cell_type": "markdown",
   "metadata": {},
   "source": [
    "# Networks: structure, evolution & processes\n",
    "**Internet Analytics - Lab 2**\n",
    "\n",
    "---\n",
    "\n",
    "**Group:** *Your group letter.*\n",
    "\n",
    "**Names:**\n",
    "\n",
    "* *Name 1*\n",
    "* *Name 2*\n",
    "* *Name 3*\n",
    "\n",
    "---\n",
    "\n",
    "#### Instructions\n",
    "\n",
    "*This is a template for part 3 of the lab. Clearly write your answers, comments and interpretations in Markodown cells. Don't forget that you can add $\\LaTeX$ equations in these cells. Feel free to add or remove any cell.*\n",
    "\n",
    "*Please properly comment your code. Code readability will be considered for grading. To avoid long cells of codes in the notebook, you can also embed long python functions and classes in a separate module. Don’t forget to hand in your module if that is the case. In multiple exercises, you are required to come up with your own method to solve various problems. Be creative and clearly motivate and explain your methods. Creativity and clarity will be considered for grading.*"
   ]
  },
  {
   "cell_type": "markdown",
   "metadata": {},
   "source": [
    "---\n",
    "\n",
    "## 2.3 Epdemics\n",
    "\n",
    "#### Exercise 2.9: Simulate an epidemic outbreak"
   ]
  },
  {
   "cell_type": "markdown",
   "metadata": {
    "collapsed": true
   },
   "source": [
    "Code from helper"
   ]
  },
  {
   "cell_type": "code",
   "execution_count": 2,
   "metadata": {
    "collapsed": true
   },
   "outputs": [],
   "source": [
    "import epidemics_helper\n",
    "from networkx.readwrite import json_graph\n",
    "import json"
   ]
  },
  {
   "cell_type": "code",
   "execution_count": 17,
   "metadata": {
    "collapsed": true
   },
   "outputs": [],
   "source": [
    "def read_json_file(filename):\n",
    "    with open(filename) as f:\n",
    "        js_graph = json.load(f)\n",
    "    return json_graph.node_link_graph(js_graph)\n",
    "\n",
    "G = read_json_file(\"data/nyc_augmented_network.json\")"
   ]
  },
  {
   "cell_type": "code",
   "execution_count": 103,
   "metadata": {
    "collapsed": true
   },
   "outputs": [],
   "source": [
    "sir = epidemics_helper.SimulationSIR(G, beta=10.0, gamma=.1)"
   ]
  },
  {
   "cell_type": "code",
   "execution_count": 120,
   "metadata": {},
   "outputs": [
    {
     "name": "stdout",
     "output_type": "stream",
     "text": [
      "Epidemic stopped after 100.68 days | 100.68 days elapsed | 0.1% susceptible, 0.0% infected, 99.9% recovered\n"
     ]
    }
   ],
   "source": [
    "sir.launch_epidemic(source=23654, max_time=100.0)"
   ]
  },
  {
   "cell_type": "markdown",
   "metadata": {},
   "source": [
    "Functions for plotting "
   ]
  },
  {
   "cell_type": "code",
   "execution_count": 146,
   "metadata": {},
   "outputs": [],
   "source": [
    "days=100\n",
    "\n",
    "inf_time=[0]*days\n",
    "rec_time=[0]*days\n",
    "inf_time_sum=[0]*days\n",
    "rec_time_sum=[0]*days\n",
    "susc_time=[len(G.nodes())]*days"
   ]
  },
  {
   "cell_type": "code",
   "execution_count": 147,
   "metadata": {},
   "outputs": [],
   "source": [
    "for i in range(len(G.nodes())):\n",
    "    if sir.inf_time[i] != float('inf'):\n",
    "        inf_time[int(sir.inf_time[i])]=inf_time[int(sir.inf_time[i])]+1\n",
    "    if sir.rec_time[i] != float('inf') :\n",
    "        rec_time[int(sir.rec_time[i])]=rec_time[int(sir.rec_time[i])]+1\n",
    "\n",
    "\n",
    "\n",
    "for i in range(days):\n",
    "    if i!=0:\n",
    "        rec_time_sum[i]=rec_time[i]+rec_time_sum[i-1]\n",
    "        inf_time_sum[i]=inf_time[i]+inf_time_sum[i-1]-rec_time[i]\n",
    "        susc_time[i]=susc_time[i-1]-inf_time[i]\n",
    "    else:\n",
    "        rec_time_sum[i]=rec_time[i]\n",
    "        inf_time_sum[i]=inf_time[i]\n",
    "        susc_time[i]=susc_time[i]-inf_time[i]\n",
    "        \n",
    "num_nodes=len(G.nodes())\n",
    "        \n",
    "for i in range(days):\n",
    "    susc_time[i]=susc_time[i]*100/num_nodes\n",
    "    rec_time_sum[i]=rec_time_sum[i]*100/num_nodes\n",
    "    inf_time_sum[i]=inf_time_sum[i]*100/num_nodes"
   ]
  },
  {
   "cell_type": "markdown",
   "metadata": {},
   "source": [
    "Epidemic over time"
   ]
  },
  {
   "cell_type": "code",
   "execution_count": 148,
   "metadata": {},
   "outputs": [
    {
     "name": "stdout",
     "output_type": "stream",
     "text": [
      "Infection and recovery each day\n"
     ]
    },
    {
     "data": {
      "image/png": "[encoded data removed]",
      "text/plain": [
       "<matplotlib.figure.Figure at 0x1512cc5048>"
      ]
     },
     "metadata": {},
     "output_type": "display_data"
    }
   ],
   "source": [
    "print (\"Infection and recovery each day\")\n",
    "plt1=plt.plot(rec_time)\n",
    "plt2=plt.plot(inf_time)\n",
    "plt.legend([\"Recovery\",\"Infection\"])\n",
    "#plt.plot(susc_time, label=\"Suceptible\")\n",
    "plt.gca().set_xlim([-1,days-50])\n",
    "plt.xlabel(\"Time (Days)\")\n",
    "plt.ylabel(\"Percentage of nodes (%)\")\n",
    "plt.show()"
   ]
  },
  {
   "cell_type": "code",
   "execution_count": 149,
   "metadata": {},
   "outputs": [
    {
     "name": "stdout",
     "output_type": "stream",
     "text": [
      "percentege of infected and recovered people over time\n"
     ]
    },
    {
     "data": {
      "image/png": "[encoded data removed]",
      "text/plain": [
       "<matplotlib.figure.Figure at 0x151444cb38>"
      ]
     },
     "metadata": {},
     "output_type": "display_data"
    }
   ],
   "source": [
    "print (\"percentege of infected and recovered people over time\")\n",
    "plt1=plt.plot(rec_time_sum)\n",
    "plt2=plt.plot(inf_time_sum)\n",
    "plt.plot(susc_time)\n",
    "plt.legend([\"Recovery\",\"Infection\",\"Susceptible\"])\n",
    "#plt.plot(susc_time, label=\"Suceptible\")\n",
    "plt.gca().set_xlim([-1,days-50])\n",
    "plt.xlabel(\"Time (Days)\")\n",
    "plt.ylabel(\"Percentage of nodes (%)\")\n",
    "plt.show()"
   ]
  },
  {
   "cell_type": "markdown",
   "metadata": {},
   "source": [
    "The plot shows that it takes around seven days until over sixty percent of nodes are infected.    How can they be dead when they recover???"
   ]
  },
  {
   "cell_type": "code",
   "execution_count": 172,
   "metadata": {},
   "outputs": [],
   "source": [
    "def visualize_in_graph(days,sir):\n",
    "    #create color array for the nodes\n",
    "    node_color=[\"g\"]*num_nodes \n",
    "    \n",
    "    #get node status returns \n",
    "    # 0 -- susceptible\n",
    "    # 1 -- infected\n",
    "    # 2 -- recovered\n",
    "    \n",
    "    for i in range(num_nodes):\n",
    "        status=sir.get_node_status(i,days)\n",
    "        if status != 0: # green for susceptible\n",
    "            if status==1:\n",
    "                node_color[i]=\"r\"  #red for infected\n",
    "            else:\n",
    "                node_color[i]=\"b\"  #blue for recovered\n",
    "    \n",
    "    nx.draw(G, node_color=node_color)\n",
    "    plt.show()"
   ]
  },
  {
   "cell_type": "markdown",
   "metadata": {},
   "source": [
    "New York after one day"
   ]
  },
  {
   "cell_type": "code",
   "execution_count": null,
   "metadata": {},
   "outputs": [
    {
     "name": "stderr",
     "output_type": "stream",
     "text": [
      "/Applications/anaconda3/lib/python3.6/site-packages/networkx/drawing/nx_pylab.py:126: MatplotlibDeprecationWarning: pyplot.hold is deprecated.\n",
      "    Future behavior will be consistent with the long-time default:\n",
      "    plot commands add elements without first clearing the\n",
      "    Axes and/or Figure.\n",
      "  b = plt.ishold()\n"
     ]
    }
   ],
   "source": [
    "visualize_in_graph(1,sir)"
   ]
  },
  {
   "cell_type": "markdown",
   "metadata": {},
   "source": [
    "New York after three days"
   ]
  },
  {
   "cell_type": "code",
   "execution_count": null,
   "metadata": {
    "collapsed": true
   },
   "outputs": [],
   "source": [
    "visualize_in_graph(3,sir)"
   ]
  },
  {
   "cell_type": "markdown",
   "metadata": {},
   "source": [
    "New York after 30 days"
   ]
  },
  {
   "cell_type": "code",
   "execution_count": null,
   "metadata": {
    "collapsed": true
   },
   "outputs": [],
   "source": [
    "visualize_in_graph(30,sir)"
   ]
  },
  {
   "cell_type": "markdown",
   "metadata": {},
   "source": [
    "---\n",
    "\n",
    "### 2.3.1 Stop the apocalypse!\n",
    "\n",
    "#### Exercise 2.10: Strategy 1"
   ]
  },
  {
   "cell_type": "code",
   "execution_count": null,
   "metadata": {
    "collapsed": true
   },
   "outputs": [],
   "source": [
    "#TODO: find out, removing edges during or before the epidemic? probably before\n",
    "\n",
    "\n",
    "\n"
   ]
  },
  {
   "cell_type": "markdown",
   "metadata": {},
   "source": [
    "#### Exercise 2.11: Strategy 2"
   ]
  },
  {
   "cell_type": "code",
   "execution_count": null,
   "metadata": {
    "collapsed": true
   },
   "outputs": [],
   "source": []
  }
 ],
 "metadata": {
  "kernelspec": {
   "display_name": "Python 3",
   "language": "python",
   "name": "python3"
  },
  "language_info": {
   "codemirror_mode": {
    "name": "ipython",
    "version": 3
   },
   "file_extension": ".py",
   "mimetype": "text/x-python",
   "name": "python",
   "nbconvert_exporter": "python",
   "pygments_lexer": "ipython3",
   "version": "3.6.2"
  }
 },
 "nbformat": 4,
 "nbformat_minor": 2
}
