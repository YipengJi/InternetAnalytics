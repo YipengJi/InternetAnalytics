{
 "cells": [
  {
   "cell_type": "markdown",
   "metadata": {},
   "source": [
    "# Lab 3 — dimensionality reduction"
   ]
  },
  {
   "cell_type": "code",
   "execution_count": 1,
   "metadata": {
    "collapsed": true
   },
   "outputs": [],
   "source": [
    "import json\n",
    "import matplotlib.pyplot as plt\n",
    "import numpy as np\n",
    "\n",
    "from pyspark.sql import functions\n",
    "from operator import itemgetter\n",
    "\n",
    "%matplotlib inline\n",
    "plt.style.use(\"ggplot\")"
   ]
  },
  {
   "cell_type": "code",
   "execution_count": 2,
   "metadata": {},
   "outputs": [
    {
     "name": "stdout",
     "output_type": "stream",
     "text": [
      "{\"tagId\": 1127, \"tag\": \"zombie\"}\r\n",
      "{\"tagId\": 1128, \"tag\": \"zombies\"}\r\n"
     ]
    }
   ],
   "source": [
    "!hdfs dfs -cat /ix/ml-20m/genome-tags.txt | tail -n 2"
   ]
  },
  {
   "cell_type": "code",
   "execution_count": 3,
   "metadata": {
    "collapsed": true
   },
   "outputs": [],
   "source": [
    "data = sc.textFile(\"/ix/ml-20m/genome-tags.txt\").map(json.loads)\n",
    "tag2name = dict(data.map(itemgetter(\"tagId\", \"tag\")).collect())"
   ]
  },
  {
   "cell_type": "markdown",
   "metadata": {},
   "source": [
    "Loading data"
   ]
  },
  {
   "cell_type": "code",
   "execution_count": 4,
   "metadata": {
    "collapsed": true
   },
   "outputs": [],
   "source": [
    "scores_data = sc.textFile(\"/ix/ml-20m/genome-scores.txt\").map(json.loads)\n",
    "movies_data = sc.textFile(\"/ix/ml-20m/movies.txt\").map(json.loads)\n",
    "ratings_data = sc.textFile(\"/ix/ml-20m/ratings.txt\").map(json.loads)"
   ]
  },
  {
   "cell_type": "markdown",
   "metadata": {},
   "source": [
    "## Exercise 3.1"
   ]
  },
  {
   "cell_type": "code",
   "execution_count": 5,
   "metadata": {},
   "outputs": [
    {
     "data": {
      "text/plain": [
       "[{'movieId': 1, 'relevance': 0.025000000000000022, 'tagId': 1},\n",
       " {'movieId': 1, 'relevance': 0.025000000000000022, 'tagId': 2}]"
      ]
     },
     "execution_count": 5,
     "metadata": {},
     "output_type": "execute_result"
    }
   ],
   "source": [
    "scores_data.take(2)"
   ]
  },
  {
   "cell_type": "code",
   "execution_count": 6,
   "metadata": {
    "collapsed": true
   },
   "outputs": [],
   "source": [
    "#scores=scores_data.collect() taking toolong\n",
    "#create a dataframe to deal with the scores that are too big otherwise\n",
    "from pyspark.sql import SQLContext, Row\n",
    "scores_DF = scores_data.map(lambda l: Row(**dict(l))).toDF()"
   ]
  },
  {
   "cell_type": "code",
   "execution_count": 7,
   "metadata": {
    "collapsed": true
   },
   "outputs": [],
   "source": [
    "#group the scores by movieId\n",
    "scores_grouped=scores_DF.groupBy('movieId').agg(functions.collect_list('relevance'),functions.collect_list('tagId'))"
   ]
  },
  {
   "cell_type": "code",
   "execution_count": 8,
   "metadata": {},
   "outputs": [
    {
     "name": "stdout",
     "output_type": "stream",
     "text": [
      "+-------+-----------------------+--------------------+\n",
      "|movieId|collect_list(relevance)| collect_list(tagId)|\n",
      "+-------+-----------------------+--------------------+\n",
      "|     31|   [0.04099999999999...|[1, 2, 3, 4, 5, 6...|\n",
      "|    231|   [0.04425000000000...|[1, 2, 3, 4, 5, 6...|\n",
      "|    431|   [0.02700000000000...|[1, 2, 3, 4, 5, 6...|\n",
      "+-------+-----------------------+--------------------+\n",
      "only showing top 3 rows\n",
      "\n"
     ]
    }
   ],
   "source": [
    "scores_grouped.show(3)"
   ]
  },
  {
   "cell_type": "code",
   "execution_count": 9,
   "metadata": {
    "collapsed": true
   },
   "outputs": [],
   "source": [
    "#convert to lists\n",
    "#scores- list of Row with movieId, relevance list and tag list\n",
    "scores=scores_grouped.collect()\n",
    "#movies- list of dict with genres list, movieId and title\n",
    "movies=movies_data.collect()"
   ]
  },
  {
   "cell_type": "markdown",
   "metadata": {},
   "source": [
    "* Construct an M×N data matrix, where M is the number of tags and N the number of movies. Do not include movies which do not have any tag."
   ]
  },
  {
   "cell_type": "code",
   "execution_count": 10,
   "metadata": {
    "collapsed": true
   },
   "outputs": [],
   "source": [
    "movie_matrix = np.zeros((len(tag2name),len(scores))) # MxN matrix using len(scores) to exclude movies without tags\n",
    "movieId_matrix =[]\n",
    "\n",
    "for index,row in enumerate(scores):\n",
    "    movieId = row[0]\n",
    "    relevances=row[1]\n",
    "    tags=row[2]\n",
    "    \n",
    "    movieId_matrix.append(movieId)\n",
    "    \n",
    "    for relevance, tag in zip(relevances,tags):\n",
    "        movie_matrix[tag-1,index]=relevance #tags start with 1 \n",
    "    "
   ]
  },
  {
   "cell_type": "code",
   "execution_count": 11,
   "metadata": {},
   "outputs": [
    {
     "data": {
      "text/plain": [
       "array([[ 0.041  ,  0.04425,  0.027  , ...,  0.01825,  0.0385 ,  0.068  ],\n",
       "       [ 0.05125,  0.04825,  0.02725, ...,  0.024  ,  0.03875,  0.08525],\n",
       "       [ 0.0205 ,  0.01925,  0.01975, ...,  0.076  ,  0.024  ,  0.0215 ],\n",
       "       ..., \n",
       "       [ 0.01225,  0.0115 ,  0.01125, ...,  0.01125,  0.0175 ,  0.009  ],\n",
       "       [ 0.08025,  0.07825,  0.07225, ...,  0.076  ,  0.16825,  0.96475],\n",
       "       [ 0.01675,  0.01425,  0.01825, ...,  0.01825,  0.0275 ,  0.93775]])"
      ]
     },
     "execution_count": 11,
     "metadata": {},
     "output_type": "execute_result"
    }
   ],
   "source": [
    "#this is our data matrix, calling it M\n",
    "M=movie_matrix\n",
    "movie_matrix"
   ]
  },
  {
   "cell_type": "markdown",
   "metadata": {
    "collapsed": true
   },
   "source": [
    "#### Plotting"
   ]
  },
  {
   "cell_type": "code",
   "execution_count": 12,
   "metadata": {},
   "outputs": [
    {
     "data": {
      "image/png": "[encoded data removed]",
      "text/plain": [
       "<matplotlib.figure.Figure at 0x7fd6ddae1240>"
      ]
     },
     "metadata": {},
     "output_type": "display_data"
    }
   ],
   "source": [
    "plt.boxplot(M.flatten(),0,'')\n",
    "plt.title(\"Variance of movie relevances, flattened\")\n",
    "plt.ylabel(\"relevance\")\n",
    "plt.show()"
   ]
  },
  {
   "cell_type": "markdown",
   "metadata": {},
   "source": [
    "We can see that the mean value of the relevances is close to 0.05 which is quite low. The variance shows that even if there are a few higher relevances most of the relevances are close and a little below 0.05. \n",
    "The relevance denotes the relevance of the tagg? so the tag relevances seem to be very low"
   ]
  },
  {
   "cell_type": "markdown",
   "metadata": {},
   "source": [
    "*  Plot the variance of each dimension (represented by tags) across all movies."
   ]
  },
  {
   "cell_type": "code",
   "execution_count": 13,
   "metadata": {},
   "outputs": [
    {
     "data": {
      "image/png": "[encoded data removed]",
      "text/plain": [
       "<matplotlib.figure.Figure at 0x7fd6ca9b7320>"
      ]
     },
     "metadata": {},
     "output_type": "display_data"
    }
   ],
   "source": [
    "#variances along axis 0 - tag dimension\n",
    "M1_var=np.var(M,axis=1)\n",
    "plt.scatter(M1_var,range(1,len(M1_var)+1),facecolor='skyblue')\n",
    "plt.title(\"Variance in tag dimension: variance of relevance for each tag across movies\")\n",
    "plt.ylabel(\"tagId\")\n",
    "plt.xlabel(\"variance\")\n",
    "plt.show()"
   ]
  },
  {
   "cell_type": "code",
   "execution_count": 14,
   "metadata": {},
   "outputs": [
    {
     "data": {
      "image/png": "[encoded data removed]",
      "text/plain": [
       "<matplotlib.figure.Figure at 0x7fd6ca9b74e0>"
      ]
     },
     "metadata": {},
     "output_type": "display_data"
    }
   ],
   "source": [
    "#import matplotlib\n",
    "plt.hist(M1_var, bins=200,normed=1,facecolor='skyblue')\n",
    "plt.title(\"Variance histogram of tags\")\n",
    "plt.ylabel(\"normed count\")\n",
    "#_,ax1=plt.subplots()\n",
    "#ax1.set_xscale('log')\n",
    "#ax1.get_xaxis().set_major_formatter(matplotlib.ticker.ScalarFormatter())\n",
    "plt.xlabel(\"variance\")\n",
    "plt.show()"
   ]
  },
  {
   "cell_type": "markdown",
   "metadata": {},
   "source": [
    "The variances are rather small, so it seems that most of the tags have approximately the same relevance in each movie.\n",
    "\n",
    "\n",
    "As the variances are low, the means can be informative. Below one can see that there are some tags with quite high relevance across all movies."
   ]
  },
  {
   "cell_type": "code",
   "execution_count": 15,
   "metadata": {},
   "outputs": [
    {
     "data": {
      "image/png": "[encoded data removed]",
      "text/plain": [
       "<matplotlib.figure.Figure at 0x7fd6d7eb22e8>"
      ]
     },
     "metadata": {},
     "output_type": "display_data"
    }
   ],
   "source": [
    "M1_mean=np.mean(M,axis=1)\n",
    "plt.scatter(M1_mean,range(1,len(M1_mean)+1),facecolor='skyblue')\n",
    "plt.title(\"Mean in tag dimension: Mean of relevance for each tag across movies\")\n",
    "plt.ylabel(\"tagId\")\n",
    "plt.xlabel(\"mean\")\n",
    "plt.show()"
   ]
  },
  {
   "cell_type": "code",
   "execution_count": 16,
   "metadata": {},
   "outputs": [
    {
     "name": "stdout",
     "output_type": "stream",
     "text": [
      "Tags with highest relevance variance:  ['criterion', 'intimate', 'horror', 'relationships', 'tense', 'action', 'comedy']\n",
      "Tags with lowest relevance variance:  ['neil gaiman', 'figure skating', 'hannibal lecter', 'neo-nazis', 'circus', 'truman capote', 'easily confused with other movie(s) (title)']\n"
     ]
    }
   ],
   "source": [
    "var_indx=np.argsort(M1_var) #sort indices\n",
    "var_high=[tag2name[indx+1] for indx in var_indx[-7:] ] \n",
    "var_low=[tag2name[indx+1] for indx in var_indx[:7] ] \n",
    "print (\"Tags with highest relevance variance: \", var_high)\n",
    "print (\"Tags with lowest relevance variance: \", var_low) "
   ]
  },
  {
   "cell_type": "markdown",
   "metadata": {},
   "source": [
    "We can see that the tags with the highest variance are very broad and thus ambigous.\n",
    "Tags with the lowest relevance variance are very specific."
   ]
  },
  {
   "cell_type": "code",
   "execution_count": 17,
   "metadata": {},
   "outputs": [
    {
     "name": "stdout",
     "output_type": "stream",
     "text": [
      "[971 187 451 301 467 645 741]\n",
      "Tags with highest relevance mean:  ['storytelling', 'catastrophe', 'good soundtrack', 'dialogue', 'great ending', 'mentor', 'original']\n",
      "Tags with lowest relevance mean:  ['hannibal lecter', 'aardman', 'claymation', 'beatles', 'batman', 'james bond', 'baseball']\n"
     ]
    }
   ],
   "source": [
    "mean_indx=np.argsort(M1_mean) #sort indices\n",
    "print(mean_indx[-7:])\n",
    "mean_high=[tag2name[indx+1] for indx in mean_indx[-7:] ] \n",
    "mean_low=[tag2name[indx+1] for indx in mean_indx[:7] ] \n",
    "print (\"Tags with highest relevance mean: \", mean_high)\n",
    "print (\"Tags with lowest relevance mean: \", mean_low)"
   ]
  },
  {
   "cell_type": "markdown",
   "metadata": {},
   "source": [
    "The tags with the highest relevance mean over all movies must be important to users for describing a movie in general while the low mean tags are usuallynot very important when describing a movie."
   ]
  },
  {
   "cell_type": "markdown",
   "metadata": {
    "collapsed": true
   },
   "source": [
    "####  Eigenvalues of the M×M covariance matrix\n",
    "\n",
    "*  Plot the eigenvalues of the M×M covariance matrix"
   ]
  },
  {
   "cell_type": "markdown",
   "metadata": {},
   "source": [
    "First creating the covariance matrix"
   ]
  },
  {
   "cell_type": "code",
   "execution_count": 18,
   "metadata": {
    "collapsed": true
   },
   "outputs": [],
   "source": [
    "#standardize by subtracting the mean\n",
    "#also normalize?\n",
    "M_zeromean=M-np.array([M1_mean]).T\n",
    "M_cov=np.cov(M_zeromean)"
   ]
  },
  {
   "cell_type": "code",
   "execution_count": 19,
   "metadata": {},
   "outputs": [
    {
     "data": {
      "text/plain": [
       "array([[ 0.00490042,  0.00327346, -0.00030115, ...,  0.00016838,\n",
       "        -0.00016172, -0.00014599],\n",
       "       [ 0.00327346,  0.00374098, -0.00023234, ...,  0.00011866,\n",
       "        -0.00015645, -0.00014514],\n",
       "       [-0.00030115, -0.00023234,  0.01184989, ...,  0.00130349,\n",
       "        -0.00112118, -0.00035662],\n",
       "       ..., \n",
       "       [ 0.00016838,  0.00011866,  0.00130349, ...,  0.0188282 ,\n",
       "        -0.00114338, -0.00032847],\n",
       "       [-0.00016172, -0.00015645, -0.00112118, ..., -0.00114338,\n",
       "         0.01105378,  0.00659333],\n",
       "       [-0.00014599, -0.00014514, -0.00035662, ..., -0.00032847,\n",
       "         0.00659333,  0.00658031]])"
      ]
     },
     "execution_count": 19,
     "metadata": {},
     "output_type": "execute_result"
    }
   ],
   "source": [
    "M_cov"
   ]
  },
  {
   "cell_type": "code",
   "execution_count": 20,
   "metadata": {
    "collapsed": true
   },
   "outputs": [],
   "source": [
    "eigvalues,eigvectores = np.linalg.eigh(M_cov)\n",
    "eigval_list=eigvalues.tolist()\n",
    "#sort from big to small\n",
    "eigval_list.reverse()"
   ]
  },
  {
   "cell_type": "code",
   "execution_count": 21,
   "metadata": {},
   "outputs": [
    {
     "data": {
      "image/png": "[encoded data removed]",
      "text/plain": [
       "<matplotlib.figure.Figure at 0x7fd6d7e54be0>"
      ]
     },
     "metadata": {},
     "output_type": "display_data"
    }
   ],
   "source": [
    "#use logscale, becasue seems to be power law\n",
    "plt.loglog(eigval_list,color=\"skyblue\")\n",
    "plt.title(\"Eigenvalues of covariance matrix\")\n",
    "plt.ylabel(\"Value of the Eigenvalue\")\n",
    "plt.xlabel(\"Index of Eigenvalue\")\n",
    "plt.show()"
   ]
  },
  {
   "cell_type": "code",
   "execution_count": 22,
   "metadata": {},
   "outputs": [
    {
     "data": {
      "image/png": "[encoded data removed]",
      "text/plain": [
       "<matplotlib.figure.Figure at 0x7fd6d8126e10>"
      ]
     },
     "metadata": {},
     "output_type": "display_data"
    }
   ],
   "source": [
    "plt.loglog(eigval_list[:1007],color=\"skyblue\")\n",
    "plt.title(\"Eigenvalues of covariance matrix, close-up\")\n",
    "plt.ylabel(\"Value of the Eigenvalue\")\n",
    "plt.xlabel(\"Index of Eigenvalue\")\n",
    "plt.show()"
   ]
  },
  {
   "cell_type": "markdown",
   "metadata": {},
   "source": [
    "Almost all eigenvalues are very small. Only approximately 20 eigenvalues are bigger than 0.1. That is the reason why we can capture a lot of information using only a few dimensions in the part below."
   ]
  },
  {
   "cell_type": "markdown",
   "metadata": {},
   "source": [
    "#### Implications\n",
    "\n",
    "*  Explain the implications for dimensionality reduction.\n",
    "\n",
    "\n",
    "PCA expressing the data in terms of the computed priciple components. The bigger the principle component the more variance it represents. So with a few biggest components one will be able to represent a big amount of variance in the data. Using only of fewe components reduces the dimensionality a lot while still representing most of the variance means that not much data is lost.\n",
    "\n",
    "\n",
    "E.g. how many principal directions do you need to capture 2/3 of the variability in the data"
   ]
  },
  {
   "cell_type": "code",
   "execution_count": 23,
   "metadata": {},
   "outputs": [
    {
     "data": {
      "text/plain": [
       "36"
      ]
     },
     "execution_count": 23,
     "metadata": {},
     "output_type": "execute_result"
    }
   ],
   "source": [
    "#get P(x<=X)>2/3 , X is cumulus in this case\n",
    "cumulus=np.cumsum(eigval_list)/np.sum(eigvalues)\n",
    "important_principal_directions= [n for n,i in enumerate(cumulus) if i>(2./3.)]\n",
    "important_principal_directions[0]"
   ]
  },
  {
   "cell_type": "markdown",
   "metadata": {},
   "source": [
    "We need 36 principal directions to capture 2/3 of the variability in the data"
   ]
  },
  {
   "cell_type": "code",
   "execution_count": 24,
   "metadata": {},
   "outputs": [
    {
     "data": {
      "image/png": "[encoded data removed]",
      "text/plain": [
       "<matplotlib.figure.Figure at 0x7fd6d801d2e8>"
      ]
     },
     "metadata": {},
     "output_type": "display_data"
    }
   ],
   "source": [
    "plt.semilogx(cumulus,color=\"skyblue\")\n",
    "plt.title(\"Normed cumulative eigenvalues\")\n",
    "plt.ylabel(\"Cumulated value\")\n",
    "plt.xlabel(\"index of Eigenvalues\")\n",
    "plt.axvline(important_principal_directions[0],linestyle=\"dashed\",color=\"grey\")\n",
    "plt.show()"
   ]
  },
  {
   "cell_type": "markdown",
   "metadata": {},
   "source": [
    "With the first 36 eigenvalues (and the corresponding principal directions) we can capture 2/3 of the data variability. So we can model the original dimension space that is bigger than 1000 with only 36 dimensions and still keep 2/3 of the information from the original data. This shows that we can use PCA very well for dimensionality reduction because it preserves  a lot of information while only using a few most important principal components.\n"
   ]
  },
  {
   "cell_type": "markdown",
   "metadata": {},
   "source": [
    "---\n",
    "## Exercise 3.2 - Concept Space\n",
    "\n",
    "For the five first principal directions, find the 10 tags that have the highest and lowest\n",
    "coordinates in that direction.\n",
    "\n"
   ]
  },
  {
   "cell_type": "code",
   "execution_count": 25,
   "metadata": {},
   "outputs": [
    {
     "name": "stdout",
     "output_type": "stream",
     "text": [
      "[2.7533774797813497, 1.2214710425886668, 0.9960515193084873, 0.662175500207405, 0.5857297851139419]\n"
     ]
    }
   ],
   "source": [
    "#get five biggest eigenvalues, the corresponding eigenvectors are the first five pricipal directions\n",
    "eigval_five=eigval_list[:5]\n",
    "print(eigval_five)\n",
    "#eigenvectores are reversed\n",
    "eigvec_five_rev=eigvectores[:,-5:].T\n",
    "eigvec_five=eigvec_five_rev[::-1]"
   ]
  },
  {
   "cell_type": "code",
   "execution_count": 26,
   "metadata": {},
   "outputs": [
    {
     "name": "stdout",
     "output_type": "stream",
     "text": [
      "\n",
      "\u001b[1mEigenvector  1 \u001b[1m\n",
      "\n",
      "             \u001b[1m highest | lowest\u001b[0m\n",
      "               talky          predictable\n",
      "   social commentary    so bad it's funny\n",
      "           criterion             bad plot\n",
      "        imdb top 250                silly\n",
      "        great acting            silly fun\n",
      "               drama             horrible\n",
      "oscar (best directing)            franchise\n",
      "               bleak                 lame\n",
      "            dramatic           big budget\n",
      "      cinematography               comedy\n",
      "\n",
      "\u001b[1mEigenvector  2 \u001b[1m\n",
      "\n",
      "             \u001b[1m highest | lowest\u001b[0m\n",
      "            intimate               action\n",
      "       relationships      special effects\n",
      "           criterion           big budget\n",
      "         melancholic                chase\n",
      "          loneliness           fast paced\n",
      "         golden palm             suspense\n",
      "          meditative          good action\n",
      "           art house                 plot\n",
      "          melancholy                pg-13\n",
      "              sexual        action packed\n",
      "\n",
      "\u001b[1mEigenvector  3 \u001b[1m\n",
      "\n",
      "             \u001b[1m highest | lowest\u001b[0m\n",
      "           feel-good               horror\n",
      "         sentimental                weird\n",
      "          love story               creepy\n",
      "        heartwarming             splatter\n",
      "            touching              stylish\n",
      "            romantic         cult classic\n",
      "               sweet           disturbing\n",
      "             courage             violence\n",
      "        girlie movie            cult film\n",
      "     feel good movie                 dark\n",
      "\n",
      "\u001b[1mEigenvector  4 \u001b[1m\n",
      "\n",
      "             \u001b[1m highest | lowest\u001b[0m\n",
      "              visual           corruption\n",
      "   visually stunning                crime\n",
      "         imagination               murder\n",
      "              sci-fi police investigation\n",
      "               scifi             thriller\n",
      "  visually appealing             suspense\n",
      "     science fiction             violence\n",
      "              sci fi    police corruption\n",
      "     special effects            gangsters\n",
      "  beautifully filmed         manipulation\n",
      "\n",
      "\u001b[1mEigenvector  5 \u001b[1m\n",
      "\n",
      "             \u001b[1m highest | lowest\u001b[0m\n",
      "            thriller               comedy\n",
      "          conspiracy                funny\n",
      "             secrets            hilarious\n",
      "         suspenseful                goofy\n",
      "               tense             humorous\n",
      "             mystery                humor\n",
      "            suspense           very funny\n",
      "       investigation         cult classic\n",
      "      murder mystery             quotable\n",
      "            betrayal        funny as hell\n"
     ]
    }
   ],
   "source": [
    "for i in range(5):  \n",
    "    indices = np.argsort(eigvectores[:, -(i+1)])\n",
    "    lowest_10 = indices[:10]\n",
    "    top_10 = indices[-10:][::-1]\n",
    "    print('\\n\\033[1mEigenvector ',i+1,'\\033[1m\\n')\n",
    "    print('             \\033[1m highest | lowest\\033[0m')\n",
    "    for top, low in zip(top_10, lowest_10):\n",
    "        print(\"{: >20} {: >20}\".format(tag2name[top+1], tag2name[low+1])) #Do I need to put plus one here, I think so?"
   ]
  },
  {
   "cell_type": "markdown",
   "metadata": {},
   "source": [
    "*  What concepts would you use to describe these dimensions?\n",
    "\n",
    "**Eigenvector 1:** highly acclaimed vs  low quality movie  --> ***overall movie quality and ratings*** (or \"heaviness\" of movie)\n",
    "\n",
    "**Eigenvector 2:** emotionally deep vs superficial --> ***emotional depth in movie***\n",
    "\n",
    "**Eigenvector 3:** postive,relaxing vs scary  --> ***feelings the movie transports***\n",
    "\n",
    "**Eigenvector 4:** science fiction vs thriller  -->  ***distance to reality***\n",
    "\n",
    "**Eigenvector 5:** thriller vs comedy --> ***seriousness of plot/movie***\n"
   ]
  },
  {
   "cell_type": "markdown",
   "metadata": {},
   "source": [
    "* Create a Python dict which maps every tag (name) to its coordinates in the 5 first principal directions and save it to disk. This will be used later for the clustering exercise."
   ]
  },
  {
   "cell_type": "code",
   "execution_count": 27,
   "metadata": {
    "collapsed": true
   },
   "outputs": [],
   "source": [
    "import pickle\n",
    "\n",
    "eigenspace = np.dot(eigvec_five, M_zeromean)\n",
    "projection = np.dot(M_zeromean, eigenspace.T)\n",
    "\n",
    "tags_mapped = {}\n",
    "\n",
    "for key, value in tag2name.items():\n",
    "    tags_mapped[value] = projection[key-1,:]\n",
    "    \n",
    "#to pickle\n",
    "with open('tag_embedding.pickle', 'wb') as handle:\n",
    "    pickle.dump(projection, handle, protocol=pickle.HIGHEST_PROTOCOL)\n",
    "with open('tags_mapped.pickle', 'wb') as handle:\n",
    "    pickle.dump(tags_mapped, handle, protocol=pickle.HIGHEST_PROTOCOL)"
   ]
  },
  {
   "cell_type": "markdown",
   "metadata": {},
   "source": [
    "---\n",
    "## Exercise 3.3 - Movie visualization\n",
    "\n"
   ]
  },
  {
   "cell_type": "code",
   "execution_count": 28,
   "metadata": {
    "collapsed": true
   },
   "outputs": [],
   "source": [
    "#get data\n",
    "with open('selected-movies.pickle', 'rb') as handle:\n",
    "    selected_movies = pickle.load(handle, encoding='utf-8') # encoding='latin1'"
   ]
  },
  {
   "cell_type": "code",
   "execution_count": 29,
   "metadata": {
    "collapsed": true
   },
   "outputs": [],
   "source": [
    "#get data from selected movies to make plotting easier\n",
    "indx = []\n",
    "names = []\n",
    "ratings = []\n",
    "for row in selected_movies:\n",
    "    movie_id = row[0]\n",
    "    movie_name= row[1]\n",
    "    movie_rating = row[2]\n",
    "    #matrix form 3.1\n",
    "    movie_index = movieId_matrix.index(movie_id)\n",
    "    indx.append(movie_index)\n",
    "    names.append(movie_name)\n",
    "    ratings.append(movie_rating)"
   ]
  },
  {
   "cell_type": "markdown",
   "metadata": {},
   "source": [
    "* Project the movies of selected-movies.pickle on the first two principal directions."
   ]
  },
  {
   "cell_type": "code",
   "execution_count": 30,
   "metadata": {},
   "outputs": [
    {
     "name": "stdout",
     "output_type": "stream",
     "text": [
      "(1128, 37)\n",
      "(1128, 2)\n",
      "(2, 37)\n"
     ]
    }
   ],
   "source": [
    "# pick only selected movies from movie matrix\n",
    "selected_M = M[:,indx]\n",
    "print (selected_M.shape)\n",
    "\n",
    "#get the ffirst two eigenvectors\n",
    "pca_2d = eigvec_five.T[:,:2]\n",
    "print(pca_2d.shape)\n",
    "\n",
    "#project the movie matrix on the two eigenvectors\n",
    "projected = pca_2d.T.dot(selected_M)\n",
    "print(projected.shape)"
   ]
  },
  {
   "cell_type": "markdown",
   "metadata": {},
   "source": [
    "\n",
    "\n",
    "* Create an interactive plot that displays the 2D-projection of the movies using bokeh and its hover tool. Color the nodes by their Rotten Tomatoes score.\n",
    "\n",
    "\n",
    "This score corresponds to the percentage of newspaper reviews that rate the movie favorably. See https: www.rottentomatoes.com\n"
   ]
  },
  {
   "cell_type": "code",
   "execution_count": 31,
   "metadata": {},
   "outputs": [
    {
     "data": {
      "text/html": [
       "\n",
       "    <div class=\"bk-root\">\n",
       "        <a href=\"https://bokeh.pydata.org\" target=\"_blank\" class=\"bk-logo bk-logo-small bk-logo-notebook\"></a>\n",
       "        <span id=\"9f8dbcec-fc9f-43ec-bebf-8765213df124\">Loading BokehJS ...</span>\n",
       "    </div>"
      ]
     },
     "metadata": {},
     "output_type": "display_data"
    },
    {
     "data": {
      "application/javascript": [
       "\n",
       "(function(root) {\n",
       "  function now() {\n",
       "    return new Date();\n",
       "  }\n",
       "\n",
       "  var force = true;\n",
       "\n",
       "  if (typeof (root._bokeh_onload_callbacks) === \"undefined\" || force === true) {\n",
       "    root._bokeh_onload_callbacks = [];\n",
       "    root._bokeh_is_loading = undefined;\n",
       "  }\n",
       "\n",
       "  var JS_MIME_TYPE = 'application/javascript';\n",
       "  var HTML_MIME_TYPE = 'text/html';\n",
       "  var EXEC_MIME_TYPE = 'application/vnd.bokehjs_exec.v0+json';\n",
       "  var CLASS_NAME = 'output_bokeh rendered_html';\n",
       "\n",
       "  /**\n",
       "   * Render data to the DOM node\n",
       "   */\n",
       "  function render(props, node) {\n",
       "    var script = document.createElement(\"script\");\n",
       "    node.appendChild(script);\n",
       "  }\n",
       "\n",
       "  /**\n",
       "   * Handle when an output is cleared or removed\n",
       "   */\n",
       "  function handleClearOutput(event, handle) {\n",
       "    var cell = handle.cell;\n",
       "\n",
       "    var id = cell.output_area._bokeh_element_id;\n",
       "    var server_id = cell.output_area._bokeh_server_id;\n",
       "    // Clean up Bokeh references\n",
       "    if (id !== undefined) {\n",
       "      Bokeh.index[id].model.document.clear();\n",
       "      delete Bokeh.index[id];\n",
       "    }\n",
       "\n",
       "    if (server_id !== undefined) {\n",
       "      // Clean up Bokeh references\n",
       "      var cmd = \"from bokeh.io.state import curstate; print(curstate().uuid_to_server['\" + server_id + \"'].get_sessions()[0].document.roots[0]._id)\";\n",
       "      cell.notebook.kernel.execute(cmd, {\n",
       "        iopub: {\n",
       "          output: function(msg) {\n",
       "            var element_id = msg.content.text.trim();\n",
       "            Bokeh.index[element_id].model.document.clear();\n",
       "            delete Bokeh.index[element_id];\n",
       "          }\n",
       "        }\n",
       "      });\n",
       "      // Destroy server and session\n",
       "      var cmd = \"import bokeh.io.notebook as ion; ion.destroy_server('\" + server_id + \"')\";\n",
       "      cell.notebook.kernel.execute(cmd);\n",
       "    }\n",
       "  }\n",
       "\n",
       "  /**\n",
       "   * Handle when a new output is added\n",
       "   */\n",
       "  function handleAddOutput(event, handle) {\n",
       "    var output_area = handle.output_area;\n",
       "    var output = handle.output;\n",
       "\n",
       "    // limit handleAddOutput to display_data with EXEC_MIME_TYPE content only\n",
       "    if ((output.output_type != \"display_data\") || (!output.data.hasOwnProperty(EXEC_MIME_TYPE))) {\n",
       "      return\n",
       "    }\n",
       "\n",
       "    var toinsert = output_area.element.find(`.${CLASS_NAME.split(' ')[0]}`);\n",
       "\n",
       "    if (output.metadata[EXEC_MIME_TYPE][\"id\"] !== undefined) {\n",
       "      toinsert[0].firstChild.textContent = output.data[JS_MIME_TYPE];\n",
       "      // store reference to embed id on output_area\n",
       "      output_area._bokeh_element_id = output.metadata[EXEC_MIME_TYPE][\"id\"];\n",
       "    }\n",
       "    if (output.metadata[EXEC_MIME_TYPE][\"server_id\"] !== undefined) {\n",
       "      var bk_div = document.createElement(\"div\");\n",
       "      bk_div.innerHTML = output.data[HTML_MIME_TYPE];\n",
       "      var script_attrs = bk_div.children[0].attributes;\n",
       "      for (var i = 0; i < script_attrs.length; i++) {\n",
       "        toinsert[0].firstChild.setAttribute(script_attrs[i].name, script_attrs[i].value);\n",
       "      }\n",
       "      // store reference to server id on output_area\n",
       "      output_area._bokeh_server_id = output.metadata[EXEC_MIME_TYPE][\"server_id\"];\n",
       "    }\n",
       "  }\n",
       "\n",
       "  function register_renderer(events, OutputArea) {\n",
       "\n",
       "    function append_mime(data, metadata, element) {\n",
       "      // create a DOM node to render to\n",
       "      var toinsert = this.create_output_subarea(\n",
       "        metadata,\n",
       "        CLASS_NAME,\n",
       "        EXEC_MIME_TYPE\n",
       "      );\n",
       "      this.keyboard_manager.register_events(toinsert);\n",
       "      // Render to node\n",
       "      var props = {data: data, metadata: metadata[EXEC_MIME_TYPE]};\n",
       "      render(props, toinsert[0]);\n",
       "      element.append(toinsert);\n",
       "      return toinsert\n",
       "    }\n",
       "\n",
       "    /* Handle when an output is cleared or removed */\n",
       "    events.on('clear_output.CodeCell', handleClearOutput);\n",
       "    events.on('delete.Cell', handleClearOutput);\n",
       "\n",
       "    /* Handle when a new output is added */\n",
       "    events.on('output_added.OutputArea', handleAddOutput);\n",
       "\n",
       "    /**\n",
       "     * Register the mime type and append_mime function with output_area\n",
       "     */\n",
       "    OutputArea.prototype.register_mime_type(EXEC_MIME_TYPE, append_mime, {\n",
       "      /* Is output safe? */\n",
       "      safe: true,\n",
       "      /* Index of renderer in `output_area.display_order` */\n",
       "      index: 0\n",
       "    });\n",
       "  }\n",
       "\n",
       "  // register the mime type if in Jupyter Notebook environment and previously unregistered\n",
       "  if (root.Jupyter !== undefined) {\n",
       "    var events = require('base/js/events');\n",
       "    var OutputArea = require('notebook/js/outputarea').OutputArea;\n",
       "\n",
       "    if (OutputArea.prototype.mime_types().indexOf(EXEC_MIME_TYPE) == -1) {\n",
       "      register_renderer(events, OutputArea);\n",
       "    }\n",
       "  }\n",
       "\n",
       "  \n",
       "  if (typeof (root._bokeh_timeout) === \"undefined\" || force === true) {\n",
       "    root._bokeh_timeout = Date.now() + 5000;\n",
       "    root._bokeh_failed_load = false;\n",
       "  }\n",
       "\n",
       "  var NB_LOAD_WARNING = {'data': {'text/html':\n",
       "     \"<div style='background-color: #fdd'>\\n\"+\n",
       "     \"<p>\\n\"+\n",
       "     \"BokehJS does not appear to have successfully loaded. If loading BokehJS from CDN, this \\n\"+\n",
       "     \"may be due to a slow or bad network connection. Possible fixes:\\n\"+\n",
       "     \"</p>\\n\"+\n",
       "     \"<ul>\\n\"+\n",
       "     \"<li>re-rerun `output_notebook()` to attempt to load from CDN again, or</li>\\n\"+\n",
       "     \"<li>use INLINE resources instead, as so:</li>\\n\"+\n",
       "     \"</ul>\\n\"+\n",
       "     \"<code>\\n\"+\n",
       "     \"from bokeh.resources import INLINE\\n\"+\n",
       "     \"output_notebook(resources=INLINE)\\n\"+\n",
       "     \"</code>\\n\"+\n",
       "     \"</div>\"}};\n",
       "\n",
       "  function display_loaded() {\n",
       "    var el = document.getElementById(\"9f8dbcec-fc9f-43ec-bebf-8765213df124\");\n",
       "    if (el != null) {\n",
       "      el.textContent = \"BokehJS is loading...\";\n",
       "    }\n",
       "    if (root.Bokeh !== undefined) {\n",
       "      if (el != null) {\n",
       "        el.textContent = \"BokehJS \" + root.Bokeh.version + \" successfully loaded.\";\n",
       "      }\n",
       "    } else if (Date.now() < root._bokeh_timeout) {\n",
       "      setTimeout(display_loaded, 100)\n",
       "    }\n",
       "  }\n",
       "\n",
       "\n",
       "  function run_callbacks() {\n",
       "    try {\n",
       "      root._bokeh_onload_callbacks.forEach(function(callback) { callback() });\n",
       "    }\n",
       "    finally {\n",
       "      delete root._bokeh_onload_callbacks\n",
       "    }\n",
       "    console.info(\"Bokeh: all callbacks have finished\");\n",
       "  }\n",
       "\n",
       "  function load_libs(js_urls, callback) {\n",
       "    root._bokeh_onload_callbacks.push(callback);\n",
       "    if (root._bokeh_is_loading > 0) {\n",
       "      console.log(\"Bokeh: BokehJS is being loaded, scheduling callback at\", now());\n",
       "      return null;\n",
       "    }\n",
       "    if (js_urls == null || js_urls.length === 0) {\n",
       "      run_callbacks();\n",
       "      return null;\n",
       "    }\n",
       "    console.log(\"Bokeh: BokehJS not loaded, scheduling load and callback at\", now());\n",
       "    root._bokeh_is_loading = js_urls.length;\n",
       "    for (var i = 0; i < js_urls.length; i++) {\n",
       "      var url = js_urls[i];\n",
       "      var s = document.createElement('script');\n",
       "      s.src = url;\n",
       "      s.async = false;\n",
       "      s.onreadystatechange = s.onload = function() {\n",
       "        root._bokeh_is_loading--;\n",
       "        if (root._bokeh_is_loading === 0) {\n",
       "          console.log(\"Bokeh: all BokehJS libraries loaded\");\n",
       "          run_callbacks()\n",
       "        }\n",
       "      };\n",
       "      s.onerror = function() {\n",
       "        console.warn(\"failed to load library \" + url);\n",
       "      };\n",
       "      console.log(\"Bokeh: injecting script tag for BokehJS library: \", url);\n",
       "      document.getElementsByTagName(\"head\")[0].appendChild(s);\n",
       "    }\n",
       "  };var element = document.getElementById(\"9f8dbcec-fc9f-43ec-bebf-8765213df124\");\n",
       "  if (element == null) {\n",
       "    console.log(\"Bokeh: ERROR: autoload.js configured with elementid '9f8dbcec-fc9f-43ec-bebf-8765213df124' but no matching script tag was found. \")\n",
       "    return false;\n",
       "  }\n",
       "\n",
       "  var js_urls = [\"https://cdn.pydata.org/bokeh/release/bokeh-0.12.10.min.js\", \"https://cdn.pydata.org/bokeh/release/bokeh-widgets-0.12.10.min.js\", \"https://cdn.pydata.org/bokeh/release/bokeh-tables-0.12.10.min.js\", \"https://cdn.pydata.org/bokeh/release/bokeh-gl-0.12.10.min.js\"];\n",
       "\n",
       "  var inline_js = [\n",
       "    function(Bokeh) {\n",
       "      Bokeh.set_log_level(\"info\");\n",
       "    },\n",
       "    \n",
       "    function(Bokeh) {\n",
       "      \n",
       "    },\n",
       "    function(Bokeh) {\n",
       "      console.log(\"Bokeh: injecting CSS: https://cdn.pydata.org/bokeh/release/bokeh-0.12.10.min.css\");\n",
       "      Bokeh.embed.inject_css(\"https://cdn.pydata.org/bokeh/release/bokeh-0.12.10.min.css\");\n",
       "      console.log(\"Bokeh: injecting CSS: https://cdn.pydata.org/bokeh/release/bokeh-widgets-0.12.10.min.css\");\n",
       "      Bokeh.embed.inject_css(\"https://cdn.pydata.org/bokeh/release/bokeh-widgets-0.12.10.min.css\");\n",
       "      console.log(\"Bokeh: injecting CSS: https://cdn.pydata.org/bokeh/release/bokeh-tables-0.12.10.min.css\");\n",
       "      Bokeh.embed.inject_css(\"https://cdn.pydata.org/bokeh/release/bokeh-tables-0.12.10.min.css\");\n",
       "    }\n",
       "  ];\n",
       "\n",
       "  function run_inline_js() {\n",
       "    \n",
       "    if ((root.Bokeh !== undefined) || (force === true)) {\n",
       "      for (var i = 0; i < inline_js.length; i++) {\n",
       "        inline_js[i].call(root, root.Bokeh);\n",
       "      }if (force === true) {\n",
       "        display_loaded();\n",
       "      }} else if (Date.now() < root._bokeh_timeout) {\n",
       "      setTimeout(run_inline_js, 100);\n",
       "    } else if (!root._bokeh_failed_load) {\n",
       "      console.log(\"Bokeh: BokehJS failed to load within specified timeout.\");\n",
       "      root._bokeh_failed_load = true;\n",
       "    } else if (force !== true) {\n",
       "      var cell = $(document.getElementById(\"9f8dbcec-fc9f-43ec-bebf-8765213df124\")).parents('.cell').data().cell;\n",
       "      cell.output_area.append_execute_result(NB_LOAD_WARNING)\n",
       "    }\n",
       "\n",
       "  }\n",
       "\n",
       "  if (root._bokeh_is_loading === 0) {\n",
       "    console.log(\"Bokeh: BokehJS loaded, going straight to plotting\");\n",
       "    run_inline_js();\n",
       "  } else {\n",
       "    load_libs(js_urls, function() {\n",
       "      console.log(\"Bokeh: BokehJS plotting callback run at\", now());\n",
       "      run_inline_js();\n",
       "    });\n",
       "  }\n",
       "}(window));"
      ],
      "application/vnd.bokehjs_load.v0+json": "\n(function(root) {\n  function now() {\n    return new Date();\n  }\n\n  var force = true;\n\n  if (typeof (root._bokeh_onload_callbacks) === \"undefined\" || force === true) {\n    root._bokeh_onload_callbacks = [];\n    root._bokeh_is_loading = undefined;\n  }\n\n  \n\n  \n  if (typeof (root._bokeh_timeout) === \"undefined\" || force === true) {\n    root._bokeh_timeout = Date.now() + 5000;\n    root._bokeh_failed_load = false;\n  }\n\n  var NB_LOAD_WARNING = {'data': {'text/html':\n     \"<div style='background-color: #fdd'>\\n\"+\n     \"<p>\\n\"+\n     \"BokehJS does not appear to have successfully loaded. If loading BokehJS from CDN, this \\n\"+\n     \"may be due to a slow or bad network connection. Possible fixes:\\n\"+\n     \"</p>\\n\"+\n     \"<ul>\\n\"+\n     \"<li>re-rerun `output_notebook()` to attempt to load from CDN again, or</li>\\n\"+\n     \"<li>use INLINE resources instead, as so:</li>\\n\"+\n     \"</ul>\\n\"+\n     \"<code>\\n\"+\n     \"from bokeh.resources import INLINE\\n\"+\n     \"output_notebook(resources=INLINE)\\n\"+\n     \"</code>\\n\"+\n     \"</div>\"}};\n\n  function display_loaded() {\n    var el = document.getElementById(\"9f8dbcec-fc9f-43ec-bebf-8765213df124\");\n    if (el != null) {\n      el.textContent = \"BokehJS is loading...\";\n    }\n    if (root.Bokeh !== undefined) {\n      if (el != null) {\n        el.textContent = \"BokehJS \" + root.Bokeh.version + \" successfully loaded.\";\n      }\n    } else if (Date.now() < root._bokeh_timeout) {\n      setTimeout(display_loaded, 100)\n    }\n  }\n\n\n  function run_callbacks() {\n    try {\n      root._bokeh_onload_callbacks.forEach(function(callback) { callback() });\n    }\n    finally {\n      delete root._bokeh_onload_callbacks\n    }\n    console.info(\"Bokeh: all callbacks have finished\");\n  }\n\n  function load_libs(js_urls, callback) {\n    root._bokeh_onload_callbacks.push(callback);\n    if (root._bokeh_is_loading > 0) {\n      console.log(\"Bokeh: BokehJS is being loaded, scheduling callback at\", now());\n      return null;\n    }\n    if (js_urls == null || js_urls.length === 0) {\n      run_callbacks();\n      return null;\n    }\n    console.log(\"Bokeh: BokehJS not loaded, scheduling load and callback at\", now());\n    root._bokeh_is_loading = js_urls.length;\n    for (var i = 0; i < js_urls.length; i++) {\n      var url = js_urls[i];\n      var s = document.createElement('script');\n      s.src = url;\n      s.async = false;\n      s.onreadystatechange = s.onload = function() {\n        root._bokeh_is_loading--;\n        if (root._bokeh_is_loading === 0) {\n          console.log(\"Bokeh: all BokehJS libraries loaded\");\n          run_callbacks()\n        }\n      };\n      s.onerror = function() {\n        console.warn(\"failed to load library \" + url);\n      };\n      console.log(\"Bokeh: injecting script tag for BokehJS library: \", url);\n      document.getElementsByTagName(\"head\")[0].appendChild(s);\n    }\n  };var element = document.getElementById(\"9f8dbcec-fc9f-43ec-bebf-8765213df124\");\n  if (element == null) {\n    console.log(\"Bokeh: ERROR: autoload.js configured with elementid '9f8dbcec-fc9f-43ec-bebf-8765213df124' but no matching script tag was found. \")\n    return false;\n  }\n\n  var js_urls = [\"https://cdn.pydata.org/bokeh/release/bokeh-0.12.10.min.js\", \"https://cdn.pydata.org/bokeh/release/bokeh-widgets-0.12.10.min.js\", \"https://cdn.pydata.org/bokeh/release/bokeh-tables-0.12.10.min.js\", \"https://cdn.pydata.org/bokeh/release/bokeh-gl-0.12.10.min.js\"];\n\n  var inline_js = [\n    function(Bokeh) {\n      Bokeh.set_log_level(\"info\");\n    },\n    \n    function(Bokeh) {\n      \n    },\n    function(Bokeh) {\n      console.log(\"Bokeh: injecting CSS: https://cdn.pydata.org/bokeh/release/bokeh-0.12.10.min.css\");\n      Bokeh.embed.inject_css(\"https://cdn.pydata.org/bokeh/release/bokeh-0.12.10.min.css\");\n      console.log(\"Bokeh: injecting CSS: https://cdn.pydata.org/bokeh/release/bokeh-widgets-0.12.10.min.css\");\n      Bokeh.embed.inject_css(\"https://cdn.pydata.org/bokeh/release/bokeh-widgets-0.12.10.min.css\");\n      console.log(\"Bokeh: injecting CSS: https://cdn.pydata.org/bokeh/release/bokeh-tables-0.12.10.min.css\");\n      Bokeh.embed.inject_css(\"https://cdn.pydata.org/bokeh/release/bokeh-tables-0.12.10.min.css\");\n    }\n  ];\n\n  function run_inline_js() {\n    \n    if ((root.Bokeh !== undefined) || (force === true)) {\n      for (var i = 0; i < inline_js.length; i++) {\n        inline_js[i].call(root, root.Bokeh);\n      }if (force === true) {\n        display_loaded();\n      }} else if (Date.now() < root._bokeh_timeout) {\n      setTimeout(run_inline_js, 100);\n    } else if (!root._bokeh_failed_load) {\n      console.log(\"Bokeh: BokehJS failed to load within specified timeout.\");\n      root._bokeh_failed_load = true;\n    } else if (force !== true) {\n      var cell = $(document.getElementById(\"9f8dbcec-fc9f-43ec-bebf-8765213df124\")).parents('.cell').data().cell;\n      cell.output_area.append_execute_result(NB_LOAD_WARNING)\n    }\n\n  }\n\n  if (root._bokeh_is_loading === 0) {\n    console.log(\"Bokeh: BokehJS loaded, going straight to plotting\");\n    run_inline_js();\n  } else {\n    load_libs(js_urls, function() {\n      console.log(\"Bokeh: BokehJS plotting callback run at\", now());\n      run_inline_js();\n    });\n  }\n}(window));"
     },
     "metadata": {},
     "output_type": "display_data"
    },
    {
     "data": {
      "text/html": [
       "\n",
       "<div class=\"bk-root\">\n",
       "    <div class=\"bk-plotdiv\" id=\"9a9bd309-de34-4ee0-bfd8-0aa4e0e04080\"></div>\n",
       "</div>"
      ]
     },
     "metadata": {},
     "output_type": "display_data"
    },
    {
     "data": {
      "application/javascript": [
       "(function(root) {\n",
       "  function embed_document(root) {\n",
       "    var docs_json = {\"da6757da-6b69-497a-9999-8b698a7fcc4b\":{\"roots\":{\"references\":[{\"attributes\":{\"active_drag\":\"auto\",\"active_inspect\":\"auto\",\"active_scroll\":\"auto\",\"active_tap\":\"auto\",\"tools\":[{\"id\":\"fc7bfb00-012c-4750-b1ec-05bafd90529b\",\"type\":\"HoverTool\"}]},\"id\":\"edab0ef8-3307-4b92-861a-eb0382941646\",\"type\":\"Toolbar\"},{\"attributes\":{},\"id\":\"b7b5ee35-c173-4a22-bab3-c56b0a76d6c2\",\"type\":\"BasicTickFormatter\"},{\"attributes\":{\"axis_label\":\"Second Principal Component (emotional depth in movie)\",\"formatter\":{\"id\":\"a02ec36b-7bb5-4935-8b70-10a3692f8f32\",\"type\":\"BasicTickFormatter\"},\"plot\":{\"id\":\"b1331ed7-9e71-4bbd-8422-aaec28bcf82f\",\"subtype\":\"Figure\",\"type\":\"Plot\"},\"ticker\":{\"id\":\"b8dc0b87-a815-4cbd-afa6-6883bb9399d7\",\"type\":\"BasicTicker\"}},\"id\":\"be7c6244-871f-4a96-8b9f-98e04bd4f930\",\"type\":\"LinearAxis\"},{\"attributes\":{},\"id\":\"ed94699a-fe1d-46fe-bcc1-92cf3f397062\",\"type\":\"LinearScale\"},{\"attributes\":{\"data_source\":{\"id\":\"0778245a-7574-4452-9604-ad150e94462e\",\"type\":\"ColumnDataSource\"},\"glyph\":{\"id\":\"024c1c62-a6b7-4bb3-b1b2-e1819f313782\",\"type\":\"Circle\"},\"hover_glyph\":null,\"muted_glyph\":null,\"nonselection_glyph\":{\"id\":\"dbcfd0d7-5ab4-4e67-a86d-4e4ad45cdb42\",\"type\":\"Circle\"},\"selection_glyph\":null,\"view\":{\"id\":\"1f8403aa-46b9-4917-8a56-43d3cc3eca20\",\"type\":\"CDSView\"}},\"id\":\"ff1da285-f56a-4b68-8849-1567b8db689e\",\"type\":\"GlyphRenderer\"},{\"attributes\":{\"dimension\":1,\"plot\":{\"id\":\"b1331ed7-9e71-4bbd-8422-aaec28bcf82f\",\"subtype\":\"Figure\",\"type\":\"Plot\"},\"ticker\":{\"id\":\"b8dc0b87-a815-4cbd-afa6-6883bb9399d7\",\"type\":\"BasicTicker\"}},\"id\":\"3242af1a-82ea-48e9-9798-0791979ff68a\",\"type\":\"Grid\"},{\"attributes\":{\"fill_alpha\":{\"value\":0.1},\"fill_color\":{\"value\":\"#1f77b4\"},\"line_alpha\":{\"value\":0.1},\"line_color\":{\"value\":\"#1f77b4\"},\"size\":{\"units\":\"screen\",\"value\":10},\"x\":{\"field\":\"x\"},\"y\":{\"field\":\"y\"}},\"id\":\"dbcfd0d7-5ab4-4e67-a86d-4e4ad45cdb42\",\"type\":\"Circle\"},{\"attributes\":{},\"id\":\"b8dc0b87-a815-4cbd-afa6-6883bb9399d7\",\"type\":\"BasicTicker\"},{\"attributes\":{\"below\":[{\"id\":\"ccfed2e2-4bef-44ad-8d36-89e76c2e7108\",\"type\":\"LinearAxis\"}],\"left\":[{\"id\":\"be7c6244-871f-4a96-8b9f-98e04bd4f930\",\"type\":\"LinearAxis\"}],\"plot_height\":400,\"plot_width\":400,\"renderers\":[{\"id\":\"ccfed2e2-4bef-44ad-8d36-89e76c2e7108\",\"type\":\"LinearAxis\"},{\"id\":\"4e905467-5412-4769-a870-c1c6258d8926\",\"type\":\"Grid\"},{\"id\":\"be7c6244-871f-4a96-8b9f-98e04bd4f930\",\"type\":\"LinearAxis\"},{\"id\":\"3242af1a-82ea-48e9-9798-0791979ff68a\",\"type\":\"Grid\"},{\"id\":\"ff1da285-f56a-4b68-8849-1567b8db689e\",\"type\":\"GlyphRenderer\"}],\"title\":{\"id\":\"69424332-4945-4f73-b3a0-f9c62fd7a9d5\",\"type\":\"Title\"},\"toolbar\":{\"id\":\"edab0ef8-3307-4b92-861a-eb0382941646\",\"type\":\"Toolbar\"},\"x_range\":{\"id\":\"e7d9ecc7-99b3-4ce1-bceb-7030732fee2f\",\"type\":\"DataRange1d\"},\"x_scale\":{\"id\":\"cbd71157-6df9-4535-b61b-91021c65373a\",\"type\":\"LinearScale\"},\"y_range\":{\"id\":\"5c2c7cbf-f8d2-4c6a-bbb0-7381d402ce89\",\"type\":\"DataRange1d\"},\"y_scale\":{\"id\":\"ed94699a-fe1d-46fe-bcc1-92cf3f397062\",\"type\":\"LinearScale\"}},\"id\":\"b1331ed7-9e71-4bbd-8422-aaec28bcf82f\",\"subtype\":\"Figure\",\"type\":\"Plot\"},{\"attributes\":{\"callback\":null},\"id\":\"5c2c7cbf-f8d2-4c6a-bbb0-7381d402ce89\",\"type\":\"DataRange1d\"},{\"attributes\":{\"axis_label\":\"First Principal Component (overall movie quality and ratings)\",\"formatter\":{\"id\":\"b7b5ee35-c173-4a22-bab3-c56b0a76d6c2\",\"type\":\"BasicTickFormatter\"},\"plot\":{\"id\":\"b1331ed7-9e71-4bbd-8422-aaec28bcf82f\",\"subtype\":\"Figure\",\"type\":\"Plot\"},\"ticker\":{\"id\":\"68aafad6-1eb8-419c-8eac-623e267cec13\",\"type\":\"BasicTicker\"}},\"id\":\"ccfed2e2-4bef-44ad-8d36-89e76c2e7108\",\"type\":\"LinearAxis\"},{\"attributes\":{\"fill_alpha\":{\"value\":0.2},\"fill_color\":{\"field\":\"color\"},\"line_color\":{\"field\":\"color\"},\"size\":{\"units\":\"screen\",\"value\":10},\"x\":{\"field\":\"x\"},\"y\":{\"field\":\"y\"}},\"id\":\"024c1c62-a6b7-4bb3-b1b2-e1819f313782\",\"type\":\"Circle\"},{\"attributes\":{},\"id\":\"a02ec36b-7bb5-4935-8b70-10a3692f8f32\",\"type\":\"BasicTickFormatter\"},{\"attributes\":{},\"id\":\"cbd71157-6df9-4535-b61b-91021c65373a\",\"type\":\"LinearScale\"},{\"attributes\":{},\"id\":\"68aafad6-1eb8-419c-8eac-623e267cec13\",\"type\":\"BasicTicker\"},{\"attributes\":{\"plot\":null,\"text\":\"Visualization of selected movie ratings, projected\"},\"id\":\"69424332-4945-4f73-b3a0-f9c62fd7a9d5\",\"type\":\"Title\"},{\"attributes\":{\"callback\":null,\"column_names\":[\"x\",\"y\",\"desc\",\"rating\",\"color\"],\"data\":{\"color\":[\"#e19900\",\"#55db00\",\"#65d800\",\"#45de00\",\"#83d200\",\"#25e200\",\"#65d800\",\"#ba0800\",\"#bb0100\",\"#74d500\",\"#a4c800\",\"#74d500\",\"#3ddf00\",\"#35e000\",\"#35e000\",\"#d57600\",\"#1ee300\",\"#9dca00\",\"#b81100\",\"#5dda00\",\"#4ddd00\",\"#c34e00\",\"#8fce00\",\"#02e700\",\"#45de00\",\"#c6b900\",\"#25e200\",\"#96cc00\",\"#d6af00\",\"#dfa500\",\"#0ee500\",\"#d98000\",\"#25e200\",\"#d9ac00\",\"#83d200\",\"#5dda00\",\"#e19900\"],\"desc\":[\"Independence Day (a.k.a. ID4) (1996)\",\"Spider-Man (2002)\",\"Matrix, The (1999)\",\"Shawshank Redemption, The (1994)\",\"American History X (1998)\",\"Wild Strawberries (Smultronst\\u00e4llet) (1957)\",\"Control (2007)\",\"Miss Congeniality 2: Armed and Fabulous (2005)\",\"Just My Luck (2006)\",\"Santa Sangre (1989)\",\"Videodrome (1983)\",\"Billy Elliot (2000)\",\"Pride (2014)\",\"Jurassic Park (1993)\",\"Star Wars: Episode IV - A New Hope (1977)\",\"Princess Diaries, The (2001)\",\"Schindler's List (1993)\",\"Fight Club (1999)\",\"New York Ripper, The (Squartatore di New York, Lo) (1982)\",\"American Beauty (1999)\",\"City of God (Cidade de Deus) (2002)\",\"Battleship (2012)\",\"Take Care of My Cat (Goyangileul butaghae) (2001)\",\"Terminator, The (1984)\",\"Edge of Tomorrow (2014)\",\"Forrest Gump (1994)\",\"King's Speech, The (2010)\",\"Life Is Beautiful (La Vita \\u00e8 bella) (1997)\",\"Stage Fright (Deliria) (1987)\",\"Ichi the Killer (Koroshiya 1) (2001)\",\"Brazil (1985)\",\"Fountain, The (2006)\",\"Accused, The (1988)\",\"Time to Kill, A (1996)\",\"Ghost Writer, The (2010)\",\"Superbad (2007)\",\"American Pie (1999)\"],\"rating\":[0.6,0.89,0.87,0.91,0.83,0.95,0.87,0.15,0.13,0.85,0.78,0.85,0.92,0.93,0.93,0.47,0.96,0.79,0.17,0.88,0.9,0.34,0.81,1.0,0.91,0.72,0.95,0.8,0.68,0.64,0.98,0.51,0.95,0.67,0.83,0.88,0.6],\"x\":{\"__ndarray__\":\"lQcCaRVN/z+AKIjRRWMDQIp+kdztqhhA/ehT18qGIECyMdVLh9AgQFDq8qnO3h1AiRB6t/Q8HUAI/gzQOLDRPyoDikvKYbc/yaPJ9XvpFUCKpbLPy1cRQP9ranRJcxRAk2KQMpxmFUD+wQiTirwLQNxHiDIMIhVAqM3AgNEJ6D+qRqf1lQYgQCCPO1HA5SBALC7Y6IIGBUC4sO2tfDAhQBDq6DjIuSFArrrrrxM2tD/unjLKRHgEQDqOCHLmjBNAmEKmt9ZsEUCq54kiVVIYQKsgG3mOZxlA0mw4EPRuGkBjqcEfhasRQNishlTiQRFAkiQrAnVeGUBAJCavMyIXQPy+cxDFIxdA18r6j0gLDkBbynMRxsEVQBNuVyt0hw1ARPOBKDWzAUA=\",\"dtype\":\"float64\",\"shape\":[37]},\"y\":{\"__ndarray__\":\"mJ/0UMMEHMAI6HCcAEYawEKhvPDXkyDAxbSXjk5jF8AymjcMNIQTwLQSjsK8ifG/XaMSL3MK/b9KKqPYwFACwAqHh7IXSf2/utj0EzTD/b9bnvjOF6X9v9jStSzLwgHAPlvPvP2M/b+PoOiI0iEdwJhMp8NrTh7AElMACXBoAsAcqgBiGC8TwJHgO9kppRbAuwPU1fv1B8BcL4lX4fIIwFvx0QmpShHAaDD32z3OE8BOk6ANxN3LP2Au2YsDxx3ApfZv5ndOHMAO45FtKx4UwFyu+mXG6w3AajlpLIhJDMARSb2+3pwGwK+Ggze0VATAsWIHuEfsCcCUMSMPhWcGwOOdUAZg3AvAYimhUEF3DsD3JibWqsgNwMvtettTUwbA1F7NIWUlDcA=\",\"dtype\":\"float64\",\"shape\":[37]}}},\"id\":\"0778245a-7574-4452-9604-ad150e94462e\",\"type\":\"ColumnDataSource\"},{\"attributes\":{\"callback\":null,\"tooltips\":[[\"index\",\"$index\"],[\"(x,y)\",\"($x, $y)\"],[\"Name\",\"@desc\"],[\"Rating\",\"@rating\"]]},\"id\":\"fc7bfb00-012c-4750-b1ec-05bafd90529b\",\"type\":\"HoverTool\"},{\"attributes\":{\"source\":{\"id\":\"0778245a-7574-4452-9604-ad150e94462e\",\"type\":\"ColumnDataSource\"}},\"id\":\"1f8403aa-46b9-4917-8a56-43d3cc3eca20\",\"type\":\"CDSView\"},{\"attributes\":{\"plot\":{\"id\":\"b1331ed7-9e71-4bbd-8422-aaec28bcf82f\",\"subtype\":\"Figure\",\"type\":\"Plot\"},\"ticker\":{\"id\":\"68aafad6-1eb8-419c-8eac-623e267cec13\",\"type\":\"BasicTicker\"}},\"id\":\"4e905467-5412-4769-a870-c1c6258d8926\",\"type\":\"Grid\"},{\"attributes\":{\"callback\":null},\"id\":\"e7d9ecc7-99b3-4ce1-bceb-7030732fee2f\",\"type\":\"DataRange1d\"}],\"root_ids\":[\"b1331ed7-9e71-4bbd-8422-aaec28bcf82f\"]},\"title\":\"Bokeh Application\",\"version\":\"0.12.10\"}};\n",
       "    var render_items = [{\"docid\":\"da6757da-6b69-497a-9999-8b698a7fcc4b\",\"elementid\":\"9a9bd309-de34-4ee0-bfd8-0aa4e0e04080\",\"modelid\":\"b1331ed7-9e71-4bbd-8422-aaec28bcf82f\"}];\n",
       "\n",
       "    root.Bokeh.embed.embed_items(docs_json, render_items);\n",
       "  }\n",
       "\n",
       "  if (root.Bokeh !== undefined) {\n",
       "    embed_document(root);\n",
       "  } else {\n",
       "    var attempts = 0;\n",
       "    var timer = setInterval(function(root) {\n",
       "      if (root.Bokeh !== undefined) {\n",
       "        embed_document(root);\n",
       "        clearInterval(timer);\n",
       "      }\n",
       "      attempts++;\n",
       "      if (attempts > 100) {\n",
       "        console.log(\"Bokeh: ERROR: Unable to embed document because BokehJS library is missing\")\n",
       "        clearInterval(timer);\n",
       "      }\n",
       "    }, 10, root)\n",
       "  }\n",
       "})(window);"
      ],
      "application/vnd.bokehjs_exec.v0+json": ""
     },
     "metadata": {
      "application/vnd.bokehjs_exec.v0+json": {
       "id": "b1331ed7-9e71-4bbd-8422-aaec28bcf82f"
      }
     },
     "output_type": "display_data"
    }
   ],
   "source": [
    "from bokeh.plotting import figure, output_file, show, ColumnDataSource\n",
    "from bokeh.models import HoverTool\n",
    "import matplotlib as mpl\n",
    "from bokeh.io import push_notebook, show, output_notebook\n",
    "from bokeh.models import HoverTool\n",
    "output_notebook()\n",
    "\n",
    "#define points\n",
    "source = ColumnDataSource(\n",
    "        data={\n",
    "            \"x\": projected[0,:],\n",
    "            \"y\":projected[1,:],\n",
    "            \"desc\":names,\n",
    "            \"rating\":ratings,\n",
    "            #color depending on rating red, bad , green good\n",
    "            \"color\":[\n",
    "    \"#%02x%02x%02x\" % (255-int(r), int(g), 0) for r, g, b, _ in 255*mpl.cm.viridis(mpl.colors.Normalize()(ratings))\n",
    "]\n",
    "        }\n",
    "    )\n",
    "\n",
    "#hover tool, show rating\n",
    "hover = HoverTool(\n",
    "        tooltips=[\n",
    "            (\"index\", \"$index\"),\n",
    "            (\"(x,y)\", \"($x, $y)\"),\n",
    "            (\"Name\", \"@desc\"),\n",
    "            (\"Rating\", \"@rating\"),\n",
    "        ]\n",
    "    )\n",
    "\n",
    "p = figure(plot_width=400, plot_height=400, tools=[hover],\n",
    "           title=\"Visualization of selected movie ratings, projected\")\n",
    "p.xaxis.axis_label = 'First Principal Component (overall movie quality and ratings)'\n",
    "p.yaxis.axis_label = 'Second Principal Component (emotional depth in movie)'\n",
    "\n",
    "p.circle(x='x',y= 'y', fill_alpha=0.2, color=\"color\", size=10, source=source)\n",
    "\n",
    "show(p)"
   ]
  },
  {
   "cell_type": "markdown",
   "metadata": {},
   "source": [
    "*  Based on your knowledge of these movies and information that you can get from the web, explain the coordinates of a few of the movies.\n",
    "\n",
    "* How do the PCA directions correlate with the Rotten Tomatoes score?\n",
    "\n"
   ]
  },
  {
   "cell_type": "markdown",
   "metadata": {
    "collapsed": true
   },
   "source": [
    "Generally, one can see that the better rated movies are more to the right side of the graph while the bad ratings can be found on the left. So the first PCA direction seems to correlate with the rotten tomato scores. That makes sense as we labelled the first principle component as \"overall movie quality and ratings\" in the section above.\n",
    "\n",
    "We labelled the second eigenvector as \"emotional depth in movie\". That fits quite well. If we take the movie **The Matrix**, it is rated quite well in rotten tomatos and correspondingly pretty far to the right for the first principal component. The movie is a mix if sci-fi and action and does not really focus on human realtionships. So it does not have much emotional depth, which makes it be very low on the second component. \n",
    "\n",
    "Similar insight applies to **Fight Club**. We can see though that fight club is much further to the right on the first priciple component. That is probably because the key words (drama, dramatic, social commentray) from the first eigenvector fit it better than The Matrix. Also, though The Matrix won some oscars and awards they where mostly for visual effects but Fight Club also has awards for the acting. For the principle component we can say that Fight Club focuses a bit on human relationships and love which puts it closer to the middle of the second principal component. It is interesting to notice that IMDb recommends The Matrix and Forest Gump when visiting the Fight Club IMDb page. All those movies are quite close together so IMDb seems to use similar principal components for recommendation.\n",
    "\n",
    "If we take a look on **Just My Luck** this movie is basically the opposite to The Matrix. It is only about love and realtionships, so it is supposed to be about emotionally deep topics but it is more of a silly, bad rated movie. Thus low on the first but high on the second component."
   ]
  },
  {
   "cell_type": "markdown",
   "metadata": {},
   "source": [
    "Try projecting the movies on subsequent principal directions. Does it make sense based on your knowledge of these movies? (Not needed for the hand-in)"
   ]
  }
 ],
 "metadata": {
  "anaconda-cloud": {},
  "kernelspec": {
   "display_name": "Python 3",
   "language": "python",
   "name": "python3"
  },
  "language_info": {
   "codemirror_mode": {
    "name": "ipython",
    "version": 3
   },
   "file_extension": ".py",
   "mimetype": "text/x-python",
   "name": "python",
   "nbconvert_exporter": "python",
   "pygments_lexer": "ipython3",
   "version": "3.6.3"
  }
 },
 "nbformat": 4,
 "nbformat_minor": 1
}
